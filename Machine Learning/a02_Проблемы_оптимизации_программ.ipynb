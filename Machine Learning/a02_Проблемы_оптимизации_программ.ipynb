{
  "nbformat": 4,
  "nbformat_minor": 0,
  "metadata": {
    "colab": {
      "provenance": []
    },
    "kernelspec": {
      "name": "python3",
      "display_name": "Python 3"
    },
    "language_info": {
      "name": "python"
    }
  },
  "cells": [
    {
      "cell_type": "markdown",
      "source": [
        "*По материалам доцента НИЯУ МИФИ Евгения Роганова Александровича.*\n",
        "\n",
        "Мы в курсе часто разбираем разные вопросы оптимизация программ. Правда ли это на что-то влияет? Да!\n",
        "\n",
        "Посмотриите два кода ниже. В них разница только в одной строке кода. А в итоге производительность уменьшается на 10%.\n",
        "\n",
        "Это **очень** важно.\n"
      ],
      "metadata": {
        "id": "r69NqpK77pdq"
      }
    },
    {
      "cell_type": "code",
      "source": [
        "import timeit\n",
        "code_to_test = \"\"\"\n",
        "s = 0.0\n",
        "i = 0\n",
        "\n",
        "while i < 1000000:\n",
        "  i += 1\n",
        "  s += 1.0\n",
        "\"\"\"\n",
        "\n",
        "elapsed_time =  timeit.timeit(code_to_test, number=100)/100\n",
        "print(elapsed_time)\n"
      ],
      "metadata": {
        "colab": {
          "base_uri": "https://localhost:8080/"
        },
        "id": "HyZYYGET7D-L",
        "outputId": "eba87eac-2750-4af3-c6c1-da3ffba02758"
      },
      "execution_count": 6,
      "outputs": [
        {
          "output_type": "stream",
          "name": "stdout",
          "text": [
            "0.10178487485999994\n"
          ]
        }
      ]
    },
    {
      "cell_type": "code",
      "source": [
        "import timeit\n",
        "code_to_test = \"\"\"\n",
        "s = 0.0\n",
        "i = 0\n",
        "\n",
        "while i < 1000000:\n",
        "  i += 1\n",
        "  s += 1\n",
        "\"\"\"\n",
        "\n",
        "elapsed_time =  timeit.timeit(code_to_test, number=100)/100\n",
        "print(elapsed_time)"
      ],
      "metadata": {
        "colab": {
          "base_uri": "https://localhost:8080/"
        },
        "id": "9zIY3jS07i6r",
        "outputId": "dc4f38f4-a0c4-4a6f-bab0-32b8245ade83"
      },
      "execution_count": 7,
      "outputs": [
        {
          "output_type": "stream",
          "name": "stdout",
          "text": [
            "0.11620260288999816\n"
          ]
        }
      ]
    }
  ]
}