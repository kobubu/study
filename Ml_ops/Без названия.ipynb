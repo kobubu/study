{
 "cells": [
  {
   "cell_type": "code",
   "execution_count": 2,
   "id": "9805b257",
   "metadata": {},
   "outputs": [],
   "source": [
    "import time\n",
    "import numpy as np\n",
    "from joblib import Parallel, delayed\n",
    "from tqdm import tqdm"
   ]
  },
  {
   "cell_type": "code",
   "execution_count": 5,
   "id": "033083ac",
   "metadata": {},
   "outputs": [
    {
     "data": {
      "text/plain": [
       "100000"
      ]
     },
     "execution_count": 5,
     "metadata": {},
     "output_type": "execute_result"
    }
   ],
   "source": [
    "x = list(x)\n",
    "y = list(y)\n",
    "len(x)"
   ]
  },
  {
   "cell_type": "code",
   "execution_count": null,
   "id": "11b5092b",
   "metadata": {},
   "outputs": [
    {
     "name": "stderr",
     "output_type": "stream",
     "text": [
      " 66%|███████████████████████████▊              | 6623/10000 [02:09<00:52, 63.79it/s]"
     ]
    }
   ],
   "source": [
    "%%time\n",
    "def slow_function():\n",
    "    return [x[i] + y[i] for i in range(len(x))]\n",
    "\n",
    "# Многопоточная версия (НЕ ускорит из-за GIL)\n",
    "result = Parallel(n_jobs=4, backend=\"threading\")(delayed(slow_function)() for i in tqdm(range(10000)))\n",
    "\n",
    "print(result)"
   ]
  },
  {
   "cell_type": "code",
   "execution_count": 3,
   "id": "0075eca7",
   "metadata": {},
   "outputs": [
    {
     "data": {
      "text/plain": [
       "(100000,)"
      ]
     },
     "execution_count": 3,
     "metadata": {},
     "output_type": "execute_result"
    }
   ],
   "source": [
    "x = np.random.randint(1, 10, 100000)\n",
    "y = np.random.randint(1, 10, 100000)\n",
    "x.shape"
   ]
  },
  {
   "cell_type": "code",
   "execution_count": 4,
   "id": "528cadc5",
   "metadata": {},
   "outputs": [
    {
     "name": "stderr",
     "output_type": "stream",
     "text": [
      "100%|███████████████████████████████████████| 50000/50000 [00:11<00:00, 4500.00it/s]"
     ]
    },
    {
     "name": "stdout",
     "output_type": "stream",
     "text": [
      "CPU times: user 13.2 s, sys: 24.4 s, total: 37.6 s\n",
      "Wall time: 11.2 s\n"
     ]
    },
    {
     "name": "stderr",
     "output_type": "stream",
     "text": [
      "\n"
     ]
    }
   ],
   "source": [
    "%%time\n",
    "def numpy_computation():\n",
    "    return x + y\n",
    "\n",
    "# Потоки смогут работать параллельно, потому что NumPy отключает GIL\n",
    "result = Parallel(n_jobs=8, backend=\"threading\")(delayed(numpy_computation)() for i in tqdm(range(50000)))"
   ]
  },
  {
   "cell_type": "code",
   "execution_count": 1,
   "id": "df1d79ef",
   "metadata": {},
   "outputs": [
    {
     "ename": "NameError",
     "evalue": "name 'tqdm' is not defined",
     "output_type": "error",
     "traceback": [
      "\u001b[0;31m---------------------------------------------------------------------------\u001b[0m",
      "\u001b[0;31mNameError\u001b[0m                                 Traceback (most recent call last)",
      "\u001b[0;32m<timed exec>\u001b[0m in \u001b[0;36m<module>\u001b[0;34m\u001b[0m\n",
      "\u001b[0;31mNameError\u001b[0m: name 'tqdm' is not defined"
     ]
    }
   ],
   "source": [
    "%%time\n",
    "# def numpy_computation():\n",
    "#     return x + y\n",
    "result = [numpy_computation() for i in tqdm(range(100000))]"
   ]
  },
  {
   "cell_type": "code",
   "execution_count": null,
   "id": "9fd9fd93",
   "metadata": {},
   "outputs": [],
   "source": []
  }
 ],
 "metadata": {
  "kernelspec": {
   "display_name": "Python 3 (ipykernel)",
   "language": "python",
   "name": "python3"
  },
  "language_info": {
   "codemirror_mode": {
    "name": "ipython",
    "version": 3
   },
   "file_extension": ".py",
   "mimetype": "text/x-python",
   "name": "python",
   "nbconvert_exporter": "python",
   "pygments_lexer": "ipython3",
   "version": "3.9.7"
  }
 },
 "nbformat": 4,
 "nbformat_minor": 5
}
