{
  "nbformat": 4,
  "nbformat_minor": 0,
  "metadata": {
    "colab": {
      "provenance": []
    },
    "kernelspec": {
      "name": "python3",
      "display_name": "Python 3"
    },
    "language_info": {
      "name": "python"
    }
  },
  "cells": [
    {
      "cell_type": "markdown",
      "source": [
        "## EDA"
      ],
      "metadata": {
        "id": "eBLo-0nqrKUb"
      }
    },
    {
      "cell_type": "markdown",
      "source": [
        "Изучим представленные данные"
      ],
      "metadata": {
        "id": "TCyOLSd2rM11"
      }
    },
    {
      "cell_type": "code",
      "execution_count": null,
      "metadata": {
        "id": "n7C6BRnLXomp"
      },
      "outputs": [],
      "source": [
        "import pandas as pd"
      ]
    },
    {
      "cell_type": "code",
      "source": [
        "df = pd.read_csv('marketing_AB.csv')"
      ],
      "metadata": {
        "id": "kwSE-sGEbAqO"
      },
      "execution_count": null,
      "outputs": []
    },
    {
      "cell_type": "code",
      "source": [
        "df.head()"
      ],
      "metadata": {
        "colab": {
          "base_uri": "https://localhost:8080/",
          "height": 206
        },
        "id": "rQjYRsN_baHW",
        "outputId": "7eeadda6-a4c7-4e3a-caf8-ac98c0c4d131"
      },
      "execution_count": null,
      "outputs": [
        {
          "output_type": "execute_result",
          "data": {
            "text/plain": [
              "   Unnamed: 0  user id test group  converted  total ads most ads day  \\\n",
              "0           0  1069124         ad      False        130       Monday   \n",
              "1           1  1119715         ad      False         93      Tuesday   \n",
              "2           2  1144181         ad      False         21      Tuesday   \n",
              "3           3  1435133         ad      False        355      Tuesday   \n",
              "4           4  1015700         ad      False        276       Friday   \n",
              "\n",
              "   most ads hour  \n",
              "0             20  \n",
              "1             22  \n",
              "2             18  \n",
              "3             10  \n",
              "4             14  "
            ],
            "text/html": [
              "\n",
              "  <div id=\"df-66577edf-6b15-4db3-980f-8b2a2a789b3a\" class=\"colab-df-container\">\n",
              "    <div>\n",
              "<style scoped>\n",
              "    .dataframe tbody tr th:only-of-type {\n",
              "        vertical-align: middle;\n",
              "    }\n",
              "\n",
              "    .dataframe tbody tr th {\n",
              "        vertical-align: top;\n",
              "    }\n",
              "\n",
              "    .dataframe thead th {\n",
              "        text-align: right;\n",
              "    }\n",
              "</style>\n",
              "<table border=\"1\" class=\"dataframe\">\n",
              "  <thead>\n",
              "    <tr style=\"text-align: right;\">\n",
              "      <th></th>\n",
              "      <th>Unnamed: 0</th>\n",
              "      <th>user id</th>\n",
              "      <th>test group</th>\n",
              "      <th>converted</th>\n",
              "      <th>total ads</th>\n",
              "      <th>most ads day</th>\n",
              "      <th>most ads hour</th>\n",
              "    </tr>\n",
              "  </thead>\n",
              "  <tbody>\n",
              "    <tr>\n",
              "      <th>0</th>\n",
              "      <td>0</td>\n",
              "      <td>1069124</td>\n",
              "      <td>ad</td>\n",
              "      <td>False</td>\n",
              "      <td>130</td>\n",
              "      <td>Monday</td>\n",
              "      <td>20</td>\n",
              "    </tr>\n",
              "    <tr>\n",
              "      <th>1</th>\n",
              "      <td>1</td>\n",
              "      <td>1119715</td>\n",
              "      <td>ad</td>\n",
              "      <td>False</td>\n",
              "      <td>93</td>\n",
              "      <td>Tuesday</td>\n",
              "      <td>22</td>\n",
              "    </tr>\n",
              "    <tr>\n",
              "      <th>2</th>\n",
              "      <td>2</td>\n",
              "      <td>1144181</td>\n",
              "      <td>ad</td>\n",
              "      <td>False</td>\n",
              "      <td>21</td>\n",
              "      <td>Tuesday</td>\n",
              "      <td>18</td>\n",
              "    </tr>\n",
              "    <tr>\n",
              "      <th>3</th>\n",
              "      <td>3</td>\n",
              "      <td>1435133</td>\n",
              "      <td>ad</td>\n",
              "      <td>False</td>\n",
              "      <td>355</td>\n",
              "      <td>Tuesday</td>\n",
              "      <td>10</td>\n",
              "    </tr>\n",
              "    <tr>\n",
              "      <th>4</th>\n",
              "      <td>4</td>\n",
              "      <td>1015700</td>\n",
              "      <td>ad</td>\n",
              "      <td>False</td>\n",
              "      <td>276</td>\n",
              "      <td>Friday</td>\n",
              "      <td>14</td>\n",
              "    </tr>\n",
              "  </tbody>\n",
              "</table>\n",
              "</div>\n",
              "    <div class=\"colab-df-buttons\">\n",
              "\n",
              "  <div class=\"colab-df-container\">\n",
              "    <button class=\"colab-df-convert\" onclick=\"convertToInteractive('df-66577edf-6b15-4db3-980f-8b2a2a789b3a')\"\n",
              "            title=\"Convert this dataframe to an interactive table.\"\n",
              "            style=\"display:none;\">\n",
              "\n",
              "  <svg xmlns=\"http://www.w3.org/2000/svg\" height=\"24px\" viewBox=\"0 -960 960 960\">\n",
              "    <path d=\"M120-120v-720h720v720H120Zm60-500h600v-160H180v160Zm220 220h160v-160H400v160Zm0 220h160v-160H400v160ZM180-400h160v-160H180v160Zm440 0h160v-160H620v160ZM180-180h160v-160H180v160Zm440 0h160v-160H620v160Z\"/>\n",
              "  </svg>\n",
              "    </button>\n",
              "\n",
              "  <style>\n",
              "    .colab-df-container {\n",
              "      display:flex;\n",
              "      gap: 12px;\n",
              "    }\n",
              "\n",
              "    .colab-df-convert {\n",
              "      background-color: #E8F0FE;\n",
              "      border: none;\n",
              "      border-radius: 50%;\n",
              "      cursor: pointer;\n",
              "      display: none;\n",
              "      fill: #1967D2;\n",
              "      height: 32px;\n",
              "      padding: 0 0 0 0;\n",
              "      width: 32px;\n",
              "    }\n",
              "\n",
              "    .colab-df-convert:hover {\n",
              "      background-color: #E2EBFA;\n",
              "      box-shadow: 0px 1px 2px rgba(60, 64, 67, 0.3), 0px 1px 3px 1px rgba(60, 64, 67, 0.15);\n",
              "      fill: #174EA6;\n",
              "    }\n",
              "\n",
              "    .colab-df-buttons div {\n",
              "      margin-bottom: 4px;\n",
              "    }\n",
              "\n",
              "    [theme=dark] .colab-df-convert {\n",
              "      background-color: #3B4455;\n",
              "      fill: #D2E3FC;\n",
              "    }\n",
              "\n",
              "    [theme=dark] .colab-df-convert:hover {\n",
              "      background-color: #434B5C;\n",
              "      box-shadow: 0px 1px 3px 1px rgba(0, 0, 0, 0.15);\n",
              "      filter: drop-shadow(0px 1px 2px rgba(0, 0, 0, 0.3));\n",
              "      fill: #FFFFFF;\n",
              "    }\n",
              "  </style>\n",
              "\n",
              "    <script>\n",
              "      const buttonEl =\n",
              "        document.querySelector('#df-66577edf-6b15-4db3-980f-8b2a2a789b3a button.colab-df-convert');\n",
              "      buttonEl.style.display =\n",
              "        google.colab.kernel.accessAllowed ? 'block' : 'none';\n",
              "\n",
              "      async function convertToInteractive(key) {\n",
              "        const element = document.querySelector('#df-66577edf-6b15-4db3-980f-8b2a2a789b3a');\n",
              "        const dataTable =\n",
              "          await google.colab.kernel.invokeFunction('convertToInteractive',\n",
              "                                                    [key], {});\n",
              "        if (!dataTable) return;\n",
              "\n",
              "        const docLinkHtml = 'Like what you see? Visit the ' +\n",
              "          '<a target=\"_blank\" href=https://colab.research.google.com/notebooks/data_table.ipynb>data table notebook</a>'\n",
              "          + ' to learn more about interactive tables.';\n",
              "        element.innerHTML = '';\n",
              "        dataTable['output_type'] = 'display_data';\n",
              "        await google.colab.output.renderOutput(dataTable, element);\n",
              "        const docLink = document.createElement('div');\n",
              "        docLink.innerHTML = docLinkHtml;\n",
              "        element.appendChild(docLink);\n",
              "      }\n",
              "    </script>\n",
              "  </div>\n",
              "\n",
              "\n",
              "    <div id=\"df-72486b6d-1610-4db6-9410-e107d6746568\">\n",
              "      <button class=\"colab-df-quickchart\" onclick=\"quickchart('df-72486b6d-1610-4db6-9410-e107d6746568')\"\n",
              "                title=\"Suggest charts\"\n",
              "                style=\"display:none;\">\n",
              "\n",
              "<svg xmlns=\"http://www.w3.org/2000/svg\" height=\"24px\"viewBox=\"0 0 24 24\"\n",
              "     width=\"24px\">\n",
              "    <g>\n",
              "        <path d=\"M19 3H5c-1.1 0-2 .9-2 2v14c0 1.1.9 2 2 2h14c1.1 0 2-.9 2-2V5c0-1.1-.9-2-2-2zM9 17H7v-7h2v7zm4 0h-2V7h2v10zm4 0h-2v-4h2v4z\"/>\n",
              "    </g>\n",
              "</svg>\n",
              "      </button>\n",
              "\n",
              "<style>\n",
              "  .colab-df-quickchart {\n",
              "      --bg-color: #E8F0FE;\n",
              "      --fill-color: #1967D2;\n",
              "      --hover-bg-color: #E2EBFA;\n",
              "      --hover-fill-color: #174EA6;\n",
              "      --disabled-fill-color: #AAA;\n",
              "      --disabled-bg-color: #DDD;\n",
              "  }\n",
              "\n",
              "  [theme=dark] .colab-df-quickchart {\n",
              "      --bg-color: #3B4455;\n",
              "      --fill-color: #D2E3FC;\n",
              "      --hover-bg-color: #434B5C;\n",
              "      --hover-fill-color: #FFFFFF;\n",
              "      --disabled-bg-color: #3B4455;\n",
              "      --disabled-fill-color: #666;\n",
              "  }\n",
              "\n",
              "  .colab-df-quickchart {\n",
              "    background-color: var(--bg-color);\n",
              "    border: none;\n",
              "    border-radius: 50%;\n",
              "    cursor: pointer;\n",
              "    display: none;\n",
              "    fill: var(--fill-color);\n",
              "    height: 32px;\n",
              "    padding: 0;\n",
              "    width: 32px;\n",
              "  }\n",
              "\n",
              "  .colab-df-quickchart:hover {\n",
              "    background-color: var(--hover-bg-color);\n",
              "    box-shadow: 0 1px 2px rgba(60, 64, 67, 0.3), 0 1px 3px 1px rgba(60, 64, 67, 0.15);\n",
              "    fill: var(--button-hover-fill-color);\n",
              "  }\n",
              "\n",
              "  .colab-df-quickchart-complete:disabled,\n",
              "  .colab-df-quickchart-complete:disabled:hover {\n",
              "    background-color: var(--disabled-bg-color);\n",
              "    fill: var(--disabled-fill-color);\n",
              "    box-shadow: none;\n",
              "  }\n",
              "\n",
              "  .colab-df-spinner {\n",
              "    border: 2px solid var(--fill-color);\n",
              "    border-color: transparent;\n",
              "    border-bottom-color: var(--fill-color);\n",
              "    animation:\n",
              "      spin 1s steps(1) infinite;\n",
              "  }\n",
              "\n",
              "  @keyframes spin {\n",
              "    0% {\n",
              "      border-color: transparent;\n",
              "      border-bottom-color: var(--fill-color);\n",
              "      border-left-color: var(--fill-color);\n",
              "    }\n",
              "    20% {\n",
              "      border-color: transparent;\n",
              "      border-left-color: var(--fill-color);\n",
              "      border-top-color: var(--fill-color);\n",
              "    }\n",
              "    30% {\n",
              "      border-color: transparent;\n",
              "      border-left-color: var(--fill-color);\n",
              "      border-top-color: var(--fill-color);\n",
              "      border-right-color: var(--fill-color);\n",
              "    }\n",
              "    40% {\n",
              "      border-color: transparent;\n",
              "      border-right-color: var(--fill-color);\n",
              "      border-top-color: var(--fill-color);\n",
              "    }\n",
              "    60% {\n",
              "      border-color: transparent;\n",
              "      border-right-color: var(--fill-color);\n",
              "    }\n",
              "    80% {\n",
              "      border-color: transparent;\n",
              "      border-right-color: var(--fill-color);\n",
              "      border-bottom-color: var(--fill-color);\n",
              "    }\n",
              "    90% {\n",
              "      border-color: transparent;\n",
              "      border-bottom-color: var(--fill-color);\n",
              "    }\n",
              "  }\n",
              "</style>\n",
              "\n",
              "      <script>\n",
              "        async function quickchart(key) {\n",
              "          const quickchartButtonEl =\n",
              "            document.querySelector('#' + key + ' button');\n",
              "          quickchartButtonEl.disabled = true;  // To prevent multiple clicks.\n",
              "          quickchartButtonEl.classList.add('colab-df-spinner');\n",
              "          try {\n",
              "            const charts = await google.colab.kernel.invokeFunction(\n",
              "                'suggestCharts', [key], {});\n",
              "          } catch (error) {\n",
              "            console.error('Error during call to suggestCharts:', error);\n",
              "          }\n",
              "          quickchartButtonEl.classList.remove('colab-df-spinner');\n",
              "          quickchartButtonEl.classList.add('colab-df-quickchart-complete');\n",
              "        }\n",
              "        (() => {\n",
              "          let quickchartButtonEl =\n",
              "            document.querySelector('#df-72486b6d-1610-4db6-9410-e107d6746568 button');\n",
              "          quickchartButtonEl.style.display =\n",
              "            google.colab.kernel.accessAllowed ? 'block' : 'none';\n",
              "        })();\n",
              "      </script>\n",
              "    </div>\n",
              "    </div>\n",
              "  </div>\n"
            ],
            "application/vnd.google.colaboratory.intrinsic+json": {
              "type": "dataframe",
              "variable_name": "df"
            }
          },
          "metadata": {},
          "execution_count": 82
        }
      ]
    },
    {
      "cell_type": "code",
      "source": [
        "df.info()"
      ],
      "metadata": {
        "colab": {
          "base_uri": "https://localhost:8080/"
        },
        "id": "3ueBAmOBblW6",
        "outputId": "318324ef-0ba7-4e55-a92f-39df0eac6ff9"
      },
      "execution_count": null,
      "outputs": [
        {
          "output_type": "stream",
          "name": "stdout",
          "text": [
            "<class 'pandas.core.frame.DataFrame'>\n",
            "RangeIndex: 588101 entries, 0 to 588100\n",
            "Data columns (total 7 columns):\n",
            " #   Column         Non-Null Count   Dtype \n",
            "---  ------         --------------   ----- \n",
            " 0   Unnamed: 0     588101 non-null  int64 \n",
            " 1   user id        588101 non-null  int64 \n",
            " 2   test group     588101 non-null  object\n",
            " 3   converted      588101 non-null  bool  \n",
            " 4   total ads      588101 non-null  int64 \n",
            " 5   most ads day   588101 non-null  object\n",
            " 6   most ads hour  588101 non-null  int64 \n",
            "dtypes: bool(1), int64(4), object(2)\n",
            "memory usage: 27.5+ MB\n"
          ]
        }
      ]
    },
    {
      "cell_type": "markdown",
      "source": [
        "Пропусков в данных нет"
      ],
      "metadata": {
        "id": "0O1tj3uKyIO-"
      }
    },
    {
      "cell_type": "code",
      "source": [
        "df['most ads day'].value_counts()"
      ],
      "metadata": {
        "colab": {
          "base_uri": "https://localhost:8080/",
          "height": 335
        },
        "id": "zVV8OrvimINS",
        "outputId": "2cabc4a6-d5e5-4158-ddee-bfed37223474"
      },
      "execution_count": null,
      "outputs": [
        {
          "output_type": "execute_result",
          "data": {
            "text/plain": [
              "most ads day\n",
              "Friday       92608\n",
              "Monday       87073\n",
              "Sunday       85391\n",
              "Thursday     82982\n",
              "Saturday     81660\n",
              "Wednesday    80908\n",
              "Tuesday      77479\n",
              "Name: count, dtype: int64"
            ],
            "text/html": [
              "<div>\n",
              "<style scoped>\n",
              "    .dataframe tbody tr th:only-of-type {\n",
              "        vertical-align: middle;\n",
              "    }\n",
              "\n",
              "    .dataframe tbody tr th {\n",
              "        vertical-align: top;\n",
              "    }\n",
              "\n",
              "    .dataframe thead th {\n",
              "        text-align: right;\n",
              "    }\n",
              "</style>\n",
              "<table border=\"1\" class=\"dataframe\">\n",
              "  <thead>\n",
              "    <tr style=\"text-align: right;\">\n",
              "      <th></th>\n",
              "      <th>count</th>\n",
              "    </tr>\n",
              "    <tr>\n",
              "      <th>most ads day</th>\n",
              "      <th></th>\n",
              "    </tr>\n",
              "  </thead>\n",
              "  <tbody>\n",
              "    <tr>\n",
              "      <th>Friday</th>\n",
              "      <td>92608</td>\n",
              "    </tr>\n",
              "    <tr>\n",
              "      <th>Monday</th>\n",
              "      <td>87073</td>\n",
              "    </tr>\n",
              "    <tr>\n",
              "      <th>Sunday</th>\n",
              "      <td>85391</td>\n",
              "    </tr>\n",
              "    <tr>\n",
              "      <th>Thursday</th>\n",
              "      <td>82982</td>\n",
              "    </tr>\n",
              "    <tr>\n",
              "      <th>Saturday</th>\n",
              "      <td>81660</td>\n",
              "    </tr>\n",
              "    <tr>\n",
              "      <th>Wednesday</th>\n",
              "      <td>80908</td>\n",
              "    </tr>\n",
              "    <tr>\n",
              "      <th>Tuesday</th>\n",
              "      <td>77479</td>\n",
              "    </tr>\n",
              "  </tbody>\n",
              "</table>\n",
              "</div><br><label><b>dtype:</b> int64</label>"
            ]
          },
          "metadata": {},
          "execution_count": 84
        }
      ]
    },
    {
      "cell_type": "code",
      "source": [
        "df['converted']"
      ],
      "metadata": {
        "colab": {
          "base_uri": "https://localhost:8080/",
          "height": 458
        },
        "id": "5V442N7yx7ef",
        "outputId": "cd0238b3-8310-4223-dddb-8e690958b40e"
      },
      "execution_count": null,
      "outputs": [
        {
          "output_type": "execute_result",
          "data": {
            "text/plain": [
              "0         False\n",
              "1         False\n",
              "2         False\n",
              "3         False\n",
              "4         False\n",
              "          ...  \n",
              "588096    False\n",
              "588097    False\n",
              "588098    False\n",
              "588099    False\n",
              "588100    False\n",
              "Name: converted, Length: 588101, dtype: bool"
            ],
            "text/html": [
              "<div>\n",
              "<style scoped>\n",
              "    .dataframe tbody tr th:only-of-type {\n",
              "        vertical-align: middle;\n",
              "    }\n",
              "\n",
              "    .dataframe tbody tr th {\n",
              "        vertical-align: top;\n",
              "    }\n",
              "\n",
              "    .dataframe thead th {\n",
              "        text-align: right;\n",
              "    }\n",
              "</style>\n",
              "<table border=\"1\" class=\"dataframe\">\n",
              "  <thead>\n",
              "    <tr style=\"text-align: right;\">\n",
              "      <th></th>\n",
              "      <th>converted</th>\n",
              "    </tr>\n",
              "  </thead>\n",
              "  <tbody>\n",
              "    <tr>\n",
              "      <th>0</th>\n",
              "      <td>False</td>\n",
              "    </tr>\n",
              "    <tr>\n",
              "      <th>1</th>\n",
              "      <td>False</td>\n",
              "    </tr>\n",
              "    <tr>\n",
              "      <th>2</th>\n",
              "      <td>False</td>\n",
              "    </tr>\n",
              "    <tr>\n",
              "      <th>3</th>\n",
              "      <td>False</td>\n",
              "    </tr>\n",
              "    <tr>\n",
              "      <th>4</th>\n",
              "      <td>False</td>\n",
              "    </tr>\n",
              "    <tr>\n",
              "      <th>...</th>\n",
              "      <td>...</td>\n",
              "    </tr>\n",
              "    <tr>\n",
              "      <th>588096</th>\n",
              "      <td>False</td>\n",
              "    </tr>\n",
              "    <tr>\n",
              "      <th>588097</th>\n",
              "      <td>False</td>\n",
              "    </tr>\n",
              "    <tr>\n",
              "      <th>588098</th>\n",
              "      <td>False</td>\n",
              "    </tr>\n",
              "    <tr>\n",
              "      <th>588099</th>\n",
              "      <td>False</td>\n",
              "    </tr>\n",
              "    <tr>\n",
              "      <th>588100</th>\n",
              "      <td>False</td>\n",
              "    </tr>\n",
              "  </tbody>\n",
              "</table>\n",
              "<p>588101 rows × 1 columns</p>\n",
              "</div><br><label><b>dtype:</b> bool</label>"
            ]
          },
          "metadata": {},
          "execution_count": 85
        }
      ]
    },
    {
      "cell_type": "markdown",
      "source": [
        "Видно, что часть данных относится к категориальным. Преобразуем в категориальный тип данных нужные признаки."
      ],
      "metadata": {
        "id": "4mLs6d9C9geV"
      }
    },
    {
      "cell_type": "code",
      "source": [
        "df['test group'] = df['test group'].astype('category')\n",
        "df['most ads day'] = df['most ads day'].astype('category')\n",
        "df['converted'] = df['converted'].astype(int)\n",
        "df['converted']"
      ],
      "metadata": {
        "colab": {
          "base_uri": "https://localhost:8080/",
          "height": 458
        },
        "id": "zk2KOh8TxqNE",
        "outputId": "74d11d33-df52-4220-f97c-756d27c567ef"
      },
      "execution_count": null,
      "outputs": [
        {
          "output_type": "execute_result",
          "data": {
            "text/plain": [
              "0         0\n",
              "1         0\n",
              "2         0\n",
              "3         0\n",
              "4         0\n",
              "         ..\n",
              "588096    0\n",
              "588097    0\n",
              "588098    0\n",
              "588099    0\n",
              "588100    0\n",
              "Name: converted, Length: 588101, dtype: int64"
            ],
            "text/html": [
              "<div>\n",
              "<style scoped>\n",
              "    .dataframe tbody tr th:only-of-type {\n",
              "        vertical-align: middle;\n",
              "    }\n",
              "\n",
              "    .dataframe tbody tr th {\n",
              "        vertical-align: top;\n",
              "    }\n",
              "\n",
              "    .dataframe thead th {\n",
              "        text-align: right;\n",
              "    }\n",
              "</style>\n",
              "<table border=\"1\" class=\"dataframe\">\n",
              "  <thead>\n",
              "    <tr style=\"text-align: right;\">\n",
              "      <th></th>\n",
              "      <th>converted</th>\n",
              "    </tr>\n",
              "  </thead>\n",
              "  <tbody>\n",
              "    <tr>\n",
              "      <th>0</th>\n",
              "      <td>0</td>\n",
              "    </tr>\n",
              "    <tr>\n",
              "      <th>1</th>\n",
              "      <td>0</td>\n",
              "    </tr>\n",
              "    <tr>\n",
              "      <th>2</th>\n",
              "      <td>0</td>\n",
              "    </tr>\n",
              "    <tr>\n",
              "      <th>3</th>\n",
              "      <td>0</td>\n",
              "    </tr>\n",
              "    <tr>\n",
              "      <th>4</th>\n",
              "      <td>0</td>\n",
              "    </tr>\n",
              "    <tr>\n",
              "      <th>...</th>\n",
              "      <td>...</td>\n",
              "    </tr>\n",
              "    <tr>\n",
              "      <th>588096</th>\n",
              "      <td>0</td>\n",
              "    </tr>\n",
              "    <tr>\n",
              "      <th>588097</th>\n",
              "      <td>0</td>\n",
              "    </tr>\n",
              "    <tr>\n",
              "      <th>588098</th>\n",
              "      <td>0</td>\n",
              "    </tr>\n",
              "    <tr>\n",
              "      <th>588099</th>\n",
              "      <td>0</td>\n",
              "    </tr>\n",
              "    <tr>\n",
              "      <th>588100</th>\n",
              "      <td>0</td>\n",
              "    </tr>\n",
              "  </tbody>\n",
              "</table>\n",
              "<p>588101 rows × 1 columns</p>\n",
              "</div><br><label><b>dtype:</b> int64</label>"
            ]
          },
          "metadata": {},
          "execution_count": 86
        }
      ]
    },
    {
      "cell_type": "code",
      "source": [
        "df['user id'].value_counts()"
      ],
      "metadata": {
        "colab": {
          "base_uri": "https://localhost:8080/",
          "height": 490
        },
        "id": "ZQQwYm0giznD",
        "outputId": "0cb3808e-6ca4-466f-d137-34c486462328"
      },
      "execution_count": null,
      "outputs": [
        {
          "output_type": "execute_result",
          "data": {
            "text/plain": [
              "user id\n",
              "1237779    1\n",
              "1069124    1\n",
              "1119715    1\n",
              "1144181    1\n",
              "1435133    1\n",
              "          ..\n",
              "1446284    1\n",
              "1448851    1\n",
              "1496843    1\n",
              "1116205    1\n",
              "1137664    1\n",
              "Name: count, Length: 588101, dtype: int64"
            ],
            "text/html": [
              "<div>\n",
              "<style scoped>\n",
              "    .dataframe tbody tr th:only-of-type {\n",
              "        vertical-align: middle;\n",
              "    }\n",
              "\n",
              "    .dataframe tbody tr th {\n",
              "        vertical-align: top;\n",
              "    }\n",
              "\n",
              "    .dataframe thead th {\n",
              "        text-align: right;\n",
              "    }\n",
              "</style>\n",
              "<table border=\"1\" class=\"dataframe\">\n",
              "  <thead>\n",
              "    <tr style=\"text-align: right;\">\n",
              "      <th></th>\n",
              "      <th>count</th>\n",
              "    </tr>\n",
              "    <tr>\n",
              "      <th>user id</th>\n",
              "      <th></th>\n",
              "    </tr>\n",
              "  </thead>\n",
              "  <tbody>\n",
              "    <tr>\n",
              "      <th>1237779</th>\n",
              "      <td>1</td>\n",
              "    </tr>\n",
              "    <tr>\n",
              "      <th>1069124</th>\n",
              "      <td>1</td>\n",
              "    </tr>\n",
              "    <tr>\n",
              "      <th>1119715</th>\n",
              "      <td>1</td>\n",
              "    </tr>\n",
              "    <tr>\n",
              "      <th>1144181</th>\n",
              "      <td>1</td>\n",
              "    </tr>\n",
              "    <tr>\n",
              "      <th>1435133</th>\n",
              "      <td>1</td>\n",
              "    </tr>\n",
              "    <tr>\n",
              "      <th>...</th>\n",
              "      <td>...</td>\n",
              "    </tr>\n",
              "    <tr>\n",
              "      <th>1446284</th>\n",
              "      <td>1</td>\n",
              "    </tr>\n",
              "    <tr>\n",
              "      <th>1448851</th>\n",
              "      <td>1</td>\n",
              "    </tr>\n",
              "    <tr>\n",
              "      <th>1496843</th>\n",
              "      <td>1</td>\n",
              "    </tr>\n",
              "    <tr>\n",
              "      <th>1116205</th>\n",
              "      <td>1</td>\n",
              "    </tr>\n",
              "    <tr>\n",
              "      <th>1137664</th>\n",
              "      <td>1</td>\n",
              "    </tr>\n",
              "  </tbody>\n",
              "</table>\n",
              "<p>588101 rows × 1 columns</p>\n",
              "</div><br><label><b>dtype:</b> int64</label>"
            ]
          },
          "metadata": {},
          "execution_count": 87
        }
      ]
    },
    {
      "cell_type": "markdown",
      "source": [
        "Видим, что unamed: 0 фактически ненужная индексная колонка, удалим ее, и проверим пропуски"
      ],
      "metadata": {
        "id": "db2WZOC0i3UA"
      }
    },
    {
      "cell_type": "code",
      "source": [
        "df.drop(columns=['Unnamed: 0'], inplace=True)\n",
        "print(df.isnull().sum())"
      ],
      "metadata": {
        "colab": {
          "base_uri": "https://localhost:8080/"
        },
        "id": "ht_tZnG-jGxe",
        "outputId": "b8c08406-2fca-422d-a81d-c63b1fe9ab56"
      },
      "execution_count": null,
      "outputs": [
        {
          "output_type": "stream",
          "name": "stdout",
          "text": [
            "user id          0\n",
            "test group       0\n",
            "converted        0\n",
            "total ads        0\n",
            "most ads day     0\n",
            "most ads hour    0\n",
            "dtype: int64\n"
          ]
        }
      ]
    },
    {
      "cell_type": "markdown",
      "source": [
        "Пропусков нет"
      ],
      "metadata": {
        "id": "4OSFe5ejiqIQ"
      }
    },
    {
      "cell_type": "code",
      "source": [
        "print(df['test group'].unique())"
      ],
      "metadata": {
        "colab": {
          "base_uri": "https://localhost:8080/"
        },
        "id": "IODCsIb4cAxH",
        "outputId": "2db9f13c-3897-4115-f465-465759710b8d"
      },
      "execution_count": null,
      "outputs": [
        {
          "output_type": "stream",
          "name": "stdout",
          "text": [
            "['ad', 'psa']\n",
            "Categories (2, object): ['ad', 'psa']\n"
          ]
        }
      ]
    },
    {
      "cell_type": "markdown",
      "source": [
        "В тестовой группе пользователи разделены на тех, кто видел рекламу и не видел.\n",
        "Сделаем 2 датасета и посмотрим, сколько в каждом пользователей."
      ],
      "metadata": {
        "id": "KKD9CK-gkjol"
      }
    },
    {
      "cell_type": "code",
      "source": [
        "group_ad = df[df['test group'] == 'ad']\n",
        "group_psa = df[df['test group'] == 'psa']"
      ],
      "metadata": {
        "id": "ZO9XFD2cmbKh"
      },
      "execution_count": null,
      "outputs": []
    },
    {
      "cell_type": "code",
      "source": [
        "print(f\"Всего записей в данных: {len(df)}\")\n",
        "\n",
        "print(\"Распределение по группам:\")\n",
        "print(df['test group'].value_counts())\n",
        "\n",
        "print(f\"Уникальных пользователей: {df['user id'].nunique()}\")\n",
        "print(f\"Дубликатов user id: {len(df) - df['user id'].nunique()}\")"
      ],
      "metadata": {
        "colab": {
          "base_uri": "https://localhost:8080/"
        },
        "id": "asCF3glOnm0K",
        "outputId": "a665f556-2356-4e6d-a7c0-24ac2a5f9418"
      },
      "execution_count": null,
      "outputs": [
        {
          "output_type": "stream",
          "name": "stdout",
          "text": [
            "Всего записей в данных: 588101\n",
            "Распределение по группам:\n",
            "test group\n",
            "ad     564577\n",
            "psa     23524\n",
            "Name: count, dtype: int64\n",
            "Уникальных пользователей: 588101\n",
            "Дубликатов user id: 0\n"
          ]
        }
      ]
    },
    {
      "cell_type": "markdown",
      "source": [
        "Сделаем визуальную проверку на нормальность распределения"
      ],
      "metadata": {
        "id": "lRniN0Y-ZLSw"
      }
    },
    {
      "cell_type": "code",
      "source": [
        "plt.figure(figsize=(12, 5))\n",
        "\n",
        "# Группа A (ad)\n",
        "plt.subplot(1, 2, 1)\n",
        "sns.histplot(group_ad['total ads'], bins=30, kde=True)\n",
        "plt.title('Распределение total ads (Группа A)')\n",
        "plt.xlabel('Количество рекламных показов')\n",
        "plt.ylabel('Частота')\n",
        "\n",
        "# Группа B (psa)\n",
        "plt.subplot(1, 2, 2)\n",
        "sns.histplot(group_psa['total ads'], bins=30, kde=True)\n",
        "plt.title('Распределение total ads (Группа B)')\n",
        "plt.xlabel('Количество рекламных показов')\n",
        "plt.ylabel('Частота')\n",
        "\n",
        "plt.tight_layout()\n",
        "plt.show()"
      ],
      "metadata": {
        "colab": {
          "base_uri": "https://localhost:8080/",
          "height": 507
        },
        "id": "cS1ojpfHZF7-",
        "outputId": "64e6a4bc-466e-4311-a0ac-a2eb262b1561"
      },
      "execution_count": null,
      "outputs": [
        {
          "output_type": "display_data",
          "data": {
            "text/plain": [
              "<Figure size 1200x500 with 2 Axes>"
            ],
            "image/png": "[encoded data removed]"
          },
          "metadata": {}
        }
      ]
    },
    {
      "cell_type": "markdown",
      "source": [
        "Визуальный анализ показывает, что распределение количества рекламных показов не соответствует нормальному распределению в обеих группах.\n",
        "Кроме того, по совету ментора для бинарных метрик(converted), будем использовать z-тест для пропорций."
      ],
      "metadata": {
        "id": "XWTjMQBIZJDs"
      }
    },
    {
      "cell_type": "code",
      "source": [
        "from scipy.stats import shapiro, ks_2samp\n",
        "\n",
        "shapiro_a = shapiro(group_ad['total ads'].sample(5000, random_state=42))\n",
        "print(f\"Тест Шапиро-Уилка для группы A: W = {shapiro_a[0]:.3f}, p-value = {shapiro_a[1]:.3e}\")\n",
        "\n",
        "shapiro_b = shapiro(group_psa['total ads'].sample(5000, random_state=42))\n",
        "print(f\"Тест Шапиро-Уилка для группы B: W = {shapiro_b[0]:.3f}, p-value = {shapiro_b[1]:.3e}\")\n",
        "\n",
        "ks_test = ks_2samp(group_ad['total ads'], group_psa['total ads'])\n",
        "print(f\"Тест Колмогорова-Смирнова: D = {ks_test[0]:.3f}, p-value = {ks_test[1]:.3e}\")"
      ],
      "metadata": {
        "colab": {
          "base_uri": "https://localhost:8080/"
        },
        "id": "1yP2CyzUZe-i",
        "outputId": "87f66786-f37f-4ffd-a09a-b312120c08c6"
      },
      "execution_count": null,
      "outputs": [
        {
          "output_type": "stream",
          "name": "stdout",
          "text": [
            "Тест Шапиро-Уилка для группы A: W = 0.515, p-value = 1.640e-79\n",
            "Тест Шапиро-Уилка для группы B: W = 0.521, p-value = 3.327e-79\n",
            "Тест Колмогорова-Смирнова: D = 0.040, p-value = 2.343e-31\n"
          ]
        }
      ]
    },
    {
      "cell_type": "markdown",
      "source": [
        "Крайне низкие p-values (практически 0) однозначно указывают на то, что распределение количества рекламных показов в обеих группах значимо отличается от нормального распределения."
      ],
      "metadata": {
        "id": "ypnusIdKbHNA"
      }
    },
    {
      "cell_type": "markdown",
      "source": [
        "## Формулировка гипотез\n",
        "Нулевая гипотеза (H₀): Конверсия в группе A (реклама) равна конверсии в группе B (PSA).\n",
        "\n",
        "Альтернативная гипотеза (H₁): Конверсия в группе A (реклама) не равна конверсии в группе B (PSA)."
      ],
      "metadata": {
        "id": "As49u6q5rGWq"
      }
    },
    {
      "cell_type": "markdown",
      "source": [
        "Найдем количество пользователей в обеих группах"
      ],
      "metadata": {
        "id": "rzpZn-NF9ZbS"
      }
    },
    {
      "cell_type": "code",
      "source": [
        "intersection_users = list(set(df[df['test group'] == 'ad']['user id'].values) & \\\n",
        "set(df[df['test group'] == 'psa']['user id'].values))\n",
        "print('Кол-во пользователей, попавших в обе группы:', len(intersection_users))"
      ],
      "metadata": {
        "colab": {
          "base_uri": "https://localhost:8080/"
        },
        "id": "5uaBzQLk9Y0-",
        "outputId": "9c4ea9e9-d5f3-437b-e5b9-4a06bc5ca417"
      },
      "execution_count": null,
      "outputs": [
        {
          "output_type": "stream",
          "name": "stdout",
          "text": [
            "Кол-во пользователей, попавших в обе группы: 0\n"
          ]
        }
      ]
    },
    {
      "cell_type": "markdown",
      "source": [
        "Пересекающихся групп нет, все хорошо. Построим гистограммы времени на сайте группы а и б"
      ],
      "metadata": {
        "id": "K8KM8Z6lCRmY"
      }
    },
    {
      "cell_type": "code",
      "source": [
        "import matplotlib.pyplot as plt\n",
        "import seaborn as sns\n",
        "fig, axes = plt.subplots(1, 2, figsize=(12, 4))\n",
        "sns.histplot(x='most ads day', data=group_ad, ax=axes[0])\n",
        "sns.histplot(x='most ads day', data=group_psa, ax=axes[1])\n",
        "\n",
        "axes[0].set_title('Распределение времени на сайте в группе А');\n",
        "axes[1].set_title('Распределение времени на сайте в группе B');"
      ],
      "metadata": {
        "colab": {
          "base_uri": "https://localhost:8080/",
          "height": 410
        },
        "id": "oZnDJpKHgUoP",
        "outputId": "57c7278a-47f3-43b6-fe3c-3a99a0a49ff9"
      },
      "execution_count": null,
      "outputs": [
        {
          "output_type": "display_data",
          "data": {
            "text/plain": [
              "<Figure size 1200x400 with 2 Axes>"
            ],
            "image/png": "[encoded data removed]"
          },
          "metadata": {}
        }
      ]
    },
    {
      "cell_type": "markdown",
      "source": [
        "Посчитаем конверсию"
      ],
      "metadata": {
        "id": "eQkX4vVmuthJ"
      }
    },
    {
      "cell_type": "code",
      "source": [
        "grouped_data = df.groupby('test group').agg({'user id': 'count', 'converted': 'sum', 'total ads': 'sum'}).rename({'user id': 'count_of_visits', 'converted': 'count_of_purchases'}, axis=1)\n",
        "grouped_data['conversion'] = grouped_data['count_of_purchases'] / grouped_data['count_of_visits'] * 100\n",
        "grouped_data['mean ads'] = grouped_data['total ads'] / grouped_data['count_of_visits']\n",
        "display(grouped_data)"
      ],
      "metadata": {
        "colab": {
          "base_uri": "https://localhost:8080/",
          "height": 198
        },
        "id": "AD1rtVBSpEWo",
        "outputId": "32f1e85a-e9d1-4f0c-90d1-7c4b0f347b19"
      },
      "execution_count": null,
      "outputs": [
        {
          "output_type": "stream",
          "name": "stderr",
          "text": [
            "<ipython-input-96-a3bdc118310f>:1: FutureWarning: The default of observed=False is deprecated and will be changed to True in a future version of pandas. Pass observed=False to retain current behavior or observed=True to adopt the future default and silence this warning.\n",
            "  grouped_data = df.groupby('test group').agg({'user id': 'count', 'converted': 'sum', 'total ads': 'sum'}).rename({'user id': 'count_of_visits', 'converted': 'count_of_purchases'}, axis=1)\n"
          ]
        },
        {
          "output_type": "display_data",
          "data": {
            "text/plain": [
              "            count_of_visits  count_of_purchases  total ads  conversion  \\\n",
              "test group                                                               \n",
              "ad                   564577               14423   14014701    2.554656   \n",
              "psa                   23524                 420     582481    1.785411   \n",
              "\n",
              "             mean ads  \n",
              "test group             \n",
              "ad          24.823365  \n",
              "psa         24.761138  "
            ],
            "text/html": [
              "\n",
              "  <div id=\"df-15e41d5c-e725-4f21-9cd4-6a4bb5b479da\" class=\"colab-df-container\">\n",
              "    <div>\n",
              "<style scoped>\n",
              "    .dataframe tbody tr th:only-of-type {\n",
              "        vertical-align: middle;\n",
              "    }\n",
              "\n",
              "    .dataframe tbody tr th {\n",
              "        vertical-align: top;\n",
              "    }\n",
              "\n",
              "    .dataframe thead th {\n",
              "        text-align: right;\n",
              "    }\n",
              "</style>\n",
              "<table border=\"1\" class=\"dataframe\">\n",
              "  <thead>\n",
              "    <tr style=\"text-align: right;\">\n",
              "      <th></th>\n",
              "      <th>count_of_visits</th>\n",
              "      <th>count_of_purchases</th>\n",
              "      <th>total ads</th>\n",
              "      <th>conversion</th>\n",
              "      <th>mean ads</th>\n",
              "    </tr>\n",
              "    <tr>\n",
              "      <th>test group</th>\n",
              "      <th></th>\n",
              "      <th></th>\n",
              "      <th></th>\n",
              "      <th></th>\n",
              "      <th></th>\n",
              "    </tr>\n",
              "  </thead>\n",
              "  <tbody>\n",
              "    <tr>\n",
              "      <th>ad</th>\n",
              "      <td>564577</td>\n",
              "      <td>14423</td>\n",
              "      <td>14014701</td>\n",
              "      <td>2.554656</td>\n",
              "      <td>24.823365</td>\n",
              "    </tr>\n",
              "    <tr>\n",
              "      <th>psa</th>\n",
              "      <td>23524</td>\n",
              "      <td>420</td>\n",
              "      <td>582481</td>\n",
              "      <td>1.785411</td>\n",
              "      <td>24.761138</td>\n",
              "    </tr>\n",
              "  </tbody>\n",
              "</table>\n",
              "</div>\n",
              "    <div class=\"colab-df-buttons\">\n",
              "\n",
              "  <div class=\"colab-df-container\">\n",
              "    <button class=\"colab-df-convert\" onclick=\"convertToInteractive('df-15e41d5c-e725-4f21-9cd4-6a4bb5b479da')\"\n",
              "            title=\"Convert this dataframe to an interactive table.\"\n",
              "            style=\"display:none;\">\n",
              "\n",
              "  <svg xmlns=\"http://www.w3.org/2000/svg\" height=\"24px\" viewBox=\"0 -960 960 960\">\n",
              "    <path d=\"M120-120v-720h720v720H120Zm60-500h600v-160H180v160Zm220 220h160v-160H400v160Zm0 220h160v-160H400v160ZM180-400h160v-160H180v160Zm440 0h160v-160H620v160ZM180-180h160v-160H180v160Zm440 0h160v-160H620v160Z\"/>\n",
              "  </svg>\n",
              "    </button>\n",
              "\n",
              "  <style>\n",
              "    .colab-df-container {\n",
              "      display:flex;\n",
              "      gap: 12px;\n",
              "    }\n",
              "\n",
              "    .colab-df-convert {\n",
              "      background-color: #E8F0FE;\n",
              "      border: none;\n",
              "      border-radius: 50%;\n",
              "      cursor: pointer;\n",
              "      display: none;\n",
              "      fill: #1967D2;\n",
              "      height: 32px;\n",
              "      padding: 0 0 0 0;\n",
              "      width: 32px;\n",
              "    }\n",
              "\n",
              "    .colab-df-convert:hover {\n",
              "      background-color: #E2EBFA;\n",
              "      box-shadow: 0px 1px 2px rgba(60, 64, 67, 0.3), 0px 1px 3px 1px rgba(60, 64, 67, 0.15);\n",
              "      fill: #174EA6;\n",
              "    }\n",
              "\n",
              "    .colab-df-buttons div {\n",
              "      margin-bottom: 4px;\n",
              "    }\n",
              "\n",
              "    [theme=dark] .colab-df-convert {\n",
              "      background-color: #3B4455;\n",
              "      fill: #D2E3FC;\n",
              "    }\n",
              "\n",
              "    [theme=dark] .colab-df-convert:hover {\n",
              "      background-color: #434B5C;\n",
              "      box-shadow: 0px 1px 3px 1px rgba(0, 0, 0, 0.15);\n",
              "      filter: drop-shadow(0px 1px 2px rgba(0, 0, 0, 0.3));\n",
              "      fill: #FFFFFF;\n",
              "    }\n",
              "  </style>\n",
              "\n",
              "    <script>\n",
              "      const buttonEl =\n",
              "        document.querySelector('#df-15e41d5c-e725-4f21-9cd4-6a4bb5b479da button.colab-df-convert');\n",
              "      buttonEl.style.display =\n",
              "        google.colab.kernel.accessAllowed ? 'block' : 'none';\n",
              "\n",
              "      async function convertToInteractive(key) {\n",
              "        const element = document.querySelector('#df-15e41d5c-e725-4f21-9cd4-6a4bb5b479da');\n",
              "        const dataTable =\n",
              "          await google.colab.kernel.invokeFunction('convertToInteractive',\n",
              "                                                    [key], {});\n",
              "        if (!dataTable) return;\n",
              "\n",
              "        const docLinkHtml = 'Like what you see? Visit the ' +\n",
              "          '<a target=\"_blank\" href=https://colab.research.google.com/notebooks/data_table.ipynb>data table notebook</a>'\n",
              "          + ' to learn more about interactive tables.';\n",
              "        element.innerHTML = '';\n",
              "        dataTable['output_type'] = 'display_data';\n",
              "        await google.colab.output.renderOutput(dataTable, element);\n",
              "        const docLink = document.createElement('div');\n",
              "        docLink.innerHTML = docLinkHtml;\n",
              "        element.appendChild(docLink);\n",
              "      }\n",
              "    </script>\n",
              "  </div>\n",
              "\n",
              "\n",
              "    <div id=\"df-b54dabce-9e7f-4ab6-be8f-90578843c5b4\">\n",
              "      <button class=\"colab-df-quickchart\" onclick=\"quickchart('df-b54dabce-9e7f-4ab6-be8f-90578843c5b4')\"\n",
              "                title=\"Suggest charts\"\n",
              "                style=\"display:none;\">\n",
              "\n",
              "<svg xmlns=\"http://www.w3.org/2000/svg\" height=\"24px\"viewBox=\"0 0 24 24\"\n",
              "     width=\"24px\">\n",
              "    <g>\n",
              "        <path d=\"M19 3H5c-1.1 0-2 .9-2 2v14c0 1.1.9 2 2 2h14c1.1 0 2-.9 2-2V5c0-1.1-.9-2-2-2zM9 17H7v-7h2v7zm4 0h-2V7h2v10zm4 0h-2v-4h2v4z\"/>\n",
              "    </g>\n",
              "</svg>\n",
              "      </button>\n",
              "\n",
              "<style>\n",
              "  .colab-df-quickchart {\n",
              "      --bg-color: #E8F0FE;\n",
              "      --fill-color: #1967D2;\n",
              "      --hover-bg-color: #E2EBFA;\n",
              "      --hover-fill-color: #174EA6;\n",
              "      --disabled-fill-color: #AAA;\n",
              "      --disabled-bg-color: #DDD;\n",
              "  }\n",
              "\n",
              "  [theme=dark] .colab-df-quickchart {\n",
              "      --bg-color: #3B4455;\n",
              "      --fill-color: #D2E3FC;\n",
              "      --hover-bg-color: #434B5C;\n",
              "      --hover-fill-color: #FFFFFF;\n",
              "      --disabled-bg-color: #3B4455;\n",
              "      --disabled-fill-color: #666;\n",
              "  }\n",
              "\n",
              "  .colab-df-quickchart {\n",
              "    background-color: var(--bg-color);\n",
              "    border: none;\n",
              "    border-radius: 50%;\n",
              "    cursor: pointer;\n",
              "    display: none;\n",
              "    fill: var(--fill-color);\n",
              "    height: 32px;\n",
              "    padding: 0;\n",
              "    width: 32px;\n",
              "  }\n",
              "\n",
              "  .colab-df-quickchart:hover {\n",
              "    background-color: var(--hover-bg-color);\n",
              "    box-shadow: 0 1px 2px rgba(60, 64, 67, 0.3), 0 1px 3px 1px rgba(60, 64, 67, 0.15);\n",
              "    fill: var(--button-hover-fill-color);\n",
              "  }\n",
              "\n",
              "  .colab-df-quickchart-complete:disabled,\n",
              "  .colab-df-quickchart-complete:disabled:hover {\n",
              "    background-color: var(--disabled-bg-color);\n",
              "    fill: var(--disabled-fill-color);\n",
              "    box-shadow: none;\n",
              "  }\n",
              "\n",
              "  .colab-df-spinner {\n",
              "    border: 2px solid var(--fill-color);\n",
              "    border-color: transparent;\n",
              "    border-bottom-color: var(--fill-color);\n",
              "    animation:\n",
              "      spin 1s steps(1) infinite;\n",
              "  }\n",
              "\n",
              "  @keyframes spin {\n",
              "    0% {\n",
              "      border-color: transparent;\n",
              "      border-bottom-color: var(--fill-color);\n",
              "      border-left-color: var(--fill-color);\n",
              "    }\n",
              "    20% {\n",
              "      border-color: transparent;\n",
              "      border-left-color: var(--fill-color);\n",
              "      border-top-color: var(--fill-color);\n",
              "    }\n",
              "    30% {\n",
              "      border-color: transparent;\n",
              "      border-left-color: var(--fill-color);\n",
              "      border-top-color: var(--fill-color);\n",
              "      border-right-color: var(--fill-color);\n",
              "    }\n",
              "    40% {\n",
              "      border-color: transparent;\n",
              "      border-right-color: var(--fill-color);\n",
              "      border-top-color: var(--fill-color);\n",
              "    }\n",
              "    60% {\n",
              "      border-color: transparent;\n",
              "      border-right-color: var(--fill-color);\n",
              "    }\n",
              "    80% {\n",
              "      border-color: transparent;\n",
              "      border-right-color: var(--fill-color);\n",
              "      border-bottom-color: var(--fill-color);\n",
              "    }\n",
              "    90% {\n",
              "      border-color: transparent;\n",
              "      border-bottom-color: var(--fill-color);\n",
              "    }\n",
              "  }\n",
              "</style>\n",
              "\n",
              "      <script>\n",
              "        async function quickchart(key) {\n",
              "          const quickchartButtonEl =\n",
              "            document.querySelector('#' + key + ' button');\n",
              "          quickchartButtonEl.disabled = true;  // To prevent multiple clicks.\n",
              "          quickchartButtonEl.classList.add('colab-df-spinner');\n",
              "          try {\n",
              "            const charts = await google.colab.kernel.invokeFunction(\n",
              "                'suggestCharts', [key], {});\n",
              "          } catch (error) {\n",
              "            console.error('Error during call to suggestCharts:', error);\n",
              "          }\n",
              "          quickchartButtonEl.classList.remove('colab-df-spinner');\n",
              "          quickchartButtonEl.classList.add('colab-df-quickchart-complete');\n",
              "        }\n",
              "        (() => {\n",
              "          let quickchartButtonEl =\n",
              "            document.querySelector('#df-b54dabce-9e7f-4ab6-be8f-90578843c5b4 button');\n",
              "          quickchartButtonEl.style.display =\n",
              "            google.colab.kernel.accessAllowed ? 'block' : 'none';\n",
              "        })();\n",
              "      </script>\n",
              "    </div>\n",
              "    </div>\n",
              "  </div>\n"
            ],
            "application/vnd.google.colaboratory.intrinsic+json": {
              "type": "dataframe",
              "variable_name": "grouped_data",
              "summary": "{\n  \"name\": \"grouped_data\",\n  \"rows\": 2,\n  \"fields\": [\n    {\n      \"column\": \"test group\",\n      \"properties\": {\n        \"dtype\": \"category\",\n        \"num_unique_values\": 2,\n        \"samples\": [\n          \"psa\",\n          \"ad\"\n        ],\n        \"semantic_type\": \"\",\n        \"description\": \"\"\n      }\n    },\n    {\n      \"column\": \"count_of_visits\",\n      \"properties\": {\n        \"dtype\": \"number\",\n        \"std\": 382582,\n        \"min\": 23524,\n        \"max\": 564577,\n        \"num_unique_values\": 2,\n        \"samples\": [\n          23524,\n          564577\n        ],\n        \"semantic_type\": \"\",\n        \"description\": \"\"\n      }\n    },\n    {\n      \"column\": \"count_of_purchases\",\n      \"properties\": {\n        \"dtype\": \"number\",\n        \"std\": 9901,\n        \"min\": 420,\n        \"max\": 14423,\n        \"num_unique_values\": 2,\n        \"samples\": [\n          420,\n          14423\n        ],\n        \"semantic_type\": \"\",\n        \"description\": \"\"\n      }\n    },\n    {\n      \"column\": \"total ads\",\n      \"properties\": {\n        \"dtype\": \"number\",\n        \"std\": 9498013,\n        \"min\": 582481,\n        \"max\": 14014701,\n        \"num_unique_values\": 2,\n        \"samples\": [\n          582481,\n          14014701\n        ],\n        \"semantic_type\": \"\",\n        \"description\": \"\"\n      }\n    },\n    {\n      \"column\": \"conversion\",\n      \"properties\": {\n        \"dtype\": \"number\",\n        \"std\": 0.5439385816165798,\n        \"min\": 1.785410644448223,\n        \"max\": 2.5546559636683748,\n        \"num_unique_values\": 2,\n        \"samples\": [\n          1.785410644448223,\n          2.5546559636683748\n        ],\n        \"semantic_type\": \"\",\n        \"description\": \"\"\n      }\n    },\n    {\n      \"column\": \"mean ads\",\n      \"properties\": {\n        \"dtype\": \"number\",\n        \"std\": 0.04400151677786187,\n        \"min\": 24.761137561639178,\n        \"max\": 24.823365103431417,\n        \"num_unique_values\": 2,\n        \"samples\": [\n          24.761137561639178,\n          24.823365103431417\n        ],\n        \"semantic_type\": \"\",\n        \"description\": \"\"\n      }\n    }\n  ]\n}"
            }
          },
          "metadata": {}
        }
      ]
    },
    {
      "cell_type": "code",
      "source": [
        "groups = ['PSA (контроль)', 'Ad (тест)']\n",
        "conversion_rates = [1.79, 2.55]  # в процентах\n",
        "purchases = [420, 14423]  # абсолютные значения\n",
        "avg_ads = [24.76, 24.82]  # среднее количество рекламы\n",
        "\n",
        "fig, (ax1, ax2, ax3) = plt.subplots(1, 3, figsize=(18, 5))\n",
        "\n",
        "sns.barplot(x=groups, y=conversion_rates, palette=['skyblue', 'salmon'], ax=ax1)\n",
        "ax1.set_title('Конверсия по группам (%)')\n",
        "ax1.set_ylabel('Конверсия, %')\n",
        "ax1.set_ylim(0, 3)  # Фиксированный масштаб для сравнения\n",
        "ax1.grid(axis='y', linestyle='--', alpha=0.7)\n",
        "\n",
        "for i, v in enumerate(conversion_rates):\n",
        "    ax1.text(i, v + 0.1, f\"{v:.2f}%\", ha='center')\n",
        "\n",
        "\n",
        "sns.barplot(x=groups, y=purchases, palette=['skyblue', 'salmon'], ax=ax2)\n",
        "ax2.set_title('Количество покупок по группам')\n",
        "ax2.set_ylabel('Количество покупок (log scale)')\n",
        "ax2.set_yscale('log')\n",
        "ax2.grid(axis='y', linestyle='--', alpha=0.7)\n",
        "\n",
        "for i, v in enumerate(purchases):\n",
        "    ax2.text(i, v * 1.1, f\"{v:,}\", ha='center')\n",
        "\n",
        "sns.barplot(x=groups, y=avg_ads, palette=['skyblue', 'salmon'], ax=ax3)\n",
        "ax3.set_title('Среднее количество рекламы')\n",
        "ax3.set_ylabel('Среднее количество показов')\n",
        "ax3.set_ylim(24, 25)  # Узкий диапазон для подчеркивания различий\n",
        "ax3.grid(axis='y', linestyle='--', alpha=0.7)\n",
        "\n",
        "for i, v in enumerate(avg_ads):\n",
        "    ax3.text(i, v + 0.01, f\"{v:.2f}\", ha='center')\n",
        "\n",
        "plt.tight_layout()\n",
        "plt.show()"
      ],
      "metadata": {
        "colab": {
          "base_uri": "https://localhost:8080/",
          "height": 722
        },
        "id": "TRUgLXt2Sj__",
        "outputId": "b88fc46f-778c-441e-a87f-706b6724fbea"
      },
      "execution_count": null,
      "outputs": [
        {
          "output_type": "stream",
          "name": "stderr",
          "text": [
            "<ipython-input-97-bf9aa5a59944>:8: FutureWarning: \n",
            "\n",
            "Passing `palette` without assigning `hue` is deprecated and will be removed in v0.14.0. Assign the `x` variable to `hue` and set `legend=False` for the same effect.\n",
            "\n",
            "  sns.barplot(x=groups, y=conversion_rates, palette=['skyblue', 'salmon'], ax=ax1)\n",
            "<ipython-input-97-bf9aa5a59944>:18: FutureWarning: \n",
            "\n",
            "Passing `palette` without assigning `hue` is deprecated and will be removed in v0.14.0. Assign the `x` variable to `hue` and set `legend=False` for the same effect.\n",
            "\n",
            "  sns.barplot(x=groups, y=purchases, palette=['skyblue', 'salmon'], ax=ax2)\n",
            "<ipython-input-97-bf9aa5a59944>:27: FutureWarning: \n",
            "\n",
            "Passing `palette` without assigning `hue` is deprecated and will be removed in v0.14.0. Assign the `x` variable to `hue` and set `legend=False` for the same effect.\n",
            "\n",
            "  sns.barplot(x=groups, y=avg_ads, palette=['skyblue', 'salmon'], ax=ax3)\n"
          ]
        },
        {
          "output_type": "display_data",
          "data": {
            "text/plain": [
              "<Figure size 1800x500 with 3 Axes>"
            ],
            "image/png": "[encoded data removed]"
          },
          "metadata": {}
        }
      ]
    },
    {
      "cell_type": "markdown",
      "source": [
        "### Первичный анализ результатов\n",
        "\n",
        "#### Ключевые метрики по группам:\n",
        "\n",
        "| Показатель             | Группа A (ad) | Группа B (psa) |\n",
        "|------------------------|---------------|----------------|\n",
        "| Количество посещений    | 564,577       | 23,524         |\n",
        "| Количество покупок      | 14,423        | 420            |\n",
        "| Конверсия              | 2.55%         | 1.79%          |\n",
        "| Среднее кол-во рекламы | 24.82         | 24.76          |"
      ],
      "metadata": {
        "id": "HgMZZzINRRd7"
      }
    },
    {
      "cell_type": "markdown",
      "source": [
        "### Првичный вывод о результатах A/B-тестирования\n",
        "На основе показателя конверсии и среднего количества увиденной рекламы в каждой из групп, можно заключить, что пользователи из группы А чаще совершают покупки, чем из группы B:  конверсия выше почти на 1% (2.55% vs 1.79%).\n",
        "При этом, среднее количество увиденной рекламы примерно одинаковое, что подтверждает эффективность рекламной кампании.\n",
        "Попробуем подтвердить это статистикой"
      ],
      "metadata": {
        "id": "wu6FRcC0IVp5"
      }
    },
    {
      "cell_type": "markdown",
      "source": [
        "## Проверка статистической значимости\n"
      ],
      "metadata": {
        "id": "sdyaBUuKpgEh"
      }
    },
    {
      "cell_type": "code",
      "source": [
        "from statsmodels.stats.proportion import proportions_ztest\n",
        "\n",
        "count = [14423, 420]  # Количество конверсий в группах\n",
        "nobs = [564577, 23524]  # Общее количество наблюдений\n",
        "\n",
        "z_stat, p_value = proportions_ztest(count, nobs)\n",
        "print(f\"Результат Z-теста:\\nСтатистика = {z_stat:.3f}, p-value = {p_value:.5f}\")\n",
        "\n",
        "alpha = 0.05\n",
        "if p_value < alpha:\n",
        "    print(\"Отвергаем нулевую гипотезу: различия статистически значимы\")\n",
        "else:\n",
        "    print(\"Не отвергаем нулевую гипотезу: различия не статистически значимы\")"
      ],
      "metadata": {
        "colab": {
          "base_uri": "https://localhost:8080/"
        },
        "id": "y8bBt1r0peKW",
        "outputId": "d83f9874-0097-4427-d82a-231881a2b5ed"
      },
      "execution_count": null,
      "outputs": [
        {
          "output_type": "stream",
          "name": "stdout",
          "text": [
            "Результат Z-теста:\n",
            "Статистика = 7.370, p-value = 0.00000\n",
            "Отвергаем нулевую гипотезу: различия статистически значимы\n"
          ]
        }
      ]
    },
    {
      "cell_type": "markdown",
      "source": [
        "Группа A показала конверсию 2.55%, что значимо выше, чем 1.79% в группе B (p < 0.001). Однако по другим признакам различий не обнаружено. Можно рекомендовать внедрять изменения из группы А (рекламную кампанию)"
      ],
      "metadata": {
        "id": "ECSgJ4MDJHvD"
      }
    },
    {
      "cell_type": "code",
      "source": [
        "from scipy import stats\n",
        "\n",
        "# T-тест для независимых выборок\n",
        "t_stat, p_value = stats.ttest_ind(\n",
        "    group_ad['total ads'],\n",
        "    group_psa['total ads'],\n",
        "    equal_var=False  # Используем Welch's t-test (разные дисперсии)\n",
        ")\n",
        "\n",
        "print(f\"\\nРезультат T-теста для среднего количества рекламы:\")\n",
        "print(f\"Статистика = {t_stat:.3f}, p-value = {p_value:.5f}\")\n",
        "\n",
        "# Интерпретация\n",
        "if p_value < alpha:\n",
        "    print(\"Отвергаем нулевую гипотезу: различия в среднем количестве рекламы значимы\")\n",
        "else:\n",
        "    print(\"Не отвергаем нулевую гипотезу: различия не значимы\")"
      ],
      "metadata": {
        "colab": {
          "base_uri": "https://localhost:8080/"
        },
        "id": "4XT9rZdp0ccN",
        "outputId": "2d002d3c-49f0-4340-ef36-c23942f0bdd9"
      },
      "execution_count": null,
      "outputs": [
        {
          "output_type": "stream",
          "name": "stdout",
          "text": [
            "\n",
            "Результат T-теста для среднего количества рекламы:\n",
            "Статистика = 0.218, p-value = 0.82743\n",
            "Не отвергаем нулевую гипотезу: различия не значимы\n"
          ]
        }
      ]
    },
    {
      "cell_type": "markdown",
      "source": [
        "Это хороший результат, поскольку дизайн A/B-теста предполагает, что единственное различие между группами - это наличие/отсутствие рекламы.\n",
        "Если бы количество показов рекламы значительно отличалось, это могло бы искажать результаты. Совпадение средних значений (24.82 vs 24.76) подтверждает корректность распределения пользователей"
      ],
      "metadata": {
        "id": "NUac-oge1_BC"
      }
    },
    {
      "cell_type": "markdown",
      "source": [
        "Посмотрим доверительные интервалы для конверсий"
      ],
      "metadata": {
        "id": "2zQ5r-IBbgIF"
      }
    },
    {
      "cell_type": "code",
      "source": [
        "from statsmodels.stats.proportion import proportion_confint\n",
        "\n",
        "conversions = [14423, 420]\n",
        "observations = [564577, 23524]\n",
        "\n",
        "# 95% ДИ для конверсий\n",
        "ci_ad = proportion_confint(conversions[0], observations[0], alpha=0.05, method='wilson')\n",
        "ci_psa = proportion_confint(conversions[1], observations[1], alpha=0.05, method='wilson')\n",
        "\n",
        "print(\"Доверительные интервалы для конверсий:\")\n",
        "print(f\"Группа A (реклама): [{ci_ad[0]:.4f}, {ci_ad[1]:.4f}]\")\n",
        "print(f\"Группа B (PSA):     [{ci_psa[0]:.4f}, {ci_psa[1]:.4f}]\")"
      ],
      "metadata": {
        "colab": {
          "base_uri": "https://localhost:8080/"
        },
        "id": "aWz7R4bb0cTd",
        "outputId": "2a2c046f-a0f8-440e-9a90-10b0640434a6"
      },
      "execution_count": null,
      "outputs": [
        {
          "output_type": "stream",
          "name": "stdout",
          "text": [
            "Доверительные интервалы для конверсий:\n",
            "Группа A (реклама): [0.0251, 0.0260]\n",
            "Группа B (PSA):     [0.0162, 0.0196]\n"
          ]
        }
      ]
    },
    {
      "cell_type": "code",
      "source": [
        "import math\n",
        "\n",
        "p1 = conversions[0]/observations[0]\n",
        "p2 = conversions[1]/observations[1]\n",
        "diff = p1 - p2\n",
        "\n",
        "# Стандартная ошибка разницы\n",
        "se_diff = math.sqrt(p1*(1-p1)/observations[0] + p2*(1-p2)/observations[1])\n",
        "\n",
        "# 95% ДИ для разницы\n",
        "ci_diff = (diff - 1.96*se_diff, diff + 1.96*se_diff)\n",
        "\n",
        "print(f\"\\nРазница конверсий (A-B): {diff:.4f}\")\n",
        "print(f\"95% ДИ для разницы: [{ci_diff[0]:.4f}, {ci_diff[1]:.4f}]\")"
      ],
      "metadata": {
        "colab": {
          "base_uri": "https://localhost:8080/"
        },
        "id": "ctZzmz01KLPs",
        "outputId": "efb2a29c-3ed4-4bd4-c45c-5b87baa6b1ca"
      },
      "execution_count": null,
      "outputs": [
        {
          "output_type": "stream",
          "name": "stdout",
          "text": [
            "\n",
            "Разница конверсий (A-B): 0.0077\n",
            "95% ДИ для разницы: [0.0060, 0.0094]\n"
          ]
        }
      ]
    },
    {
      "cell_type": "markdown",
      "source": [
        "Посмотрим относительный прирост конверсии"
      ],
      "metadata": {
        "id": "Fdgz1vafKBLp"
      }
    },
    {
      "cell_type": "code",
      "source": [
        "uplift = (grouped_data.loc['ad', 'conversion'] - grouped_data.loc['psa', 'conversion']) / grouped_data.loc['psa', 'conversion'] * 100\n",
        "print(f\"Относительный прирост: {uplift:.1f}%\")"
      ],
      "metadata": {
        "colab": {
          "base_uri": "https://localhost:8080/"
        },
        "id": "esCPFwlIKAgd",
        "outputId": "9f184f9c-08fe-4f58-9da5-41249eda1747"
      },
      "execution_count": null,
      "outputs": [
        {
          "output_type": "stream",
          "name": "stdout",
          "text": [
            "Относительный прирост: 43.1%\n"
          ]
        }
      ]
    },
    {
      "cell_type": "markdown",
      "source": [
        "Относительный прирост конверсии = 43.1%. Для бизнеса это означает, что реклама увеличивает конверсию на 43% относительно базового уровня.\n",
        "\n"
      ],
      "metadata": {
        "id": "PnCZCYkyPYc-"
      }
    },
    {
      "cell_type": "code",
      "source": [
        "from scipy.stats import t\n",
        "\n",
        "# Данные по рекламе\n",
        "mean_ad = 24.823365\n",
        "mean_psa = 24.761138\n",
        "std_ad = group_ad['total ads'].std()\n",
        "std_psa = group_psa['total ads'].std()\n",
        "n_ad = len(group_ad)\n",
        "n_psa = len(group_psa)\n",
        "\n",
        "# 95% ДИ для группы A\n",
        "ci_ads_ad = (\n",
        "    mean_ad - 1.96*std_ad/math.sqrt(n_ad),\n",
        "    mean_ad + 1.96*std_ad/math.sqrt(n_ad)\n",
        ")\n",
        "\n",
        "# 95% ДИ для группы B\n",
        "ci_ads_psa = (\n",
        "    mean_psa - 1.96*std_psa/math.sqrt(n_psa),\n",
        "    mean_psa + 1.96*std_psa/math.sqrt(n_psa)\n",
        ")\n",
        "\n",
        "print(\"\\nДоверительные интервалы для среднего количества рекламы:\")\n",
        "print(f\"Группа A: [{ci_ads_ad[0]:.2f}, {ci_ads_ad[1]:.2f}]\")\n",
        "print(f\"Группа B: [{ci_ads_psa[0]:.2f}, {ci_ads_psa[1]:.2f}]\")"
      ],
      "metadata": {
        "colab": {
          "base_uri": "https://localhost:8080/"
        },
        "id": "MefuOhREKTcw",
        "outputId": "6abfadd1-d63f-414e-ee0a-d9d4825a2a62"
      },
      "execution_count": null,
      "outputs": [
        {
          "output_type": "stream",
          "name": "stdout",
          "text": [
            "\n",
            "Доверительные интервалы для среднего количества рекламы:\n",
            "Группа A: [24.71, 24.94]\n",
            "Группа B: [24.21, 25.31]\n"
          ]
        }
      ]
    },
    {
      "cell_type": "code",
      "source": [
        "plt.figure(figsize=(10, 4))\n",
        "\n",
        "# Конверсии\n",
        "plt.subplot(1, 2, 1)\n",
        "plt.errorbar([0, 1], [p1*100, p2*100],\n",
        "             yerr=[(p1-ci_ad[0])*100, (ci_psa[1]-p2)*100],\n",
        "             fmt='o', capsize=5)\n",
        "plt.xticks([0, 1], ['Группа A', 'Группа B'])\n",
        "plt.ylabel('Конверсия (%)')\n",
        "plt.title('Доверительные интервалы конверсий')\n",
        "\n",
        "# Количество рекламы\n",
        "plt.subplot(1, 2, 2)\n",
        "plt.errorbar([0, 1], [mean_ad, mean_psa],\n",
        "             yerr=[mean_ad-ci_ads_ad[0], ci_ads_psa[1]-mean_psa],\n",
        "             fmt='o', capsize=5)\n",
        "plt.xticks([0, 1], ['Группа A', 'Группа B'])\n",
        "plt.ylabel('Среднее количество рекламы')\n",
        "plt.title('Доверительные интервалы показов')\n",
        "\n",
        "plt.tight_layout()\n",
        "plt.show()"
      ],
      "metadata": {
        "colab": {
          "base_uri": "https://localhost:8080/",
          "height": 407
        },
        "id": "LwbTnSqjKXPd",
        "outputId": "34d53ab1-01a3-4b15-ee9f-6f1430cac883"
      },
      "execution_count": null,
      "outputs": [
        {
          "output_type": "display_data",
          "data": {
            "text/plain": [
              "<Figure size 1000x400 with 2 Axes>"
            ],
            "image/png": "[encoded data removed]"
          },
          "metadata": {}
        }
      ]
    },
    {
      "cell_type": "markdown",
      "source": [
        "С 95% уверенностью можно утверждать, что истинная разница конверсий лежит в диапазоне от 0.60 до 0.94 процентных пункта\n",
        "базового уровня\n",
        "\n",
        "Доверительные интервалы показов рекламы значительно. Статистически значимых различий в среднем количестве показов между группами (p = 0.827)\n",
        "Широкий интервал для группы B (PSA) связан с меньшим размером выборки (n=23,524 vs n=564,577 в группе A)"
      ],
      "metadata": {
        "id": "Sxtw3Z6aPISd"
      }
    },
    {
      "cell_type": "markdown",
      "source": [
        "### Вывод\n",
        "Рекламная кампания привела к статистически значимому увеличению конверсии на ~0.77 процентных пункта.\n",
        "Разница хотя и небольшая в абсолютных значениях, но надежно детектируется. Отсутствие различий в количестве показов подтверждает, что эффект связан именно с рекламой, а не с другими факторами.\n",
        "\n",
        "Отсутствие различий в количестве показов подтверждает корректность дизайна A/B-теста. Разница в конверсиях не может быть объяснена разной частотой демонстрации рекламных материалов.\n",
        "\n",
        "Эффект рекламы можно считать доказанным, но его абсолютное значение невелико."
      ],
      "metadata": {
        "id": "VRX3Vboo0n9I"
      }
    }
  ]
}