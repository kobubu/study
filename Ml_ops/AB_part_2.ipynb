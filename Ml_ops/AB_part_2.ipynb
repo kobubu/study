{
 "cells": [
  {
   "cell_type": "code",
   "execution_count": 1,
   "id": "83b882f4",
   "metadata": {},
   "outputs": [],
   "source": [
    "import json\n",
    "import numpy as np\n",
    "import pandas as pd\n",
    "from scipy.stats import norm\n",
    "from scipy.stats import ttest_ind\n",
    "import matplotlib.pyplot as plt\n",
    "import seaborn as sns\n",
    "from scipy import stats\n",
    "sns.set(rc={'figure.figsize':(15,6)})\n",
    "from tqdm import tqdm"
   ]
  },
  {
   "cell_type": "markdown",
   "id": "aa94822e",
   "metadata": {},
   "source": [
    "### Доверительный интервал и правило 2 сигм"
   ]
  },
  {
   "cell_type": "code",
   "execution_count": 2,
   "id": "6b0a427e",
   "metadata": {},
   "outputs": [],
   "source": [
    "def get_bernoulli_confidence_interval(values: np.array):\n",
    "    \"\"\"Вычисляет доверительный интервал для параметра распределения Бернулли.\n",
    "\n",
    "    :param values: массив элементов из нулей и единиц.\n",
    "    :return (left_bound, right_bound): границы доверительного интервала.\n",
    "    \"\"\"\n",
    "    \n",
    "    n = len(values)\n",
    "    z = 1.96\n",
    "    p = np.mean(values)\n",
    "    sigma = np.sqrt(p * (1-p))\n",
    "    \n",
    "    interval = z * sigma / np.sqrt(n)\n",
    "    \n",
    "    return (np.clip(p - interval, 0, 1), np.clip(p + interval, 0, 1))"
   ]
  },
  {
   "cell_type": "markdown",
   "id": "4ee3775c",
   "metadata": {},
   "source": [
    "#### Сгенерируем случайную выборку со средним 0,5 и средним отклонением 0,1"
   ]
  },
  {
   "cell_type": "code",
   "execution_count": 3,
   "id": "40d3d504",
   "metadata": {},
   "outputs": [],
   "source": [
    "sample_values = np.random.normal(0.5, 0.1, 100)"
   ]
  },
  {
   "cell_type": "markdown",
   "id": "df276582",
   "metadata": {},
   "source": [
    "#### Посчитаем доверительный интервал и интервал 2-сигма"
   ]
  },
  {
   "cell_type": "code",
   "execution_count": 4,
   "id": "22ed1254",
   "metadata": {},
   "outputs": [
    {
     "data": {
      "text/plain": [
       "(0.40247187918892774, 0.5984717919184228)"
      ]
     },
     "execution_count": 4,
     "metadata": {},
     "output_type": "execute_result"
    }
   ],
   "source": [
    "get_bernoulli_confidence_interval(sample_values)"
   ]
  },
  {
   "cell_type": "code",
   "execution_count": 5,
   "id": "45a2fb4f",
   "metadata": {},
   "outputs": [
    {
     "data": {
      "text/plain": [
       "(0.29447053466659573, 0.6902666341785465)"
      ]
     },
     "execution_count": 5,
     "metadata": {},
     "output_type": "execute_result"
    }
   ],
   "source": [
    "(np.quantile(sample_values, 0.025), np.quantile(sample_values, 0.975))"
   ]
  },
  {
   "cell_type": "markdown",
   "id": "4c86d455",
   "metadata": {},
   "source": [
    "#### Увеличим размер выборки до 1000"
   ]
  },
  {
   "cell_type": "code",
   "execution_count": 6,
   "id": "535fad04",
   "metadata": {},
   "outputs": [],
   "source": [
    "sample_values = np.random.normal(0.5, 0.1, 1000)"
   ]
  },
  {
   "cell_type": "markdown",
   "id": "e326bb28",
   "metadata": {},
   "source": [
    "#### Посчитаем доверительный интервал и интервал 2-сигма"
   ]
  },
  {
   "cell_type": "code",
   "execution_count": 7,
   "id": "14b13b75",
   "metadata": {},
   "outputs": [
    {
     "data": {
      "text/plain": [
       "(0.4662340562700031, 0.5282137430654136)"
      ]
     },
     "execution_count": 7,
     "metadata": {},
     "output_type": "execute_result"
    }
   ],
   "source": [
    "get_bernoulli_confidence_interval(sample_values)"
   ]
  },
  {
   "cell_type": "code",
   "execution_count": 8,
   "id": "28343710",
   "metadata": {},
   "outputs": [
    {
     "data": {
      "text/plain": [
       "(0.2852905028487003, 0.6952089003632884)"
      ]
     },
     "execution_count": 8,
     "metadata": {},
     "output_type": "execute_result"
    }
   ],
   "source": [
    "(np.quantile(sample_values, 0.025), np.quantile(sample_values, 0.975))"
   ]
  },
  {
   "cell_type": "markdown",
   "id": "35d978d7",
   "metadata": {},
   "source": [
    "#### Видим, что доверительный интервал стал намного меньше, интервал 2-сигм не изменился"
   ]
  },
  {
   "cell_type": "markdown",
   "id": "b00ebaef",
   "metadata": {},
   "source": [
    "### Статистические критерии"
   ]
  },
  {
   "cell_type": "code",
   "execution_count": 9,
   "id": "2a82606c",
   "metadata": {},
   "outputs": [],
   "source": [
    "np.random.seed(33)"
   ]
  },
  {
   "cell_type": "markdown",
   "id": "6c7d08bb",
   "metadata": {},
   "source": [
    "#### Сгенерируем датафрейм и искусственно добавим эффект, то есть представим, что в тестовой группе выросла метрика"
   ]
  },
  {
   "cell_type": "code",
   "execution_count": 10,
   "id": "0eb0299e",
   "metadata": {},
   "outputs": [],
   "source": [
    "df = pd.DataFrame({\n",
    "    'control' : np.random.normal(100, 10, 1000),\n",
    "    'test' : np.random.normal(100, 10, 1000) + np.random.normal(2, 5, 1000)\n",
    "})"
   ]
  },
  {
   "cell_type": "code",
   "execution_count": 11,
   "id": "3069af24",
   "metadata": {},
   "outputs": [
    {
     "data": {
      "text/html": [
       "<div>\n",
       "<style scoped>\n",
       "    .dataframe tbody tr th:only-of-type {\n",
       "        vertical-align: middle;\n",
       "    }\n",
       "\n",
       "    .dataframe tbody tr th {\n",
       "        vertical-align: top;\n",
       "    }\n",
       "\n",
       "    .dataframe thead th {\n",
       "        text-align: right;\n",
       "    }\n",
       "</style>\n",
       "<table border=\"1\" class=\"dataframe\">\n",
       "  <thead>\n",
       "    <tr style=\"text-align: right;\">\n",
       "      <th></th>\n",
       "      <th>control</th>\n",
       "      <th>test</th>\n",
       "    </tr>\n",
       "  </thead>\n",
       "  <tbody>\n",
       "    <tr>\n",
       "      <th>0</th>\n",
       "      <td>96.811465</td>\n",
       "      <td>104.381927</td>\n",
       "    </tr>\n",
       "    <tr>\n",
       "      <th>1</th>\n",
       "      <td>83.970194</td>\n",
       "      <td>83.438401</td>\n",
       "    </tr>\n",
       "    <tr>\n",
       "      <th>2</th>\n",
       "      <td>84.647821</td>\n",
       "      <td>110.738778</td>\n",
       "    </tr>\n",
       "    <tr>\n",
       "      <th>3</th>\n",
       "      <td>94.295991</td>\n",
       "      <td>88.536662</td>\n",
       "    </tr>\n",
       "    <tr>\n",
       "      <th>4</th>\n",
       "      <td>97.832717</td>\n",
       "      <td>109.172851</td>\n",
       "    </tr>\n",
       "  </tbody>\n",
       "</table>\n",
       "</div>"
      ],
      "text/plain": [
       "     control        test\n",
       "0  96.811465  104.381927\n",
       "1  83.970194   83.438401\n",
       "2  84.647821  110.738778\n",
       "3  94.295991   88.536662\n",
       "4  97.832717  109.172851"
      ]
     },
     "execution_count": 11,
     "metadata": {},
     "output_type": "execute_result"
    }
   ],
   "source": [
    "df.head()"
   ]
  },
  {
   "cell_type": "markdown",
   "id": "f76bfc7c",
   "metadata": {},
   "source": [
    "#### Тест Стьюдента"
   ]
  },
  {
   "cell_type": "code",
   "execution_count": 12,
   "id": "5de8f5c9",
   "metadata": {},
   "outputs": [
    {
     "data": {
      "text/plain": [
       "Ttest_indResult(statistic=4.682024894343122, pvalue=3.0314908440032458e-06)"
      ]
     },
     "execution_count": 12,
     "metadata": {},
     "output_type": "execute_result"
    }
   ],
   "source": [
    "ttest_ind(df['test'].values, df['control'].values)"
   ]
  },
  {
   "cell_type": "markdown",
   "id": "c7c1b16b",
   "metadata": {},
   "source": [
    "#### P-value < 0.05, гипотеза о равенстве отвергается"
   ]
  },
  {
   "cell_type": "markdown",
   "id": "7578ff78",
   "metadata": {},
   "source": [
    "#### Бутстрэп"
   ]
  },
  {
   "cell_type": "code",
   "execution_count": 13,
   "id": "38da8c98",
   "metadata": {},
   "outputs": [],
   "source": [
    "np.random.seed(0)"
   ]
  },
  {
   "cell_type": "code",
   "execution_count": 14,
   "id": "8c7f927e",
   "metadata": {},
   "outputs": [],
   "source": [
    "n_iter = 1000\n",
    "mean_diff_list = []\n",
    "\n",
    "number_obs = len(df)\n",
    "\n",
    "for i in range(n_iter):\n",
    "    # Генерируем выборку с повторениями\n",
    "    df_sample = df.sample(number_obs, replace = True)\n",
    "    mean_control = df_sample['control'].mean()\n",
    "    mean_test = df_sample['test'].mean()\n",
    "    mean_diff = mean_test - mean_control\n",
    "    mean_diff_list.append(mean_diff)"
   ]
  },
  {
   "cell_type": "code",
   "execution_count": 15,
   "id": "f9c00603",
   "metadata": {},
   "outputs": [],
   "source": [
    "mean_diff_df = pd.DataFrame(mean_diff_list, columns = ['mean_diff'])"
   ]
  },
  {
   "cell_type": "code",
   "execution_count": 16,
   "id": "8ffce5d8",
   "metadata": {},
   "outputs": [
    {
     "data": {
      "text/plain": [
       "(mean_diff    1.224659\n",
       " Name: 0.025, dtype: float64,\n",
       " mean_diff    3.059107\n",
       " Name: 0.975, dtype: float64)"
      ]
     },
     "execution_count": 16,
     "metadata": {},
     "output_type": "execute_result"
    }
   ],
   "source": [
    "(mean_diff_df.quantile(0.025), mean_diff_df.quantile(0.975))"
   ]
  },
  {
   "cell_type": "markdown",
   "id": "1d359687",
   "metadata": {},
   "source": [
    "0 не входит в диапазон (1,29, 3,08), поэтому гипотеза о равенстве средних также отвергается"
   ]
  },
  {
   "cell_type": "markdown",
   "id": "ffbcb450",
   "metadata": {},
   "source": [
    "### Размер выборки"
   ]
  },
  {
   "cell_type": "code",
   "execution_count": 17,
   "id": "21f245db",
   "metadata": {},
   "outputs": [],
   "source": [
    "alpha = 0.05\n",
    "beta = 0.2\n",
    "conversion = 0.4"
   ]
  },
  {
   "cell_type": "code",
   "execution_count": 18,
   "id": "f070ac78",
   "metadata": {},
   "outputs": [],
   "source": [
    "def estimate_sample_size_classification(mean_target, effects, alpha = 0.05, beta = 0.2):\n",
    "    \"\"\"Оцениваем sample size для списка эффектов.\n",
    "\n",
    "    mean_target - str, средний таргет на исторических данных\n",
    "    effects - List[float], список ожидаемых новых конверсий. Например, [0.03] - увеличение на 3%\n",
    "    alpha - float, ошибка первого рода\n",
    "    beta - float, ошибка второго рода\n",
    "\n",
    "    return - pd.DataFrame со столбцами ['effect', 'sample_size']    \n",
    "    \"\"\"\n",
    "    \n",
    "    t_alpha = norm.ppf(1 - alpha / 2, loc = 0, scale = 1)\n",
    "    t_beta = norm.ppf(1 - beta, loc = 0, scale = 1)\n",
    "    z_scores_sum_squared = (t_alpha + t_beta) ** 2\n",
    "    std_control = mean_target * (1 - mean_target)\n",
    "    sample_sizes = list()\n",
    "    \n",
    "    for effect in effects:\n",
    "        mean_target_test = mean_target + effect\n",
    "        std_test = mean_target_test * (1 - mean_target_test)\n",
    "        std = std_test + std_control\n",
    "        sample_size = int(\n",
    "            np.ceil(\n",
    "                z_scores_sum_squared * std / (effect ** 2)\n",
    "            )\n",
    "        )\n",
    "        sample_sizes.append(sample_size)\n",
    "        \n",
    "    sample_size_df = pd.DataFrame({\n",
    "        'effect': effects,  \n",
    "        'sample_size': sample_sizes\n",
    "    })\n",
    "    sample_size_df = sample_size_df.round(2)\n",
    "    \n",
    "    return sample_size_df"
   ]
  },
  {
   "cell_type": "code",
   "execution_count": 19,
   "id": "1e4f447e",
   "metadata": {},
   "outputs": [],
   "source": [
    "sample_size_df = estimate_sample_size_classification(\n",
    "    mean_target = conversion, \n",
    "    effects = [i for i in np.arange(0.03, 0.21, 0.01)],\n",
    "    alpha = alpha,\n",
    "    beta = beta\n",
    ")"
   ]
  },
  {
   "cell_type": "code",
   "execution_count": 20,
   "id": "12970d9a",
   "metadata": {},
   "outputs": [
    {
     "data": {
      "image/png": "[encoded data removed]",
      "text/plain": [
       "<Figure size 1600x600 with 1 Axes>"
      ]
     },
     "metadata": {},
     "output_type": "display_data"
    }
   ],
   "source": [
    "figure = sns.catplot(\n",
    "    data = sample_size_df,\n",
    "    x = 'effect',\n",
    "    y = 'sample_size',\n",
    "    kind = 'bar',\n",
    "    legend_out = False\n",
    ").set(title = 'Размер выборки в зависимости от эффекта');\n",
    "\n",
    "figure.fig.set_size_inches(16, 6)\n",
    "figure.set(xlabel = 'Размер эффекта', ylabel = 'Размер выборки');"
   ]
  },
  {
   "cell_type": "markdown",
   "id": "2bdbb2a6",
   "metadata": {},
   "source": [
    "### Стратификация"
   ]
  },
  {
   "cell_type": "code",
   "execution_count": 21,
   "id": "ecf0233d",
   "metadata": {},
   "outputs": [],
   "source": [
    "df = pd.read_csv('data_stratification.csv', encoding='windows-1251', header = 0)"
   ]
  },
  {
   "cell_type": "code",
   "execution_count": 22,
   "id": "077108ac",
   "metadata": {},
   "outputs": [
    {
     "data": {
      "text/plain": [
       "pilot      1000\n",
       "control    1000\n",
       "Name: group, dtype: int64"
      ]
     },
     "execution_count": 22,
     "metadata": {},
     "output_type": "execute_result"
    }
   ],
   "source": [
    "df['group'].value_counts()"
   ]
  },
  {
   "cell_type": "markdown",
   "id": "c10f10ef",
   "metadata": {},
   "source": [
    "посмотрим на распределение целевой переменной в группах.\n",
    "поскольку в данных много нулей, то имеет смысл отдельно нарисовать распределение для нулевых значений и для ненулевых значений.\n",
    "\n",
    "определим для этого отдельную функцию."
   ]
  },
  {
   "cell_type": "code",
   "execution_count": 23,
   "id": "2d5f7780",
   "metadata": {},
   "outputs": [],
   "source": [
    "def plot_hist_for_zero_and_nonzero_values(df, feature, group):\n",
    "    fig, (ax1, ax2) = plt.subplots(1, 2, figsize=(12, 6))\n",
    "    sns.histplot(df[df[feature] == 0], ax=ax1, x=feature, hue=group, multiple='dodge', legend=False)\n",
    "    ax1.set_xticks([0])\n",
    "    sns.histplot(df[df[feature] != 0], ax=ax2, x=feature, hue=group, multiple='dodge')\n",
    "\n",
    "plot_hist_for_zero_and_nonzero_values(df, 'inapp', 'group')"
   ]
  },
  {
   "cell_type": "markdown",
   "id": "80e46b11",
   "metadata": {},
   "source": [
    "В обоих группах много нулей, в пилотной покупок чуть больше.\n",
    "\n",
    "Посчитаем среднее значение и другие статистики. Проверим статистическую значимость."
   ]
  },
  {
   "cell_type": "code",
   "execution_count": 24,
   "id": "b3cd997a",
   "metadata": {},
   "outputs": [
    {
     "data": {
      "text/html": [
       "<div>\n",
       "<style scoped>\n",
       "    .dataframe tbody tr th:only-of-type {\n",
       "        vertical-align: middle;\n",
       "    }\n",
       "\n",
       "    .dataframe tbody tr th {\n",
       "        vertical-align: top;\n",
       "    }\n",
       "\n",
       "    .dataframe thead th {\n",
       "        text-align: right;\n",
       "    }\n",
       "</style>\n",
       "<table border=\"1\" class=\"dataframe\">\n",
       "  <thead>\n",
       "    <tr style=\"text-align: right;\">\n",
       "      <th></th>\n",
       "      <th>inapp_mean</th>\n",
       "      <th>inapp_std</th>\n",
       "      <th>inapp_sum</th>\n",
       "    </tr>\n",
       "    <tr>\n",
       "      <th>group</th>\n",
       "      <th></th>\n",
       "      <th></th>\n",
       "      <th></th>\n",
       "    </tr>\n",
       "  </thead>\n",
       "  <tbody>\n",
       "    <tr>\n",
       "      <th>control</th>\n",
       "      <td>5.01</td>\n",
       "      <td>20.253644</td>\n",
       "      <td>5010</td>\n",
       "    </tr>\n",
       "    <tr>\n",
       "      <th>pilot</th>\n",
       "      <td>7.36</td>\n",
       "      <td>25.057100</td>\n",
       "      <td>7360</td>\n",
       "    </tr>\n",
       "  </tbody>\n",
       "</table>\n",
       "</div>"
      ],
      "text/plain": [
       "         inapp_mean  inapp_std  inapp_sum\n",
       "group                                    \n",
       "control        5.01  20.253644       5010\n",
       "pilot          7.36  25.057100       7360"
      ]
     },
     "execution_count": 24,
     "metadata": {},
     "output_type": "execute_result"
    }
   ],
   "source": [
    "df.groupby('group').agg(\n",
    "    inapp_mean = pd.NamedAgg(column = 'inapp', aggfunc = 'mean'),    \n",
    "    inapp_std = pd.NamedAgg(column = 'inapp', aggfunc = 'std'),    \n",
    "    inapp_sum = pd.NamedAgg(column = 'inapp', aggfunc = 'sum'),    \n",
    ")"
   ]
  },
  {
   "cell_type": "code",
   "execution_count": 25,
   "id": "b184999d",
   "metadata": {},
   "outputs": [
    {
     "data": {
      "text/plain": [
       "Ttest_indResult(statistic=2.3065075655928977, pvalue=0.021184160406364526)"
      ]
     },
     "execution_count": 25,
     "metadata": {},
     "output_type": "execute_result"
    }
   ],
   "source": [
    "inapp_pilot = df[df['group'] == 'pilot']['inapp'].values\n",
    "inapp_control = df[df['group'] == 'control']['inapp'].values\n",
    "\n",
    "stats.ttest_ind(inapp_pilot, inapp_control)"
   ]
  },
  {
   "cell_type": "markdown",
   "id": "30be2542",
   "metadata": {},
   "source": [
    "pvalue меньше 0.05, гипотеза о равенстве средних отвергается на уровне значимости 0.05.\n",
    "\n",
    "**НО** мы ничего не знаем о том, как подбирались эти группы и какие ошибки первого и второго рода могут быть на этих данных. Давайте посмотрим на другие признаки в датасете."
   ]
  },
  {
   "cell_type": "code",
   "execution_count": 26,
   "id": "4e735acf",
   "metadata": {},
   "outputs": [],
   "source": [
    "df_agg_ = (\n",
    "    df.groupby(['group', 'ОС'])[['inapp']].count()\n",
    "    .rename(columns = {'inapp': 'count'}).reset_index()\n",
    ")\n",
    "sns.barplot(x = 'ОС', y = 'count', hue = 'group', data = df_agg_)\n",
    "\n",
    "sns.displot(df, x = 'age', hue = 'group', multiple = 'dodge')\n",
    "\n",
    "sns.displot(df, x = 'inapp_prev_week', hue = 'group', multiple = 'dodge');"
   ]
  },
  {
   "cell_type": "markdown",
   "id": "03589894",
   "metadata": {},
   "source": [
    "#### Введем переменную - флаг была ли хоть одна покупка на предыдущей неделе"
   ]
  },
  {
   "cell_type": "code",
   "execution_count": 27,
   "id": "53410eb1",
   "metadata": {},
   "outputs": [],
   "source": [
    "df['strat'] = (df['inapp_prev_week'] > 0).astype(int)"
   ]
  },
  {
   "cell_type": "code",
   "execution_count": 28,
   "id": "eae50c33",
   "metadata": {},
   "outputs": [],
   "source": [
    "df_stat = df.groupby(['group','strat'], as_index = False)['age'].agg(['count'])\n",
    "df_stat['percent'] = df_stat['count'] / 1000"
   ]
  },
  {
   "cell_type": "code",
   "execution_count": 29,
   "id": "887d85e6",
   "metadata": {},
   "outputs": [
    {
     "data": {
      "text/html": [
       "<div>\n",
       "<style scoped>\n",
       "    .dataframe tbody tr th:only-of-type {\n",
       "        vertical-align: middle;\n",
       "    }\n",
       "\n",
       "    .dataframe tbody tr th {\n",
       "        vertical-align: top;\n",
       "    }\n",
       "\n",
       "    .dataframe thead th {\n",
       "        text-align: right;\n",
       "    }\n",
       "</style>\n",
       "<table border=\"1\" class=\"dataframe\">\n",
       "  <thead>\n",
       "    <tr style=\"text-align: right;\">\n",
       "      <th></th>\n",
       "      <th></th>\n",
       "      <th>count</th>\n",
       "      <th>percent</th>\n",
       "    </tr>\n",
       "    <tr>\n",
       "      <th>group</th>\n",
       "      <th>strat</th>\n",
       "      <th></th>\n",
       "      <th></th>\n",
       "    </tr>\n",
       "  </thead>\n",
       "  <tbody>\n",
       "    <tr>\n",
       "      <th rowspan=\"2\" valign=\"top\">control</th>\n",
       "      <th>0</th>\n",
       "      <td>963</td>\n",
       "      <td>0.963</td>\n",
       "    </tr>\n",
       "    <tr>\n",
       "      <th>1</th>\n",
       "      <td>37</td>\n",
       "      <td>0.037</td>\n",
       "    </tr>\n",
       "    <tr>\n",
       "      <th rowspan=\"2\" valign=\"top\">pilot</th>\n",
       "      <th>0</th>\n",
       "      <td>938</td>\n",
       "      <td>0.938</td>\n",
       "    </tr>\n",
       "    <tr>\n",
       "      <th>1</th>\n",
       "      <td>62</td>\n",
       "      <td>0.062</td>\n",
       "    </tr>\n",
       "  </tbody>\n",
       "</table>\n",
       "</div>"
      ],
      "text/plain": [
       "               count  percent\n",
       "group   strat                \n",
       "control 0        963    0.963\n",
       "        1         37    0.037\n",
       "pilot   0        938    0.938\n",
       "        1         62    0.062"
      ]
     },
     "execution_count": 29,
     "metadata": {},
     "output_type": "execute_result"
    }
   ],
   "source": [
    "df_stat"
   ]
  },
  {
   "cell_type": "markdown",
   "id": "6b2ff1b1",
   "metadata": {},
   "source": [
    "Отличия по ОС малы, возраст тоже довольно равномерно распределён. А вот покупки на неделе до пилота, как и покупки во время пилота, содержат много нулей и в пилотной группе покупок больше.\n",
    "\n",
    "Давайте сделаем постстратификацию. Стратифицируем данные по наличию покупок до пилота."
   ]
  },
  {
   "cell_type": "code",
   "execution_count": 30,
   "id": "160792eb",
   "metadata": {},
   "outputs": [],
   "source": [
    "def calc_strat_mean(df: pd.DataFrame, strat_column: str, target_name: str, weights: dict):\n",
    "    \"\"\"Считаем стратифицированное среднее.\n",
    "    \n",
    "    df - датафрейм с целевой метрикой и данными для стратификации\n",
    "    strat_column - названия столбца по которому проводить стратификацию\n",
    "    target_name - название столбца с целевой переменной\n",
    "    weights - словарь - {название страты: вес страты}\n",
    "    \n",
    "    return: float, mean_strat\n",
    "    \"\"\"\n",
    "    strat_mean = df.groupby(strat_column)[target_name].mean()\n",
    "    return (strat_mean * pd.Series(weights)).sum()"
   ]
  },
  {
   "cell_type": "code",
   "execution_count": 31,
   "id": "031b1091",
   "metadata": {},
   "outputs": [
    {
     "name": "stdout",
     "output_type": "stream",
     "text": [
      "Стратифицированное среднее\n",
      "Тестовая группа: 6.390 Контрольная группа: 5.861\n",
      "Разность 0.529\n",
      "\n",
      " Простое среднее\n",
      "Тестовая группа: 7.360 Контрольная группа: 5.010\n",
      "Разность 2.350\n"
     ]
    }
   ],
   "source": [
    "strat_weights = df['strat'].value_counts() / df['strat'].count()\n",
    "\n",
    "df_pilot = df[df['group'] == 'pilot'].copy()\n",
    "df_control = df[df['group'] == 'control'].copy()\n",
    "\n",
    "mean_strat_pilot = calc_strat_mean(df_pilot, 'strat', 'inapp', strat_weights)\n",
    "mean_strat_control = calc_strat_mean(df_control, 'strat', 'inapp', strat_weights)\n",
    "\n",
    "print('Стратифицированное среднее')\n",
    "print(f'Тестовая группа: {mean_strat_pilot:0.3f} Контрольная группа: {mean_strat_control:0.3f}')\n",
    "print(f'Разность {mean_strat_pilot - mean_strat_control:0.3f}')\n",
    "\n",
    "print('\\n Простое среднее')\n",
    "print(f'Тестовая группа: {inapp_pilot.mean():0.3f} Контрольная группа: {inapp_control.mean():0.3f}')\n",
    "print(f'Разность {inapp_pilot.mean() - inapp_control.mean():0.3f}')"
   ]
  },
  {
   "cell_type": "markdown",
   "id": "405a2210",
   "metadata": {},
   "source": [
    "Отличие уменьшилось с 2.35 до 0.53.\n",
    "\n",
    "Оценим значимость эффекта, построив доверительный интервал с помощью бутстрепа."
   ]
  },
  {
   "cell_type": "code",
   "execution_count": 32,
   "id": "5c8839c2",
   "metadata": {},
   "outputs": [
    {
     "name": "stdout",
     "output_type": "stream",
     "text": [
      "confidence interval strat mean: (-0.931, 1.915)\n",
      "confidence interval mean: (0.220, 4.400)\n"
     ]
    }
   ],
   "source": [
    "alpha = 0.05\n",
    "group_size = df_pilot.shape[0]\n",
    "n_iter = 2000\n",
    "\n",
    "def stratified_bootstrap(df: pd.DataFrame, strat_column: str, group_size):\n",
    "    df_size = len(df_pilot.index)\n",
    "    indices_list = []\n",
    "    for group_index in set(df[strat_column].values):\n",
    "        indices = df[df[strat_column] == group_index].index\n",
    "        indices_list.append(np.random.choice(indices, int(group_size * len(indices) / df_size)))\n",
    "    return df.loc[np.concatenate(indices_list)]\n",
    "\n",
    "list_diff_strat_mean = []\n",
    "for _ in range(n_iter):\n",
    "    sample_df_pilot = stratified_bootstrap(df_pilot, 'strat', df_pilot.shape[0])\n",
    "    sample_df_control = stratified_bootstrap(df_control, 'strat', df_control.shape[0])\n",
    "\n",
    "    mean_strat_sample_pilot = calc_strat_mean(sample_df_pilot, 'strat', 'inapp', strat_weights)\n",
    "    mean_strat_sample_control = calc_strat_mean(sample_df_control, 'strat', 'inapp', strat_weights)\n",
    "\n",
    "    list_diff_strat_mean.append(mean_strat_sample_pilot - mean_strat_sample_control)\n",
    "\n",
    "\n",
    "list_diff_mean = []\n",
    "for _ in range(n_iter):\n",
    "    sample_pilot_indexes = np.random.choice(np.arange(group_size), group_size)\n",
    "    sample_control_indexes = np.random.choice(np.arange(group_size), group_size)\n",
    "    sample_df_pilot = df_pilot.iloc[sample_pilot_indexes]\n",
    "    sample_df_control = df_control.iloc[sample_control_indexes]\n",
    "\n",
    "    list_diff_mean.append(sample_df_pilot['inapp'].mean() - sample_df_control['inapp'].mean())\n",
    "\n",
    "left_bound_strat_mean = np.quantile(list_diff_strat_mean, alpha / 2)\n",
    "right_bound_strat_mean = np.quantile(list_diff_strat_mean, 1 - alpha / 2)\n",
    "left_bound_mean = np.quantile(list_diff_mean, alpha / 2)\n",
    "right_bound_mean = np.quantile(list_diff_mean, 1 - alpha / 2)\n",
    "\n",
    "print(f'confidence interval strat mean: ({left_bound_strat_mean:0.3f}, {right_bound_strat_mean:0.3f})')\n",
    "print(f'confidence interval mean: ({left_bound_mean:0.3f}, {right_bound_mean:0.3f})')"
   ]
  },
  {
   "cell_type": "markdown",
   "id": "d1045f7c",
   "metadata": {},
   "source": [
    "Бутстреп подтверждает наличие эффекта при вычислении обычного среднего.\n",
    "\n",
    "Для стратифицированного среднего данные нулевой гипотезе о равенстве средних не противоречат, ноль лежит внутри 95%\n",
    "доверительного интервала. Это повод провести эксперимент повторно, уделив больше внимания его изначальному дизайну."
   ]
  },
  {
   "cell_type": "markdown",
   "id": "43052e95",
   "metadata": {},
   "source": [
    "### CUPED"
   ]
  },
  {
   "cell_type": "markdown",
   "id": "f3b60474",
   "metadata": {},
   "source": [
    "#### Посмотрим на примере как с помощью CUPED можно снизить дисперсию в данных и получить более чувствительный тест"
   ]
  },
  {
   "cell_type": "markdown",
   "id": "760d078d",
   "metadata": {},
   "source": [
    "#### Сгенерируем случайные данные"
   ]
  },
  {
   "cell_type": "code",
   "execution_count": 33,
   "id": "6922a0b8",
   "metadata": {},
   "outputs": [],
   "source": [
    "group_size = 2000\n",
    "np.random.seed(33)"
   ]
  },
  {
   "cell_type": "code",
   "execution_count": 34,
   "id": "1dff7a52",
   "metadata": {},
   "outputs": [],
   "source": [
    "df = pd.DataFrame({\n",
    "    'y_test_before': np.random.normal(120, 40, group_size),\n",
    "    'y_control_before': np.random.normal(120, 40, group_size)\n",
    "})\n",
    "\n",
    "df['y_test'] = df['y_test_before'] + np.random.normal(0, 10, group_size)\n",
    "df['y_control'] = df['y_control_before'] + np.random.normal(0, 10, group_size)"
   ]
  },
  {
   "cell_type": "markdown",
   "id": "275fdefa",
   "metadata": {},
   "source": [
    "#### Искусственно добавим эффект, то есть представим, что во время пилота выросла метрика в тестовой группе"
   ]
  },
  {
   "cell_type": "code",
   "execution_count": 35,
   "id": "dd1a02b4",
   "metadata": {},
   "outputs": [],
   "source": [
    "df['y_test'] += np.random.normal(1, 2, group_size)"
   ]
  },
  {
   "cell_type": "code",
   "execution_count": 36,
   "id": "098954af",
   "metadata": {},
   "outputs": [
    {
     "data": {
      "text/html": [
       "<div>\n",
       "<style scoped>\n",
       "    .dataframe tbody tr th:only-of-type {\n",
       "        vertical-align: middle;\n",
       "    }\n",
       "\n",
       "    .dataframe tbody tr th {\n",
       "        vertical-align: top;\n",
       "    }\n",
       "\n",
       "    .dataframe thead th {\n",
       "        text-align: right;\n",
       "    }\n",
       "</style>\n",
       "<table border=\"1\" class=\"dataframe\">\n",
       "  <thead>\n",
       "    <tr style=\"text-align: right;\">\n",
       "      <th></th>\n",
       "      <th>y_test_before</th>\n",
       "      <th>y_control_before</th>\n",
       "      <th>y_test</th>\n",
       "      <th>y_control</th>\n",
       "    </tr>\n",
       "  </thead>\n",
       "  <tbody>\n",
       "    <tr>\n",
       "      <th>0</th>\n",
       "      <td>107.245860</td>\n",
       "      <td>158.824619</td>\n",
       "      <td>121.193572</td>\n",
       "      <td>162.383391</td>\n",
       "    </tr>\n",
       "    <tr>\n",
       "      <th>1</th>\n",
       "      <td>55.880778</td>\n",
       "      <td>42.041195</td>\n",
       "      <td>57.082363</td>\n",
       "      <td>58.883040</td>\n",
       "    </tr>\n",
       "    <tr>\n",
       "      <th>2</th>\n",
       "      <td>58.591285</td>\n",
       "      <td>180.677089</td>\n",
       "      <td>56.959718</td>\n",
       "      <td>174.232989</td>\n",
       "    </tr>\n",
       "    <tr>\n",
       "      <th>3</th>\n",
       "      <td>97.183964</td>\n",
       "      <td>159.266027</td>\n",
       "      <td>74.451601</td>\n",
       "      <td>157.609703</td>\n",
       "    </tr>\n",
       "    <tr>\n",
       "      <th>4</th>\n",
       "      <td>111.330868</td>\n",
       "      <td>106.441095</td>\n",
       "      <td>114.010630</td>\n",
       "      <td>123.663425</td>\n",
       "    </tr>\n",
       "  </tbody>\n",
       "</table>\n",
       "</div>"
      ],
      "text/plain": [
       "   y_test_before  y_control_before      y_test   y_control\n",
       "0     107.245860        158.824619  121.193572  162.383391\n",
       "1      55.880778         42.041195   57.082363   58.883040\n",
       "2      58.591285        180.677089   56.959718  174.232989\n",
       "3      97.183964        159.266027   74.451601  157.609703\n",
       "4     111.330868        106.441095  114.010630  123.663425"
      ]
     },
     "execution_count": 36,
     "metadata": {},
     "output_type": "execute_result"
    }
   ],
   "source": [
    "df.head()"
   ]
  },
  {
   "cell_type": "code",
   "execution_count": 37,
   "id": "a77b1db5",
   "metadata": {},
   "outputs": [
    {
     "data": {
      "text/plain": [
       "y_test_before       119.989725\n",
       "y_control_before    120.813658\n",
       "y_test              120.846757\n",
       "y_control           120.998000\n",
       "dtype: float64"
      ]
     },
     "execution_count": 37,
     "metadata": {},
     "output_type": "execute_result"
    }
   ],
   "source": [
    "df.mean()"
   ]
  },
  {
   "cell_type": "code",
   "execution_count": 38,
   "id": "acfc2e02",
   "metadata": {},
   "outputs": [
    {
     "name": "stdout",
     "output_type": "stream",
     "text": [
      "pvalue pilot 0.908\n"
     ]
    }
   ],
   "source": [
    "_, pvalue_pilot = ttest_ind(df['y_test'], df['y_control'])\n",
    "print(f'pvalue pilot {pvalue_pilot:0.3f}')"
   ]
  },
  {
   "cell_type": "markdown",
   "id": "ffb7c01c",
   "metadata": {},
   "source": [
    "### Pvalue > 0.05, гипотеза не отвергается"
   ]
  },
  {
   "cell_type": "code",
   "execution_count": 39,
   "id": "acec53db",
   "metadata": {},
   "outputs": [],
   "source": [
    "def calculate_theta(y_control, y_pilot, y_control_cov, y_pilot_cov) -> float:\n",
    "    \"\"\"Вычисляем Theta.\n",
    "    \n",
    "    y_control - значения метрики во время пилота на контрольной группе\n",
    "    y_pilot - значения метрики во время пилота на пилотной группе\n",
    "    y_control_cov - значения ковариант на контрольной группе\n",
    "    y_pilot_cov - значения ковариант на пилотной группе\n",
    "    \"\"\"\n",
    "    y = np.hstack([y_control, y_pilot])\n",
    "    y_cov = np.hstack([y_control_cov, y_pilot_cov])\n",
    "    covariance = np.cov(y_cov, y)[0, 1]\n",
    "    variance = y_cov.var()\n",
    "    theta = covariance / variance\n",
    "    return theta"
   ]
  },
  {
   "cell_type": "code",
   "execution_count": 40,
   "id": "97c758d9",
   "metadata": {},
   "outputs": [],
   "source": [
    "theta = calculate_theta(\n",
    "    df['y_control'], df['y_test'],\n",
    "    df['y_control_before'], df['y_test_before']\n",
    ")\n",
    "\n",
    "df['y_test_cuped'] = df['y_test'] - theta * df['y_test_before']\n",
    "df['y_control_cuped'] = df['y_control'] - theta * df['y_control_before']"
   ]
  },
  {
   "cell_type": "code",
   "execution_count": 41,
   "id": "83322d9b",
   "metadata": {},
   "outputs": [
    {
     "name": "stdout",
     "output_type": "stream",
     "text": [
      "pvalue cuped 0.036\n"
     ]
    }
   ],
   "source": [
    "_, pvalue_cuped = ttest_ind(df['y_test_cuped'], df['y_control_cuped'])\n",
    "print(f'pvalue cuped {pvalue_cuped:0.3f}')"
   ]
  },
  {
   "cell_type": "markdown",
   "id": "5a3bee18",
   "metadata": {},
   "source": [
    "### Pvalue < 0.05, гипотеза отвергается"
   ]
  }
 ],
 "metadata": {
  "kernelspec": {
   "display_name": "Python 3 (ipykernel)",
   "language": "python",
   "name": "python3"
  },
  "language_info": {
   "codemirror_mode": {
    "name": "ipython",
    "version": 3
   },
   "file_extension": ".py",
   "mimetype": "text/x-python",
   "name": "python",
   "nbconvert_exporter": "python",
   "pygments_lexer": "ipython3",
   "version": "3.9.7"
  }
 },
 "nbformat": 4,
 "nbformat_minor": 5
}
