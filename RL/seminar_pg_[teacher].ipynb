{
  "cells": [
    {
      "cell_type": "markdown",
      "metadata": {
        "id": "jE1kYZEcS9ob"
      },
      "source": [
        "# REINFORCE in PyTorch (easy part)"
      ]
    },
    {
      "cell_type": "code",
      "execution_count": null,
      "metadata": {
        "id": "fz9aT2UtS9od"
      },
      "outputs": [],
      "source": [
        "# import sys, os\n",
        "# if 'google.colab' in sys.modules and not os.path.exists('.setup_complete'):\n",
        "#     !wget -q https://raw.githubusercontent.com/yandexdataschool/Practical_RL/master/setup_colab.sh -O- | bash\n",
        "#     !pip install -q gymnasium\n",
        "#     !pip install moviepy\n",
        "#     !apt install ffmpeg\n",
        "#     !pip install imageio-ffmpeg\n",
        "#     !touch .setup_complete\n",
        "\n",
        "# # This code creates a virtual display to draw game images on.\n",
        "# # It will have no effect if your machine has a monitor.\n",
        "# if type(os.environ.get(\"DISPLAY\")) is not str or len(os.environ.get(\"DISPLAY\")) == 0:\n",
        "#     !bash ../xvfb start\n",
        "#     os.environ['DISPLAY'] = ':1'\n",
        "\n",
        "# also you need to install ffmpeg if not installed\n",
        "# for MacOS: ! brew install ffmpeg"
      ]
    },
    {
      "cell_type": "code",
      "execution_count": null,
      "metadata": {
        "id": "TF2Sov-bS9oe"
      },
      "outputs": [],
      "source": [
        "import gymnasium as gym\n",
        "import numpy as np\n",
        "import matplotlib.pyplot as plt\n",
        "%matplotlib inline"
      ]
    },
    {
      "cell_type": "markdown",
      "metadata": {
        "id": "QY5uZ9z_S9of"
      },
      "source": [
        "A caveat: with some versions of `pyglet`, the following cell may crash with `NameError: name 'base' is not defined`. The corresponding bug report is [here](https://github.com/pyglet/pyglet/issues/134). If you see this error, try restarting the kernel."
      ]
    },
    {
      "cell_type": "code",
      "execution_count": null,
      "metadata": {
        "id": "SirJUmFoS9of",
        "colab": {
          "base_uri": "https://localhost:8080/",
          "height": 431
        },
        "outputId": "8c921a27-6054-4253-e31e-d295a2b1ffe0"
      },
      "outputs": [
        {
          "output_type": "stream",
          "name": "stdout",
          "text": [
            "2 4\n"
          ]
        },
        {
          "output_type": "execute_result",
          "data": {
            "text/plain": [
              "<matplotlib.image.AxesImage at 0x7c3c5bcc6570>"
            ]
          },
          "metadata": {},
          "execution_count": 35
        },
        {
          "output_type": "display_data",
          "data": {
            "text/plain": [
              "<Figure size 640x480 with 1 Axes>"
            ],
            "image/png": "[encoded data removed]"
          },
          "metadata": {}
        }
      ],
      "source": [
        "env = gym.make(\"CartPole-v1\", render_mode=\"rgb_array\")\n",
        "\n",
        "# gym compatibility: unwrap TimeLimit\n",
        "if hasattr(env, '_max_episode_steps'):\n",
        "    env = env.env\n",
        "\n",
        "env.reset()\n",
        "n_actions = env.action_space.n\n",
        "state_dim = env.observation_space.shape[0]\n",
        "print(n_actions, state_dim)\n",
        "\n",
        "plt.imshow(env.render())"
      ]
    },
    {
      "cell_type": "markdown",
      "metadata": {
        "id": "B6hT8XEzS9of"
      },
      "source": [
        "# Построение сети для REINFORCE\n",
        "\n",
        "Для алгоритма REINFORCE нам понадобится модель, которая по состоянию предсказывает вероятности действий.\n",
        "\n",
        "Для численной стабильности, пожалуйста, не включайте слой softmax в архитектуру сети.\n",
        "Мы будем применять softmax или log-softmax там, где это будет уместно."
      ]
    },
    {
      "cell_type": "code",
      "execution_count": null,
      "metadata": {
        "id": "pGdh4QL-S9of"
      },
      "outputs": [],
      "source": [
        "import torch\n",
        "import torch.nn as nn\n",
        "import torch.nn.functional as F"
      ]
    },
    {
      "cell_type": "code",
      "execution_count": null,
      "metadata": {
        "id": "nCHVfSK-S9og"
      },
      "outputs": [],
      "source": [
        "# Постройте простую нейросеть, которая предсказывает логиты политики.\n",
        "# Оставьте её простой: для CartPole нет смысла делать глубокие архитектуры.\n",
        "model = nn.Sequential(\n",
        "  # <ВАШ КОД: определите нейросеть, предсказывающую логиты политики>\n",
        "  nn.Linear(state_dim, 128),\n",
        "  nn.ReLU(),\n",
        "  nn.Linear(128, n_actions)\n",
        ")"
      ]
    },
    {
      "cell_type": "markdown",
      "metadata": {
        "id": "2PyKKBH6S9og"
      },
      "source": [
        "## Предсказание\n",
        "\n",
        "Замечание: выходное значение этой функции — не тензор torch, а массив numpy.\n",
        "Поэтому здесь вычисление градиентов не требуется.\n",
        "\n",
        "Используйте no_grad, чтобы выключить вычисление градиента.\n",
        "\n",
        "Также можно использовать .detach() (или устаревший .data), но есть различие:\n",
        "\n",
        "- При .detach() вычислительный граф всё равно строится, но затем связь с конкретным тензором обрывается. Поэтому .detach() стоит применять тогда, когда граф всё ещё нужен для обратного прохода через какой-то другой (не отделённый) тензор.\n",
        "- В отличие от этого, внутри контекста no_grad() граф вообще не строится для любых операций. Поэтому в данном случае предпочтительнее использовать именно no_grad()."
      ]
    },
    {
      "cell_type": "code",
      "execution_count": null,
      "metadata": {
        "id": "or_D2aReS9og"
      },
      "outputs": [],
      "source": [
        "def predict_probs(states):\n",
        "    \"\"\"\n",
        "    Предсказывает вероятности действий для заданных состояний.\n",
        "    :param states: numpy-массив формы [batch, state_shape]\n",
        "    :returns: numpy-массив формы [batch, n_actions]\n",
        "    \"\"\"\n",
        "    # преобразуем состояния в тензор, считаем логиты, применяем softmax для получения вероятностей\n",
        "    # <ВАШ КОД>\n",
        "    # return <ВАШ КОД>\n",
        "    states_t = torch.tensor(states, dtype=torch.float32)\n",
        "\n",
        "    with torch.no_grad():                        # отключаем вычисление градиентов\n",
        "        logits = model(states_t)                 # форма [batch, n_actions]\n",
        "        probs = F.softmax(logits, dim=-1)         # преобразуем логиты в вероятности\n",
        "    return probs.cpu().numpy()                   # возвращаем как numpy-массив"
      ]
    },
    {
      "cell_type": "code",
      "execution_count": null,
      "metadata": {
        "id": "yoRb-nB1S9og"
      },
      "outputs": [],
      "source": [
        "test_states = np.array([env.reset()[0] for _ in range(5)])\n",
        "test_probas = predict_probs(test_states)\n",
        "assert isinstance(test_probas, np.ndarray), \\\n",
        "    \"you must return np array and not %s\" % type(test_probas)\n",
        "assert tuple(test_probas.shape) == (test_states.shape[0], env.action_space.n), \\\n",
        "    \"wrong output shape: %s\" % np.shape(test_probas)\n",
        "assert np.allclose(np.sum(test_probas, axis=1), 1), \"probabilities do not sum to 1\""
      ]
    },
    {
      "cell_type": "markdown",
      "metadata": {
        "id": "DbkqTU6mS9og"
      },
      "source": [
        "### Play the game: собираем опыт в среде\n",
        "\n",
        "Теперь мы можем использовать нашего только что созданного агента, чтобы сыграть в игру."
      ]
    },
    {
      "cell_type": "code",
      "execution_count": null,
      "metadata": {
        "id": "EjJOXIDPS9og"
      },
      "outputs": [],
      "source": [
        "def generate_session(env, t_max=1000):\n",
        "    \"\"\"\n",
        "    Play a full session with REINFORCE agent.\n",
        "    Returns sequences of states, actions, and rewards.\n",
        "    \"\"\"\n",
        "    # arrays to record session\n",
        "    states, actions, rewards = [], [], []\n",
        "\n",
        "    s = env.reset()[0]\n",
        "\n",
        "    for t in range(t_max):\n",
        "        # action probabilities array aka pi(a|s)\n",
        "        action_probs = predict_probs(np.array([s])).squeeze()\n",
        "\n",
        "        # Sample action with given probabilities.\n",
        "        # a = <ВАШ КОД>\n",
        "        a = np.random.choice(env.action_space.n, p=action_probs)\n",
        "\n",
        "        new_s, r, terminated, truncated, info = env.step(a)\n",
        "\n",
        "        # record session history to train later\n",
        "        states.append(s)\n",
        "        actions.append(a)\n",
        "        rewards.append(r)\n",
        "\n",
        "        s = new_s\n",
        "        if terminated or truncated:\n",
        "            break\n",
        "\n",
        "    return states, actions, rewards"
      ]
    },
    {
      "cell_type": "code",
      "execution_count": null,
      "metadata": {
        "id": "rjP0o75sS9oh"
      },
      "outputs": [],
      "source": [
        "# test it\n",
        "states, actions, rewards = generate_session(env)"
      ]
    },
    {
      "cell_type": "markdown",
      "metadata": {
        "id": "MYQ8J-HAS9oh"
      },
      "source": [
        "### Вычисляем кумулятивные награды\n",
        "\n",
        "$$\n",
        "\\begin{align*}\n",
        "G_t &= r_t + \\gamma r_{t + 1} + \\gamma^2 r_{t + 2} + \\ldots \\\\\n",
        "&= \\sum_{i = t}^T \\gamma^{i - t} r_i \\\\\n",
        "&= r_t + \\gamma * G_{t + 1}\n",
        "\\end{align*}\n",
        "$$"
      ]
    },
    {
      "cell_type": "code",
      "execution_count": null,
      "metadata": {
        "id": "sH19f9-WS9oh"
      },
      "outputs": [],
      "source": [
        "def get_cumulative_rewards(rewards,  # rewards at each step\n",
        "                           gamma=0.99  # discount for reward\n",
        "                           ):\n",
        "    \"\"\"\n",
        "    Take a list of immediate rewards r(s,a) for the whole session\n",
        "    and compute cumulative returns (a.k.a. G(s,a) in Sutton '16).\n",
        "\n",
        "    G_t = r_t + gamma*r_{t+1} + gamma^2*r_{t+2} + ...\n",
        "\n",
        "    A simple way to compute cumulative rewards is to iterate from the last\n",
        "    to the first timestep and compute G_t = r_t + gamma*G_{t+1} recurrently\n",
        "\n",
        "    You must return an array/list of cumulative rewards with as many elements as in the initial rewards.\n",
        "    \"\"\"\n",
        "    # <ВАШ КОД>\n",
        "    # return <ВАШ КОД: array of cumulative rewards>\n",
        "\n",
        "    n = len(rewards)\n",
        "    G = np.zeros(n, dtype=np.float32)\n",
        "    G_t = 0.0\n",
        "    for i in reversed(range(n)):\n",
        "        G_t = rewards[i] + gamma * G_t\n",
        "        G[i] = G_t\n",
        "    return G"
      ]
    },
    {
      "cell_type": "code",
      "execution_count": null,
      "metadata": {
        "id": "juRPCmldS9oh",
        "colab": {
          "base_uri": "https://localhost:8080/"
        },
        "outputId": "e90c3a37-373e-48d6-ae5d-9236b0f4444b"
      },
      "outputs": [
        {
          "output_type": "stream",
          "name": "stdout",
          "text": [
            "looks good!\n"
          ]
        }
      ],
      "source": [
        "get_cumulative_rewards(rewards)\n",
        "assert len(get_cumulative_rewards(list(range(100)))) == 100\n",
        "assert np.allclose(\n",
        "    get_cumulative_rewards([0, 0, 1, 0, 0, 1, 0], gamma=0.9),\n",
        "    [1.40049, 1.5561, 1.729, 0.81, 0.9, 1.0, 0.0])\n",
        "assert np.allclose(\n",
        "    get_cumulative_rewards([0, 0, 1, -2, 3, -4, 0], gamma=0.5),\n",
        "    [0.0625, 0.125, 0.25, -1.5, 1.0, -4.0, 0.0])\n",
        "assert np.allclose(\n",
        "    get_cumulative_rewards([0, 0, 1, 2, 3, 4, 0], gamma=0),\n",
        "    [0, 0, 1, 2, 3, 4, 0])\n",
        "print(\"looks good!\")"
      ]
    },
    {
      "cell_type": "markdown",
      "metadata": {
        "id": "DSDy8dNaS9oh"
      },
      "source": [
        "#### Loss function and updates\n",
        "\n",
        "Теперь нам нужно определить функцию потерь и обновление параметров для градиентного метода по политике (policy gradient).\n",
        "\n",
        "Наша целевая функция (objective):\n",
        "\n",
        "$$J \\approx \\frac{1}{N} \\sum_{i=1}^{N} G(s_i, a_i)$$\n",
        "\n",
        "REINFORCE даёт способ вычисления градиента матожидания вознаграждения по параметрам политики \\theta:\n",
        "\n",
        "$$\\nabla_\\theta \\hat J(\\theta) \\approx \\frac{1}{N} \\sum_{i=1}^{N} \\nabla_\\theta \\log \\pi_\\theta (a_i \\mid s_i) \\cdot G(s_i, a_i)$$\n",
        "\n",
        "То есть, мы берём логарифм вероятности выбранного действия, умножаем на накопленное вознаграждение, и считаем градиент по параметрам сети.\n",
        "\n",
        "С помощью PyTorch это можно сделать через обычное определение функции потерь:\n",
        "\n",
        "$$\\hat J(\\theta) \\approx \\frac{1}{N} \\sum_{i=1}^{N} \\log \\pi_\\theta (a_i \\mid s_i) \\cdot G(s_i, a_i)$$\n",
        "\n",
        "При вычислении градиента этой функции по весам сети $\\theta$ PyTorch автоматически выдаст правильный градиент политики, как описано в REINFORCE."
      ]
    },
    {
      "cell_type": "code",
      "execution_count": null,
      "metadata": {
        "id": "RtBYw0YrS9oh"
      },
      "outputs": [],
      "source": [
        "# Your code: define optimizers\n",
        "optimizer = torch.optim.Adam(model.parameters(), 1e-3)\n",
        "\n",
        "\n",
        "def train_on_session(states, actions, rewards, gamma=0.99, entropy_coef=1e-2):\n",
        "    \"\"\"\n",
        "    Takes a sequence of states, actions and rewards produced by generate_session.\n",
        "    Updates agent's weights by following the policy gradient above.\n",
        "    Please use Adam optimizer with default parameters.\n",
        "    \"\"\"\n",
        "\n",
        "    # cast everything into torch tensors\n",
        "    states = torch.tensor(states, dtype=torch.float32)\n",
        "    actions = torch.tensor(actions, dtype=torch.int64)\n",
        "    cumulative_returns = np.array(get_cumulative_rewards(rewards, gamma))\n",
        "    cumulative_returns = torch.tensor(cumulative_returns, dtype=torch.float32)\n",
        "\n",
        "    # predict logits, probas and log-probas using an agent.\n",
        "    logits = model(states)\n",
        "    probs = nn.functional.softmax(logits, -1)\n",
        "    log_probs = nn.functional.log_softmax(logits, -1)\n",
        "\n",
        "    assert all(isinstance(v, torch.Tensor) for v in [logits, probs, log_probs]), \\\n",
        "        \"please use compute using torch tensors and don't use predict_probs function\"\n",
        "\n",
        "    # select log-probabilities for chosen actions, log pi(a_i|s_i)\n",
        "    log_probs_for_actions = torch.sum(\n",
        "        log_probs * F.one_hot(actions, env.action_space.n), dim=1)\n",
        "\n",
        "    # Compute loss here. Don't forgen entropy regularization with `entropy_coef`\n",
        "    # entropy = <ВАШ КОД>\n",
        "    # Entropy regularization: средняя энтропия по шагам\n",
        "    entropy = - torch.sum(probs * log_probs, dim=-1).mean()\n",
        "\n",
        "    # loss = <ВАШ КОД>\n",
        "    # Policy gradient loss: мы хотим MAXIMIZE mean(log_pi * G),\n",
        "    # поэтому для оптимизации методом градиентного спуска берем минус этого.\n",
        "    loss = -torch.mean(log_probs_for_actions * cumulative_returns) - entropy_coef * entropy\n",
        "\n",
        "    # Gradient descent step\n",
        "    # <ВАШ КОД>\n",
        "    optimizer.zero_grad()\n",
        "    loss.backward()\n",
        "    optimizer.step()\n",
        "\n",
        "    # technical: return session rewards to print them later\n",
        "    return np.sum(rewards)"
      ]
    },
    {
      "cell_type": "markdown",
      "metadata": {
        "id": "dRJ7J6YjS9oi"
      },
      "source": [
        "### The actual training"
      ]
    },
    {
      "cell_type": "code",
      "execution_count": null,
      "metadata": {
        "id": "QXPT_8CRS9oi",
        "colab": {
          "base_uri": "https://localhost:8080/"
        },
        "outputId": "f45c87fd-815b-4d82-af89-83805164d5e9"
      },
      "outputs": [
        {
          "output_type": "stream",
          "name": "stdout",
          "text": [
            "mean reward: 19.500\n",
            "mean reward: 13.750\n",
            "mean reward: 15.370\n",
            "mean reward: 28.100\n",
            "mean reward: 63.590\n",
            "mean reward: 89.860\n",
            "mean reward: 153.000\n",
            "mean reward: 182.910\n",
            "mean reward: 152.750\n",
            "mean reward: 187.920\n",
            "mean reward: 163.910\n",
            "mean reward: 171.140\n",
            "mean reward: 297.040\n",
            "mean reward: 272.770\n",
            "mean reward: 209.400\n",
            "mean reward: 257.390\n",
            "mean reward: 116.130\n",
            "mean reward: 122.560\n",
            "mean reward: 149.560\n",
            "mean reward: 203.070\n",
            "mean reward: 210.330\n",
            "mean reward: 322.930\n",
            "mean reward: 141.980\n",
            "mean reward: 257.850\n",
            "mean reward: 112.830\n",
            "mean reward: 102.890\n",
            "mean reward: 152.900\n",
            "mean reward: 174.180\n",
            "mean reward: 162.570\n",
            "mean reward: 102.310\n",
            "mean reward: 89.790\n",
            "mean reward: 105.240\n",
            "mean reward: 130.300\n",
            "mean reward: 106.110\n",
            "mean reward: 117.060\n",
            "mean reward: 273.710\n",
            "mean reward: 162.600\n",
            "mean reward: 173.110\n",
            "mean reward: 955.070\n",
            "You Win!\n"
          ]
        }
      ],
      "source": [
        "for i in range(100):\n",
        "    rewards = [train_on_session(*generate_session(env)) for _ in range(100)]  # generate new sessions\n",
        "\n",
        "    print(\"mean reward: %.3f\" % (np.mean(rewards)))\n",
        "\n",
        "    if np.mean(rewards) > 500:\n",
        "        print(\"You Win!\")  # but you can train even further\n",
        "        break"
      ]
    },
    {
      "cell_type": "markdown",
      "metadata": {
        "id": "qNKy9bdVS9oi"
      },
      "source": [
        "### Results & video"
      ]
    },
    {
      "cell_type": "code",
      "execution_count": null,
      "metadata": {
        "id": "O08W2SQZS9oi",
        "colab": {
          "base_uri": "https://localhost:8080/"
        },
        "outputId": "0fb59e11-5588-4a92-91f0-a8364652246e"
      },
      "outputs": [
        {
          "output_type": "stream",
          "name": "stderr",
          "text": [
            "/usr/local/lib/python3.12/dist-packages/gymnasium/wrappers/rendering.py:296: UserWarning: \u001b[33mWARN: Overwriting existing videos at /content/videos folder (try specifying a different `video_folder` for the `RecordVideo` wrapper if this is not desired)\u001b[0m\n",
            "  logger.warn(\n"
          ]
        }
      ],
      "source": [
        "# Record sessions\n",
        "\n",
        "from gymnasium.wrappers import RecordVideo\n",
        "\n",
        "with gym.make(\"CartPole-v1\", render_mode=\"rgb_array\") as env, RecordVideo(\n",
        "    env=env, video_folder=\"./videos\"\n",
        ") as env_monitor:\n",
        "    sessions = [generate_session(env_monitor) for _ in range(10)]\n"
      ]
    },
    {
      "cell_type": "code",
      "execution_count": null,
      "metadata": {
        "id": "3-626vShS9oi",
        "colab": {
          "base_uri": "https://localhost:8080/",
          "height": 521
        },
        "outputId": "29f8cbd7-0106-46dd-c6da-87c29a9a6c70"
      },
      "outputs": [
        {
          "output_type": "execute_result",
          "data": {
            "text/plain": [
              "<IPython.core.display.HTML object>"
            ],
            "text/html": [
              "\n",
              "<video width=\"640\" height=\"480\" controls>\n",
              "  <source src=\"data:video/mp4;base64,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\" type=\"video/mp4\">\n",
              "</video>\n"
            ]
          },
          "metadata": {},
          "execution_count": 47
        }
      ],
      "source": [
        "# Show video. This may not work in some setups. If it doesn't\n",
        "# work for you, you can download the videos and view them locally.\n",
        "\n",
        "from pathlib import Path\n",
        "from base64 import b64encode\n",
        "from IPython.display import HTML\n",
        "import sys\n",
        "\n",
        "video_paths = sorted([s for s in Path('videos').iterdir() if s.suffix == '.mp4'])\n",
        "video_path = video_paths[-1]  # You can also try other indices\n",
        "\n",
        "if 'google.colab' in sys.modules:\n",
        "    # https://stackoverflow.com/a/57378660/1214547\n",
        "    with video_path.open('rb') as fp:\n",
        "        mp4 = fp.read()\n",
        "    data_url = 'data:video/mp4;base64,' + b64encode(mp4).decode()\n",
        "else:\n",
        "    data_url = str(video_path)\n",
        "\n",
        "HTML(\"\"\"\n",
        "<video width=\"640\" height=\"480\" controls>\n",
        "  <source src=\"{}\" type=\"video/mp4\">\n",
        "</video>\n",
        "\"\"\".format(data_url))"
      ]
    },
    {
      "cell_type": "markdown",
      "metadata": {
        "id": "2V4kx2byqzkJ"
      },
      "source": [
        "# Implementing Actor Critic (A2C)"
      ]
    },
    {
      "cell_type": "code",
      "execution_count": null,
      "metadata": {
        "id": "VKh48HzxqzkJ"
      },
      "outputs": [],
      "source": [
        "import torch\n",
        "import torch.nn as nn\n",
        "from torch.distributions import Categorical\n",
        "from collections import deque\n",
        "\n",
        "class ActorBatch:\n",
        "    def __init__(self):\n",
        "        self.logprobs = []\n",
        "        self.q_values = []\n",
        "\n",
        "    def append(self, log_prob, q_value):\n",
        "        self.logprobs.append(log_prob)\n",
        "        self.q_values.append(q_value)\n",
        "\n",
        "    def clear(self):\n",
        "        self.logprobs.clear()\n",
        "        self.q_values.clear()\n",
        "\n",
        "def to_tensor(x, dtype=np.float32):\n",
        "    if isinstance(x, torch.Tensor):\n",
        "        return x\n",
        "    x = np.asarray(x, dtype=dtype)\n",
        "    x = torch.from_numpy(x)\n",
        "    return x\n",
        "\n",
        "def sample_batch(replay_buffer, n_samples):\n",
        "    # sample randomly `n_samples` samples from replay buffer [(s, a, r, n_s, done)]\n",
        "    # and split an array of samples into arrays: states, actions, rewards, next_actions, terminateds\n",
        "    # <ВАШ КОД>\n",
        "    n_samples = min(len(replay_buffer), n_samples)\n",
        "\n",
        "    indices = np.random.choice(len(replay_buffer), n_samples, replace=False)\n",
        "    states, actions, rewards, next_actions, terminateds = [], [], [], [], []\n",
        "    for i in indices:\n",
        "        s, a, r, n_s, done = replay_buffer[i]\n",
        "        states.append(s)\n",
        "        actions.append(a)\n",
        "        rewards.append(r)\n",
        "        next_actions.append(n_s)\n",
        "        terminateds.append(done)\n",
        "    ##############################\n",
        "\n",
        "    return np.array(states), np.array(actions), np.array(rewards), np.array(next_actions), np.array(terminateds)"
      ]
    },
    {
      "cell_type": "code",
      "execution_count": null,
      "metadata": {
        "id": "QpK7B4HfqzkJ"
      },
      "outputs": [],
      "source": [
        "class ActorCriticModel(nn.Module):\n",
        "    def __init__(self, input_dim, hidden_dims, output_dim):\n",
        "        super().__init__()\n",
        "\n",
        "        # Инициализируйте сеть агента с двумя головами: softmax-актора и линейного критика\n",
        "        # self.net, self.actor_head, self.critic_head =\n",
        "        ####### <ВАШ КОД> ########\n",
        "        from_dim = input_dim\n",
        "        layers = []\n",
        "        for to_dim in hidden_dims:\n",
        "            layers.extend([\n",
        "                nn.Linear(from_dim, to_dim),\n",
        "                nn.Tanh()\n",
        "            ])\n",
        "            from_dim = to_dim\n",
        "\n",
        "        self.net = nn.Sequential(*layers)\n",
        "        self.actor_head = nn.Sequential(\n",
        "            nn.Linear(hidden_dims[-1], output_dim),\n",
        "            nn.Softmax(dim=-1)\n",
        "        )\n",
        "        self.critic_head = nn.Sequential(\n",
        "            nn.Linear(hidden_dims[-1], output_dim),\n",
        "        )\n",
        "        # self.actor_head = nn.Sequential(\n",
        "        #     create_network(input_dim, hidden_dims, output_dim),\n",
        "        #     nn.Softmax(dim=-1)\n",
        "        # )\n",
        "        # self.critic_head = create_network(input_dim, hidden_dims, output_dim)\n",
        "        ##############################\n",
        "\n",
        "    def forward(self, state):\n",
        "        # Вычислите выбранное действие, логарифм вероятности его выбора и соответствующее значение Q-функции\n",
        "        ####### <ВАШ КОД> ########\n",
        "        state = self.net(state)\n",
        "\n",
        "        action_probs = self.actor_head(state)\n",
        "        dist = Categorical(action_probs)\n",
        "        action = dist.sample()\n",
        "\n",
        "        q_values = self.critic_head(state)\n",
        "\n",
        "        log_prob = dist.log_prob(action)\n",
        "        action = action.item()\n",
        "        # adv = q_values[action] - torch.sum(q_values * action_probs, -1)\n",
        "        q_value = q_values[action]\n",
        "        ##############################\n",
        "\n",
        "        return action, log_prob, q_value\n",
        "\n",
        "    def evaluate(self, state):\n",
        "        # Вычислите значения Q-функции для данного состояния\n",
        "        ####### <ВАШ КОД> ########\n",
        "        state = self.net(state)\n",
        "\n",
        "        q_values = self.critic_head(state)\n",
        "        ##############################\n",
        "        return q_values"
      ]
    },
    {
      "cell_type": "code",
      "execution_count": null,
      "metadata": {
        "id": "pIwccDY-qzkJ"
      },
      "outputs": [],
      "source": [
        "class ActorCriticAgent:\n",
        "    def __init__(self, state_dim, action_dim, hidden_dims, lr, gamma, critic_rb_size):\n",
        "        self.lr = lr\n",
        "        self.gamma = gamma\n",
        "\n",
        "        # Инициализируйте модель актор-критика и оптимизатор (например, `torch.optim.Adam)`)\n",
        "        ####### <ВАШ КОД> ########\n",
        "        self.actor_critic = ActorCriticModel(state_dim, hidden_dims, action_dim)\n",
        "        self.actor_opt = self.critic_opt = self.opt = torch.optim.Adam(self.actor_critic.parameters(), lr=lr)\n",
        "        # self.actor_opt = torch.optim.Adam(self.actor_critic.actor_head.parameters(), lr=lr)\n",
        "        # self.critic_opt = torch.optim.Adam(self.actor_critic.critic_head.parameters(), lr=lr*.25)\n",
        "        ##############################\n",
        "\n",
        "        self.actor_batch = ActorBatch()\n",
        "        self.critic_rb = deque(maxlen=critic_rb_size)\n",
        "\n",
        "    def act(self, state):\n",
        "        # Произведите выбор действия и сохраните необходимые данные в батч для последующего обучения\n",
        "        # Не забудьте сделать q_value.detach()\n",
        "        # self.actor_batch.append(..)\n",
        "        ####### <ВАШ КОД> ########\n",
        "        action, logprob, q_value = self.actor_critic(to_tensor(state))\n",
        "        self.actor_batch.append(logprob, q_value.detach())\n",
        "\n",
        "        # action = select_action_eps_greedy(self.actor_critic.critic_head, state, 0.05)\n",
        "        ##############################\n",
        "\n",
        "        return action\n",
        "\n",
        "    def append_to_replay_buffer(self, s, a, r, next_s, terminated):\n",
        "        # Добавьте новый экземпляр данных в память прецедентов.\n",
        "        ####### <ВАШ КОД> ########\n",
        "        self.critic_rb.append((s, a, r, next_s, terminated))\n",
        "        ##############################\n",
        "\n",
        "    def evaluate(self, state):\n",
        "        return self.actor_critic.evaluate(state)\n",
        "\n",
        "    def update(self, rollout_size, critic_batch_size, critic_updates_per_actor):\n",
        "        if len(self.actor_batch.q_values) < rollout_size:\n",
        "            return\n",
        "\n",
        "        self.update_actor()\n",
        "        self.update_critic(critic_batch_size, critic_updates_per_actor)\n",
        "\n",
        "    def update_actor(self):\n",
        "        Q_s_a = to_tensor(self.actor_batch.q_values)\n",
        "        logprobs = torch.stack(self.actor_batch.logprobs)\n",
        "\n",
        "        # Реализуйте шаг обновления актора — вычислите ошибку `loss` и произведите шаг обновления градиентным спуском.\n",
        "        # Опционально: сделайте нормализацию отдач\n",
        "        ####### <ВАШ КОД> ########\n",
        "        # Нормализация отдач\n",
        "        Q_s_a = (Q_s_a - Q_s_a.mean()) / (Q_s_a.std() + 1e-7)\n",
        "\n",
        "        # Считаем ошибку\n",
        "        loss = torch.mean(-logprobs * Q_s_a)\n",
        "\n",
        "        self.actor_opt.zero_grad()\n",
        "        loss.backward()\n",
        "        self.actor_opt.step()\n",
        "        self.actor_batch.clear()\n",
        "        ##############################\n",
        "\n",
        "    def update_critic(self, batch_size, n_updates=1):\n",
        "        # Реализуйте n_updates шагов обучения критика.\n",
        "        ####### <ВАШ КОД> ########\n",
        "\n",
        "        if len(self.critic_rb) < batch_size:\n",
        "            return\n",
        "\n",
        "        for _ in range(n_updates):\n",
        "            train_batch = sample_batch(self.critic_rb, batch_size)\n",
        "            states, actions, rewards, next_states, terminateds = train_batch\n",
        "\n",
        "            self.critic_opt.zero_grad()\n",
        "            loss = self.compute_td_loss(states, actions, rewards, next_states, terminateds)\n",
        "            loss.backward()\n",
        "            self.critic_opt.step()\n",
        "        ##############################\n",
        "\n",
        "    def compute_td_loss(\n",
        "        self, states, actions, rewards, next_states, terminateds, regularizer=.1\n",
        "    ):\n",
        "        # переводим входные данные в тензоры\n",
        "        s = to_tensor(states)                     # shape: [batch_size, state_size]\n",
        "        a = to_tensor(actions, int).long()        # shape: [batch_size]\n",
        "        r = to_tensor(rewards)                    # shape: [batch_size]\n",
        "        s_next = to_tensor(next_states)           # shape: [batch_size, state_size]\n",
        "        term = to_tensor(terminateds, bool)       # shape: [batch_size]\n",
        "\n",
        "        # получаем Q[s, a] для выбранных действий в текущих состояниях (для каждого примера из батча)\n",
        "        # Q_s_a = ...\n",
        "        ####### <ВАШ КОД> ########\n",
        "        Q_s = self.evaluate(s)   # shape: [batch_size, n_actions]\n",
        "        Q_s_a = torch.gather(\n",
        "            Q_s, dim=1, index=torch.unsqueeze(a, 1)\n",
        "        ).squeeze(1)\n",
        "        ##############################\n",
        "\n",
        "        # получаем Q[s_next, *] — значения полезности всех действий в следующих состояниях\n",
        "        # Q_sn = ...,\n",
        "        # а затем вычисляем V*[s_next] — оптимальные значения полезности следующих состояний\n",
        "        # V_sn = ...\n",
        "        ####### <ВАШ КОД> ########\n",
        "        with torch.no_grad():\n",
        "            Q_sn = self.evaluate(s_next)\n",
        "            V_sn, _ = torch.max(Q_sn, axis=-1)\n",
        "        ##############################\n",
        "\n",
        "        # вычисляем TD target и далее TD error\n",
        "        # target = ...\n",
        "        # td_error = ...\n",
        "        ####### <ВАШ КОД> ########\n",
        "        target = r + self.gamma * V_sn * torch.logical_not(term)\n",
        "        td_error = Q_s_a - target\n",
        "        ##############################\n",
        "\n",
        "        # MSE loss для минимизации\n",
        "        loss = torch.mean(td_error ** 2)\n",
        "        # добавляем регуляризацию на значения Q\n",
        "        loss += regularizer * Q_s_a.mean()\n",
        "        return loss"
      ]
    },
    {
      "cell_type": "code",
      "execution_count": null,
      "metadata": {
        "id": "FII_9uHBqzkK"
      },
      "outputs": [],
      "source": [
        "def run_actor_critic(\n",
        "        env_name=\"CartPole-v1\",\n",
        "        hidden_dims=(128, 128), lr=1e-3,\n",
        "        total_max_steps=200_000,\n",
        "        # train_schedule=4, replay_buffer_size=4, batch_size=4, critic_updates_per_actor=1,\n",
        "        train_schedule=32, replay_buffer_size=5000, batch_size=32, critic_updates_per_actor=4,\n",
        "        eval_schedule=1000, smooth_ret_window=5, success_ret=200.\n",
        "):\n",
        "    env = gym.make(env_name)\n",
        "    episode_return_history = deque(maxlen=smooth_ret_window)\n",
        "\n",
        "    agent = ActorCriticAgent(\n",
        "        state_dim=env.observation_space.shape[0], action_dim=env.action_space.n, hidden_dims=hidden_dims,\n",
        "        lr=lr, gamma=.995, critic_rb_size=replay_buffer_size\n",
        "    )\n",
        "\n",
        "    s, _ = env.reset()\n",
        "    done, episode_return = False, 0.\n",
        "    eval = False\n",
        "\n",
        "    for global_step in range(1, total_max_steps+1):\n",
        "        a = agent.act(s)\n",
        "        s_next, r, terminated, truncated, _ = env.step(a)\n",
        "        episode_return += r\n",
        "        done = terminated or truncated\n",
        "\n",
        "        # train step\n",
        "        agent.append_to_replay_buffer(s, a, r, s_next, terminated)\n",
        "        agent.update(train_schedule, batch_size, critic_updates_per_actor)\n",
        "\n",
        "        # evaluate\n",
        "        if global_step % eval_schedule == 0:\n",
        "            eval = True\n",
        "\n",
        "        s = s_next\n",
        "        if done:\n",
        "            if eval:\n",
        "                episode_return_history.append(episode_return)\n",
        "                avg_return = np.mean(episode_return_history)\n",
        "                print(f'{global_step=} | {avg_return=:.3f}')\n",
        "                if avg_return >= success_ret:\n",
        "                    print('Решено!')\n",
        "                    break\n",
        "\n",
        "            s, _ = env.reset()\n",
        "            done, episode_return = False, 0.\n",
        "            eval = False"
      ]
    },
    {
      "cell_type": "code",
      "execution_count": null,
      "metadata": {
        "colab": {
          "base_uri": "https://localhost:8080/"
        },
        "id": "A5s_sw6CqzkK",
        "outputId": "54960ccb-8233-430e-e4ff-2d91b6f6b35e"
      },
      "outputs": [
        {
          "output_type": "stream",
          "name": "stdout",
          "text": [
            "global_step=1065 | avg_return=85.000\n",
            "global_step=2007 | avg_return=49.500\n",
            "global_step=3041 | avg_return=91.333\n",
            "global_step=4090 | avg_return=94.250\n",
            "global_step=5052 | avg_return=97.600\n",
            "global_step=6048 | avg_return=95.600\n",
            "global_step=7167 | avg_return=127.400\n",
            "global_step=8062 | avg_return=124.000\n",
            "global_step=9058 | avg_return=123.000\n",
            "global_step=10053 | avg_return=123.000\n",
            "global_step=11031 | avg_return=128.200\n",
            "global_step=12045 | avg_return=123.800\n",
            "global_step=13000 | avg_return=115.400\n",
            "global_step=14101 | avg_return=119.000\n",
            "global_step=15099 | avg_return=124.400\n",
            "global_step=16056 | avg_return=126.200\n",
            "global_step=17065 | avg_return=119.400\n",
            "global_step=18006 | avg_return=123.600\n",
            "global_step=19007 | avg_return=130.600\n",
            "global_step=20053 | avg_return=137.400\n",
            "global_step=21018 | avg_return=143.000\n",
            "global_step=22061 | avg_return=149.400\n",
            "global_step=23035 | avg_return=146.200\n",
            "global_step=24087 | avg_return=140.000\n",
            "global_step=25120 | avg_return=132.200\n",
            "global_step=26072 | avg_return=122.600\n",
            "global_step=27094 | avg_return=115.400\n",
            "global_step=28117 | avg_return=131.400\n",
            "global_step=29074 | avg_return=129.600\n",
            "global_step=30108 | avg_return=130.800\n",
            "global_step=31034 | avg_return=138.800\n",
            "global_step=32182 | avg_return=165.000\n",
            "global_step=33046 | avg_return=154.600\n",
            "global_step=34133 | avg_return=162.600\n",
            "global_step=35109 | avg_return=170.800\n",
            "global_step=36182 | avg_return=231.000\n",
            "Решено!\n"
          ]
        }
      ],
      "source": [
        "run_actor_critic()"
      ]
    },
    {
      "cell_type": "code",
      "execution_count": null,
      "metadata": {
        "id": "n5CaJyOUqzkK"
      },
      "outputs": [],
      "source": []
    }
  ],
  "metadata": {
    "colab": {
      "provenance": []
    },
    "kernelspec": {
      "display_name": "tmp",
      "language": "python",
      "name": "python3"
    },
    "language_info": {
      "codemirror_mode": {
        "name": "ipython",
        "version": 3
      },
      "file_extension": ".py",
      "mimetype": "text/x-python",
      "name": "python",
      "nbconvert_exporter": "python",
      "pygments_lexer": "ipython3",
      "version": "3.10.13"
    }
  },
  "nbformat": 4,
  "nbformat_minor": 0
}