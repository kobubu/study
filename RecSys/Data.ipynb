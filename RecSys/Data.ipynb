{
  "nbformat": 4,
  "nbformat_minor": 0,
  "metadata": {
    "colab": {
      "provenance": []
    },
    "kernelspec": {
      "name": "python3",
      "display_name": "Python 3"
    },
    "language_info": {
      "name": "python"
    }
  },
  "cells": [
    {
      "cell_type": "code",
      "execution_count": null,
      "metadata": {
        "colab": {
          "base_uri": "https://localhost:8080/"
        },
        "id": "rs7mu__Fo5kL",
        "outputId": "b5a6a3b4-b0ba-4bd5-ab12-5cf0b32bb23d"
      },
      "outputs": [
        {
          "output_type": "stream",
          "name": "stdout",
          "text": [
            "--2025-09-28 17:32:03--  https://raw.githubusercontent.com/irsafilo/KION_DATASET/main/data_original/items.csv\n",
            "Resolving raw.githubusercontent.com (raw.githubusercontent.com)... 185.199.108.133, 185.199.109.133, 185.199.110.133, ...\n",
            "Connecting to raw.githubusercontent.com (raw.githubusercontent.com)|185.199.108.133|:443... connected.\n",
            "HTTP request sent, awaiting response... 200 OK\n",
            "Length: 31836561 (30M) [text/plain]\n",
            "Saving to: ‘items.csv’\n",
            "\n",
            "items.csv           100%[===================>]  30.36M  --.-KB/s    in 0.1s    \n",
            "\n",
            "2025-09-28 17:32:03 (208 MB/s) - ‘items.csv’ saved [31836561/31836561]\n",
            "\n"
          ]
        }
      ],
      "source": [
        "! wget https://raw.githubusercontent.com/irsafilo/KION_DATASET/main/data_original/items.csv"
      ]
    },
    {
      "cell_type": "code",
      "source": [
        "! wget https://raw.githubusercontent.com/irsafilo/KION_DATASET/main/interactions.csv.zip\n",
        "! unzip interactions.csv.zip"
      ],
      "metadata": {
        "colab": {
          "base_uri": "https://localhost:8080/"
        },
        "id": "ywG5e-sPpYIH",
        "outputId": "9bf2846e-dea1-469b-ac70-fccc8d5f24ac"
      },
      "execution_count": null,
      "outputs": [
        {
          "output_type": "stream",
          "name": "stdout",
          "text": [
            "--2025-09-28 17:32:03--  https://raw.githubusercontent.com/irsafilo/KION_DATASET/main/interactions.csv.zip\n",
            "Resolving raw.githubusercontent.com (raw.githubusercontent.com)... 185.199.111.133, 185.199.109.133, 185.199.108.133, ...\n",
            "Connecting to raw.githubusercontent.com (raw.githubusercontent.com)|185.199.111.133|:443... connected.\n",
            "HTTP request sent, awaiting response... 200 OK\n",
            "Length: 18651415 (18M) [application/zip]\n",
            "Saving to: ‘interactions.csv.zip’\n",
            "\n",
            "interactions.csv.zi 100%[===================>]  17.79M  --.-KB/s    in 0.07s   \n",
            "\n",
            "2025-09-28 17:32:03 (246 MB/s) - ‘interactions.csv.zip’ saved [18651415/18651415]\n",
            "\n",
            "Archive:  interactions.csv.zip\n",
            "  inflating: interactions.csv        \n"
          ]
        }
      ]
    },
    {
      "cell_type": "markdown",
      "source": [
        "https://github.com/irsafilo/KION_DATASET/blob/main/README.md"
      ],
      "metadata": {
        "id": "jUAjtqPD0hEd"
      }
    },
    {
      "cell_type": "markdown",
      "source": [
        "# ПРАКТИЧЕСКАЯ РАБОТА: КОДИРОВАНИЕ НЕЯВНЫХ И КОНТЕКСТНЫХ ПРИЗНАКОВ"
      ],
      "metadata": {
        "id": "T_vKaWpXvJEm"
      }
    },
    {
      "cell_type": "code",
      "source": [
        "import pandas as pd\n",
        "import numpy as np\n",
        "import matplotlib.pyplot as plt\n",
        "from scipy.sparse import csr_matrix, save_npz\n",
        "import seaborn as sns\n",
        "\n",
        "interactions = pd.read_csv('interactions.csv')\n",
        "items = pd.read_csv('items.csv')\n",
        "\n",
        "print(\"СТРУКТУРА ДАННЫХ INTERACTIONS:\")\n",
        "display(interactions.head())\n",
        "print(\"\\n\\n\" + \"=\"*70)\n",
        "print(f\" Записей: {len(interactions):,}\")\n",
        "print(f\" Столбцы: {list(interactions.columns)}\")"
      ],
      "metadata": {
        "colab": {
          "base_uri": "https://localhost:8080/",
          "height": 310
        },
        "id": "P_4rZj6ivU2_",
        "outputId": "efd76c85-6594-4f93-f6fd-fd4b9943371d"
      },
      "execution_count": null,
      "outputs": [
        {
          "output_type": "stream",
          "name": "stdout",
          "text": [
            "СТРУКТУРА ДАННЫХ INTERACTIONS:\n"
          ]
        },
        {
          "output_type": "display_data",
          "data": {
            "text/plain": [
              "   user_id  item_id last_watch_dt  total_dur  watched_pct\n",
              "0   176549     9506    2021-05-11     4250.0         72.0\n",
              "1   699317     1659    2021-05-29     8317.0        100.0\n",
              "2   656683     7107    2021-05-09       10.0          0.0\n",
              "3   864613     7638    2021-07-05    14483.0        100.0\n",
              "4   964868     9506    2021-04-30     6725.0        100.0"
            ],
            "text/html": [
              "\n",
              "  <div id=\"df-ffc0b929-0699-4bc5-9698-5620764ce321\" class=\"colab-df-container\">\n",
              "    <div>\n",
              "<style scoped>\n",
              "    .dataframe tbody tr th:only-of-type {\n",
              "        vertical-align: middle;\n",
              "    }\n",
              "\n",
              "    .dataframe tbody tr th {\n",
              "        vertical-align: top;\n",
              "    }\n",
              "\n",
              "    .dataframe thead th {\n",
              "        text-align: right;\n",
              "    }\n",
              "</style>\n",
              "<table border=\"1\" class=\"dataframe\">\n",
              "  <thead>\n",
              "    <tr style=\"text-align: right;\">\n",
              "      <th></th>\n",
              "      <th>user_id</th>\n",
              "      <th>item_id</th>\n",
              "      <th>last_watch_dt</th>\n",
              "      <th>total_dur</th>\n",
              "      <th>watched_pct</th>\n",
              "    </tr>\n",
              "  </thead>\n",
              "  <tbody>\n",
              "    <tr>\n",
              "      <th>0</th>\n",
              "      <td>176549</td>\n",
              "      <td>9506</td>\n",
              "      <td>2021-05-11</td>\n",
              "      <td>4250.0</td>\n",
              "      <td>72.0</td>\n",
              "    </tr>\n",
              "    <tr>\n",
              "      <th>1</th>\n",
              "      <td>699317</td>\n",
              "      <td>1659</td>\n",
              "      <td>2021-05-29</td>\n",
              "      <td>8317.0</td>\n",
              "      <td>100.0</td>\n",
              "    </tr>\n",
              "    <tr>\n",
              "      <th>2</th>\n",
              "      <td>656683</td>\n",
              "      <td>7107</td>\n",
              "      <td>2021-05-09</td>\n",
              "      <td>10.0</td>\n",
              "      <td>0.0</td>\n",
              "    </tr>\n",
              "    <tr>\n",
              "      <th>3</th>\n",
              "      <td>864613</td>\n",
              "      <td>7638</td>\n",
              "      <td>2021-07-05</td>\n",
              "      <td>14483.0</td>\n",
              "      <td>100.0</td>\n",
              "    </tr>\n",
              "    <tr>\n",
              "      <th>4</th>\n",
              "      <td>964868</td>\n",
              "      <td>9506</td>\n",
              "      <td>2021-04-30</td>\n",
              "      <td>6725.0</td>\n",
              "      <td>100.0</td>\n",
              "    </tr>\n",
              "  </tbody>\n",
              "</table>\n",
              "</div>\n",
              "    <div class=\"colab-df-buttons\">\n",
              "\n",
              "  <div class=\"colab-df-container\">\n",
              "    <button class=\"colab-df-convert\" onclick=\"convertToInteractive('df-ffc0b929-0699-4bc5-9698-5620764ce321')\"\n",
              "            title=\"Convert this dataframe to an interactive table.\"\n",
              "            style=\"display:none;\">\n",
              "\n",
              "  <svg xmlns=\"http://www.w3.org/2000/svg\" height=\"24px\" viewBox=\"0 -960 960 960\">\n",
              "    <path d=\"M120-120v-720h720v720H120Zm60-500h600v-160H180v160Zm220 220h160v-160H400v160Zm0 220h160v-160H400v160ZM180-400h160v-160H180v160Zm440 0h160v-160H620v160ZM180-180h160v-160H180v160Zm440 0h160v-160H620v160Z\"/>\n",
              "  </svg>\n",
              "    </button>\n",
              "\n",
              "  <style>\n",
              "    .colab-df-container {\n",
              "      display:flex;\n",
              "      gap: 12px;\n",
              "    }\n",
              "\n",
              "    .colab-df-convert {\n",
              "      background-color: #E8F0FE;\n",
              "      border: none;\n",
              "      border-radius: 50%;\n",
              "      cursor: pointer;\n",
              "      display: none;\n",
              "      fill: #1967D2;\n",
              "      height: 32px;\n",
              "      padding: 0 0 0 0;\n",
              "      width: 32px;\n",
              "    }\n",
              "\n",
              "    .colab-df-convert:hover {\n",
              "      background-color: #E2EBFA;\n",
              "      box-shadow: 0px 1px 2px rgba(60, 64, 67, 0.3), 0px 1px 3px 1px rgba(60, 64, 67, 0.15);\n",
              "      fill: #174EA6;\n",
              "    }\n",
              "\n",
              "    .colab-df-buttons div {\n",
              "      margin-bottom: 4px;\n",
              "    }\n",
              "\n",
              "    [theme=dark] .colab-df-convert {\n",
              "      background-color: #3B4455;\n",
              "      fill: #D2E3FC;\n",
              "    }\n",
              "\n",
              "    [theme=dark] .colab-df-convert:hover {\n",
              "      background-color: #434B5C;\n",
              "      box-shadow: 0px 1px 3px 1px rgba(0, 0, 0, 0.15);\n",
              "      filter: drop-shadow(0px 1px 2px rgba(0, 0, 0, 0.3));\n",
              "      fill: #FFFFFF;\n",
              "    }\n",
              "  </style>\n",
              "\n",
              "    <script>\n",
              "      const buttonEl =\n",
              "        document.querySelector('#df-ffc0b929-0699-4bc5-9698-5620764ce321 button.colab-df-convert');\n",
              "      buttonEl.style.display =\n",
              "        google.colab.kernel.accessAllowed ? 'block' : 'none';\n",
              "\n",
              "      async function convertToInteractive(key) {\n",
              "        const element = document.querySelector('#df-ffc0b929-0699-4bc5-9698-5620764ce321');\n",
              "        const dataTable =\n",
              "          await google.colab.kernel.invokeFunction('convertToInteractive',\n",
              "                                                    [key], {});\n",
              "        if (!dataTable) return;\n",
              "\n",
              "        const docLinkHtml = 'Like what you see? Visit the ' +\n",
              "          '<a target=\"_blank\" href=https://colab.research.google.com/notebooks/data_table.ipynb>data table notebook</a>'\n",
              "          + ' to learn more about interactive tables.';\n",
              "        element.innerHTML = '';\n",
              "        dataTable['output_type'] = 'display_data';\n",
              "        await google.colab.output.renderOutput(dataTable, element);\n",
              "        const docLink = document.createElement('div');\n",
              "        docLink.innerHTML = docLinkHtml;\n",
              "        element.appendChild(docLink);\n",
              "      }\n",
              "    </script>\n",
              "  </div>\n",
              "\n",
              "\n",
              "    <div id=\"df-0b0f54c0-e0f7-48c4-b762-0faeaa034514\">\n",
              "      <button class=\"colab-df-quickchart\" onclick=\"quickchart('df-0b0f54c0-e0f7-48c4-b762-0faeaa034514')\"\n",
              "                title=\"Suggest charts\"\n",
              "                style=\"display:none;\">\n",
              "\n",
              "<svg xmlns=\"http://www.w3.org/2000/svg\" height=\"24px\"viewBox=\"0 0 24 24\"\n",
              "     width=\"24px\">\n",
              "    <g>\n",
              "        <path d=\"M19 3H5c-1.1 0-2 .9-2 2v14c0 1.1.9 2 2 2h14c1.1 0 2-.9 2-2V5c0-1.1-.9-2-2-2zM9 17H7v-7h2v7zm4 0h-2V7h2v10zm4 0h-2v-4h2v4z\"/>\n",
              "    </g>\n",
              "</svg>\n",
              "      </button>\n",
              "\n",
              "<style>\n",
              "  .colab-df-quickchart {\n",
              "      --bg-color: #E8F0FE;\n",
              "      --fill-color: #1967D2;\n",
              "      --hover-bg-color: #E2EBFA;\n",
              "      --hover-fill-color: #174EA6;\n",
              "      --disabled-fill-color: #AAA;\n",
              "      --disabled-bg-color: #DDD;\n",
              "  }\n",
              "\n",
              "  [theme=dark] .colab-df-quickchart {\n",
              "      --bg-color: #3B4455;\n",
              "      --fill-color: #D2E3FC;\n",
              "      --hover-bg-color: #434B5C;\n",
              "      --hover-fill-color: #FFFFFF;\n",
              "      --disabled-bg-color: #3B4455;\n",
              "      --disabled-fill-color: #666;\n",
              "  }\n",
              "\n",
              "  .colab-df-quickchart {\n",
              "    background-color: var(--bg-color);\n",
              "    border: none;\n",
              "    border-radius: 50%;\n",
              "    cursor: pointer;\n",
              "    display: none;\n",
              "    fill: var(--fill-color);\n",
              "    height: 32px;\n",
              "    padding: 0;\n",
              "    width: 32px;\n",
              "  }\n",
              "\n",
              "  .colab-df-quickchart:hover {\n",
              "    background-color: var(--hover-bg-color);\n",
              "    box-shadow: 0 1px 2px rgba(60, 64, 67, 0.3), 0 1px 3px 1px rgba(60, 64, 67, 0.15);\n",
              "    fill: var(--button-hover-fill-color);\n",
              "  }\n",
              "\n",
              "  .colab-df-quickchart-complete:disabled,\n",
              "  .colab-df-quickchart-complete:disabled:hover {\n",
              "    background-color: var(--disabled-bg-color);\n",
              "    fill: var(--disabled-fill-color);\n",
              "    box-shadow: none;\n",
              "  }\n",
              "\n",
              "  .colab-df-spinner {\n",
              "    border: 2px solid var(--fill-color);\n",
              "    border-color: transparent;\n",
              "    border-bottom-color: var(--fill-color);\n",
              "    animation:\n",
              "      spin 1s steps(1) infinite;\n",
              "  }\n",
              "\n",
              "  @keyframes spin {\n",
              "    0% {\n",
              "      border-color: transparent;\n",
              "      border-bottom-color: var(--fill-color);\n",
              "      border-left-color: var(--fill-color);\n",
              "    }\n",
              "    20% {\n",
              "      border-color: transparent;\n",
              "      border-left-color: var(--fill-color);\n",
              "      border-top-color: var(--fill-color);\n",
              "    }\n",
              "    30% {\n",
              "      border-color: transparent;\n",
              "      border-left-color: var(--fill-color);\n",
              "      border-top-color: var(--fill-color);\n",
              "      border-right-color: var(--fill-color);\n",
              "    }\n",
              "    40% {\n",
              "      border-color: transparent;\n",
              "      border-right-color: var(--fill-color);\n",
              "      border-top-color: var(--fill-color);\n",
              "    }\n",
              "    60% {\n",
              "      border-color: transparent;\n",
              "      border-right-color: var(--fill-color);\n",
              "    }\n",
              "    80% {\n",
              "      border-color: transparent;\n",
              "      border-right-color: var(--fill-color);\n",
              "      border-bottom-color: var(--fill-color);\n",
              "    }\n",
              "    90% {\n",
              "      border-color: transparent;\n",
              "      border-bottom-color: var(--fill-color);\n",
              "    }\n",
              "  }\n",
              "</style>\n",
              "\n",
              "      <script>\n",
              "        async function quickchart(key) {\n",
              "          const quickchartButtonEl =\n",
              "            document.querySelector('#' + key + ' button');\n",
              "          quickchartButtonEl.disabled = true;  // To prevent multiple clicks.\n",
              "          quickchartButtonEl.classList.add('colab-df-spinner');\n",
              "          try {\n",
              "            const charts = await google.colab.kernel.invokeFunction(\n",
              "                'suggestCharts', [key], {});\n",
              "          } catch (error) {\n",
              "            console.error('Error during call to suggestCharts:', error);\n",
              "          }\n",
              "          quickchartButtonEl.classList.remove('colab-df-spinner');\n",
              "          quickchartButtonEl.classList.add('colab-df-quickchart-complete');\n",
              "        }\n",
              "        (() => {\n",
              "          let quickchartButtonEl =\n",
              "            document.querySelector('#df-0b0f54c0-e0f7-48c4-b762-0faeaa034514 button');\n",
              "          quickchartButtonEl.style.display =\n",
              "            google.colab.kernel.accessAllowed ? 'block' : 'none';\n",
              "        })();\n",
              "      </script>\n",
              "    </div>\n",
              "    </div>\n",
              "  </div>\n"
            ],
            "application/vnd.google.colaboratory.intrinsic+json": {
              "type": "dataframe",
              "summary": "{\n  \"name\": \"print(f\\\" \\u0421\\u0442\\u043e\\u043b\\u0431\\u0446\\u044b: {list(interactions\",\n  \"rows\": 5,\n  \"fields\": [\n    {\n      \"column\": \"user_id\",\n      \"properties\": {\n        \"dtype\": \"number\",\n        \"std\": 303859,\n        \"min\": 176549,\n        \"max\": 964868,\n        \"num_unique_values\": 5,\n        \"samples\": [\n          699317,\n          964868,\n          656683\n        ],\n        \"semantic_type\": \"\",\n        \"description\": \"\"\n      }\n    },\n    {\n      \"column\": \"item_id\",\n      \"properties\": {\n        \"dtype\": \"number\",\n        \"std\": 3219,\n        \"min\": 1659,\n        \"max\": 9506,\n        \"num_unique_values\": 4,\n        \"samples\": [\n          1659,\n          7638,\n          9506\n        ],\n        \"semantic_type\": \"\",\n        \"description\": \"\"\n      }\n    },\n    {\n      \"column\": \"last_watch_dt\",\n      \"properties\": {\n        \"dtype\": \"object\",\n        \"num_unique_values\": 5,\n        \"samples\": [\n          \"2021-05-29\",\n          \"2021-04-30\",\n          \"2021-05-09\"\n        ],\n        \"semantic_type\": \"\",\n        \"description\": \"\"\n      }\n    },\n    {\n      \"column\": \"total_dur\",\n      \"properties\": {\n        \"dtype\": \"number\",\n        \"std\": 5336.96444619973,\n        \"min\": 10.0,\n        \"max\": 14483.0,\n        \"num_unique_values\": 5,\n        \"samples\": [\n          8317.0,\n          6725.0,\n          10.0\n        ],\n        \"semantic_type\": \"\",\n        \"description\": \"\"\n      }\n    },\n    {\n      \"column\": \"watched_pct\",\n      \"properties\": {\n        \"dtype\": \"number\",\n        \"std\": 43.32204981299938,\n        \"min\": 0.0,\n        \"max\": 100.0,\n        \"num_unique_values\": 3,\n        \"samples\": [\n          72.0,\n          100.0,\n          0.0\n        ],\n        \"semantic_type\": \"\",\n        \"description\": \"\"\n      }\n    }\n  ]\n}"
            }
          },
          "metadata": {}
        },
        {
          "output_type": "stream",
          "name": "stdout",
          "text": [
            "\n",
            "\n",
            "======================================================================\n",
            " Записей: 1,594,787\n",
            " Столбцы: ['user_id', 'item_id', 'last_watch_dt', 'total_dur', 'watched_pct']\n"
          ]
        }
      ]
    },
    {
      "cell_type": "markdown",
      "source": [
        "1. Качественные данные для рекомендаций:\n",
        "\n",
        "    - 1.6M взаимодействий с хорошей заполненностью\n",
        "\n",
        "    - Разнообразное поведение: от кратких просмотров (10 сек) до глубоких (4+ часа)\n",
        "\n",
        "    - Полные просмотры (100%) присутствуют - сильный сигнал интереса\n",
        "\n",
        "2. Разнообразные неявные сигналы:\n",
        "\n",
        "    - Продолжительность: от секунд до нескольких часов\n",
        "\n",
        "    - Глубина просмотра: от 0% до 100% (реальные досмотры)\n",
        "\n",
        "    - Временной охват: данные за несколько месяцев\n",
        "\n"
      ],
      "metadata": {
        "id": "mV5baPSCz2yD"
      }
    },
    {
      "cell_type": "markdown",
      "source": [
        "## 1. АНАЛИЗ ДАННЫХ: НЕЯВНЫЕ СИГНАЛЫ"
      ],
      "metadata": {
        "id": "ktv7aihVvNSm"
      }
    },
    {
      "cell_type": "code",
      "source": [
        "interactions['last_watch_dt'] = pd.to_datetime(interactions['last_watch_dt'], errors='coerce')\n",
        "interactions = interactions.dropna(subset=['last_watch_dt'])\n",
        "print(f\"\\n СТАТИСТИКИ НЕЯВНЫХ СИГНАЛОВ:\")\n",
        "print(f\" Продолжительность: медиана = {interactions['total_dur'].median():.0f} сек, max = {interactions['total_dur'].max():.0f} сек\")\n",
        "print(f\" Процент просмотра: медиана = {interactions['watched_pct'].median():.1f}%\")\n",
        "print(f\" Период данных: от {interactions['last_watch_dt'].min().date()} до {interactions['last_watch_dt'].max().date()}\")"
      ],
      "metadata": {
        "colab": {
          "base_uri": "https://localhost:8080/"
        },
        "id": "iQTOA703v82o",
        "outputId": "9c9f71f6-8b9a-4641-f1df-1e0d0cffbab1"
      },
      "execution_count": null,
      "outputs": [
        {
          "output_type": "stream",
          "name": "stdout",
          "text": [
            "\n",
            " СТАТИСТИКИ НЕЯВНЫХ СИГНАЛОВ:\n",
            " Продолжительность: медиана = 2900 сек, max = 7241091 сек\n",
            " Процент просмотра: медиана = 32.0%\n",
            " Период данных: от 2021-03-13 до 2021-08-22\n"
          ]
        }
      ]
    },
    {
      "cell_type": "markdown",
      "source": [
        "1. Продолжительность просмотров\n",
        " - Медиана: 2900 сек (≈48 минут) - ОЧЕНЬ длинный контент\n",
        "\n",
        "  - Максимум: 7 241 091 сек (≈83 дня!) - данные 4-х летней давности\n",
        "\n",
        "2. Процент просмотра\n",
        "  - Медиана: 32% - очень низкий показатель завершенности\n",
        "\n",
        "\n",
        "3. Период данных\n",
        "  - Всего 5 месяцев (март-август 2021)\n"
      ],
      "metadata": {
        "id": "wSQBSHyoTP1G"
      }
    },
    {
      "cell_type": "code",
      "source": [
        "print(f\"Уникальных пар user-item: {interactions[['user_id', 'item_id']].drop_duplicates().shape[0]}\")\n",
        "print(f\"Всего записей: {len(interactions)}\")\n",
        "\n",
        "user_item_counts = interactions.groupby(['user_id', 'item_id']).size()\n",
        "print(f\"Макс. повторений у пары: {user_item_counts.max()}\")\n",
        "print(f\"Распределение частот:\\n{user_item_counts.value_counts().sort_index()}\")"
      ],
      "metadata": {
        "colab": {
          "base_uri": "https://localhost:8080/"
        },
        "id": "fF2_pNmL4upN",
        "outputId": "20a0ef79-33df-4aac-8538-aad19ce7f4d7"
      },
      "execution_count": null,
      "outputs": [
        {
          "output_type": "stream",
          "name": "stdout",
          "text": [
            "Уникальных пар user-item: 1594786\n",
            "Всего записей: 1594786\n",
            "Макс. повторений у пары: 1\n",
            "Распределение частот:\n",
            "1    1594786\n",
            "Name: count, dtype: int64\n"
          ]
        }
      ]
    },
    {
      "cell_type": "code",
      "source": [
        "print(\"\\n РАСПРЕДЕЛЕНИЕ  ДАННЫХ:\")\n",
        "print(\"total_dur статистика:\")\n",
        "print(interactions['total_dur'].describe())\n",
        "print(\"\\nwatched_pct статистика:\")\n",
        "print(interactions['watched_pct'].describe())\n",
        "\n",
        "def check_ranges(df):\n",
        "    print(\"\\n ПРОВЕРКА ДИАПАЗОНОВ:\")\n",
        "\n",
        "    # диапазоны по длительностям\n",
        "    dur_ranges = [0, 10, 60, 300, 900, 1800, 3600, float('inf')]\n",
        "    for i in range(len(dur_ranges)-1):\n",
        "        count = ((df['total_dur'] >= dur_ranges[i]) & (df['total_dur'] < dur_ranges[i+1])).sum()\n",
        "        if count > 0:\n",
        "            print(f\"duration {dur_ranges[i]}-{dur_ranges[i+1]}s: {count} записей\")\n",
        "    print('='*70)\n",
        "    # диапазоны по завершенности просмотра\n",
        "    comp_ranges = [0, 1, 5, 20, 50, 80, 95, 101]\n",
        "    for i in range(len(comp_ranges)-1):\n",
        "        count = ((df['watched_pct'] >= comp_ranges[i]) & (df['watched_pct'] < comp_ranges[i+1])).sum()\n",
        "        if count > 0:\n",
        "            print(f\"completion {comp_ranges[i]}-{comp_ranges[i+1]}%: {count} записей\")\n",
        "\n",
        "check_ranges(interactions)"
      ],
      "metadata": {
        "colab": {
          "base_uri": "https://localhost:8080/"
        },
        "id": "ONl47gwFWZvK",
        "outputId": "87907498-4dda-4365-8d91-41ace925e3fb"
      },
      "execution_count": null,
      "outputs": [
        {
          "output_type": "stream",
          "name": "stdout",
          "text": [
            "\n",
            " РАСПРЕДЕЛЕНИЕ  ДАННЫХ:\n",
            "total_dur статистика:\n",
            "count    1.594786e+06\n",
            "mean     8.275508e+03\n",
            "std      3.326120e+04\n",
            "min      1.000000e+00\n",
            "25%      3.710000e+02\n",
            "50%      2.900000e+03\n",
            "75%      7.124000e+03\n",
            "max      7.241091e+06\n",
            "Name: total_dur, dtype: float64\n",
            "\n",
            "watched_pct статистика:\n",
            "count    1.594519e+06\n",
            "mean     4.636561e+01\n",
            "std      4.191284e+01\n",
            "min      0.000000e+00\n",
            "25%      4.000000e+00\n",
            "50%      3.200000e+01\n",
            "75%      1.000000e+02\n",
            "max      1.000000e+02\n",
            "Name: watched_pct, dtype: float64\n",
            "\n",
            " ПРОВЕРКА ДИАПАЗОНОВ:\n",
            "duration 0-10s: 55399 записей\n",
            "duration 10-60s: 136696 записей\n",
            "duration 60-300s: 180723 записей\n",
            "duration 300-900s: 204326 записей\n",
            "duration 900-1800s: 119228 записей\n",
            "duration 1800-3600s: 151204 записей\n",
            "duration 3600-infs: 747210 записей\n",
            "======================================================================\n",
            "completion 0-1%: 212234 записей\n",
            "completion 1-5%: 192687 записей\n",
            "completion 5-20%: 283554 записей\n",
            "completion 20-50%: 202126 записей\n",
            "completion 50-80%: 140748 записей\n",
            "completion 80-95%: 90877 записей\n",
            "completion 95-101%: 472293 записей\n"
          ]
        }
      ]
    },
    {
      "cell_type": "markdown",
      "source": [
        "**Наблюдения**:\n",
        "- **Медиана 2900 сек (48 мин)** и **Среднее 8275 сек (138 мин)** → сильный перекос вправо\n",
        "- **Максимум 7.2 млн сек (83 дня!)** - явные выбросы\n",
        "- **75% перцентиль 7124 сек (2 часа)** - большинство просмотров разумной длины\n",
        "\n",
        "**Распределение** по диапазонам:\n",
        "- **Короткие (<10 сек): 55k** - случайные клики/ошибки\n",
        "- **Средние (1-30 мин): 704k** - основная масса просмотров\n",
        "- **Длинные (>1 часа): 747k** - очень много длинного контента!\n",
        "\n",
        "**Распределение** по завершенности:\n",
        "- **Брошено сразу (0-1%): 212k** - явный негативный сигнал\n",
        "- **Поверхностно (1-20%): 476k** - слабый интерес\n",
        "- **Средне (20-80%): 343k** - умеренное вовлечение\n",
        "- **Почти полностью (80-95%): 91k** - сильный интерес\n",
        "- **Полностью (95-100%): 472k** - отличный сигнал!\n"
      ],
      "metadata": {
        "id": "X7WF4zC86OSk"
      }
    },
    {
      "cell_type": "markdown",
      "source": [
        "## 2. КОДИРОВАНИЕ НЕЯВНЫХ ОТЗЫВОВ"
      ],
      "metadata": {
        "id": "an5x24FMwzSR"
      }
    },
    {
      "cell_type": "markdown",
      "source": [
        "### 2.1 Базовое кодирование продолжительности"
      ],
      "metadata": {
        "id": "NKyyo6pCw5JX"
      }
    },
    {
      "cell_type": "markdown",
      "source": [
        "\n",
        "\n",
        "```\n",
        "\n",
        "def encode_duration_percentile(total_dur):\n",
        "    if total_dur < 10: return 0.01\n",
        "    elif total_dur < 371: return 0.1    # 25% перцентиль\n",
        "    elif total_dur < 2900: return 0.3   # 50% перцентиль  \n",
        "    elif total_dur < 7124: return 0.6   # 75% перцентиль\n",
        "    elif total_dur < 18000: return 0.9  # ~5 часов\n",
        "    else: return 1.0                    # выбросы\n",
        "\n",
        "```\n",
        "\n"
      ],
      "metadata": {
        "id": "gqhIRnnG-irr"
      }
    },
    {
      "cell_type": "markdown",
      "source": [
        "\n",
        "\n",
        "```\n",
        "def encode_duration_log(total_dur):\n",
        "    return np.log1p(total_dur) / np.log1p(7200)  # нормализуем к 2 часам\n",
        "```\n",
        "\n"
      ],
      "metadata": {
        "id": "yX3vKrf-_dBP"
      }
    },
    {
      "cell_type": "markdown",
      "source": [
        "\n",
        "\n",
        "```\n",
        "def encode_duration_smooth(total_dur):\n",
        "    x = min(total_dur / 3600, 4.0)  # обрезаем на 4 часах\n",
        "    return 1 - np.exp(-x)  # плавный рост с насыщением\n",
        "```\n",
        "\n"
      ],
      "metadata": {
        "id": "muj6B3ZL_ky5"
      }
    },
    {
      "cell_type": "code",
      "source": [
        "def encode_duration(total_dur):\n",
        "    if total_dur < 10: return 0.01      # случайные клики\n",
        "    elif total_dur < 60: return 0.1     # краткие просмотры\n",
        "    elif total_dur < 300: return 0.2    # поверхностный интерес\n",
        "    elif total_dur < 900: return 0.4    # средний интерес\n",
        "    elif total_dur < 1800: return 0.6   # серьезный интерес\n",
        "    elif total_dur < 3600: return 0.8   # глубокий интерес\n",
        "    elif total_dur < 7200: return 0.95  # очень глубокий\n",
        "    else: return 1.0                    # максимальное вовлечение\n",
        "\n",
        "interactions['duration_weight'] = interactions['total_dur'].apply(encode_duration)"
      ],
      "metadata": {
        "id": "bbWgxcsIyxZg"
      },
      "execution_count": null,
      "outputs": []
    },
    {
      "cell_type": "markdown",
      "source": [
        "### 2.2 Кодирование глубины просмотра"
      ],
      "metadata": {
        "id": "dzyylTJpy3Ef"
      }
    },
    {
      "cell_type": "markdown",
      "source": [
        "\n",
        "\n",
        "```\n",
        "def encode_completion_percentile(watched_pct):\n",
        "    if watched_pct < 4: return 0.05    # 25% перцентиль\n",
        "    elif watched_pct < 32: return 0.3  # 50% перцентиль\n",
        "    elif watched_pct < 100: return 0.7 # 75% перцентиль\n",
        "    else: return 1.0\n",
        "```\n",
        "\n"
      ],
      "metadata": {
        "id": "t9i7O95P_7tJ"
      }
    },
    {
      "cell_type": "markdown",
      "source": [
        "\n",
        "\n",
        "```\n",
        "def encode_completion_exp(watched_pct):\n",
        "    if watched_pct < 20: return watched_pct/200        # 0-0.1\n",
        "    else: return 0.1 + 0.9 * (1 - np.exp(-(watched_pct-20)/50))\n",
        "```\n",
        "\n"
      ],
      "metadata": {
        "id": "4ue7TMUZAp8p"
      }
    },
    {
      "cell_type": "code",
      "source": [
        "def encode_completion(watched_pct):\n",
        "    if watched_pct < 1: return 0.01     # практически не смотрел\n",
        "    elif watched_pct < 5: return 0.05   # минимальный просмотр\n",
        "    elif watched_pct < 20: return 0.2   # небольшой интерес\n",
        "    elif watched_pct < 50: return 0.4   # средний интерес\n",
        "    elif watched_pct < 80: return 0.7   # сильный интерес\n",
        "    elif watched_pct < 95: return 0.9   # почти досмотрел\n",
        "    else: return 1.0                    # полностью досмотрел\n",
        "\n",
        "interactions['completion_weight'] = interactions['watched_pct'].apply(encode_completion)"
      ],
      "metadata": {
        "id": "UHA_LSGpzCRS"
      },
      "execution_count": null,
      "outputs": []
    },
    {
      "cell_type": "markdown",
      "source": [
        "### 2.3 Временное кодирование (экспоненциальное затухание)"
      ],
      "metadata": {
        "id": "u_O0AQDazI62"
      }
    },
    {
      "cell_type": "code",
      "source": [
        "def use_relative_time(df):\n",
        "    \"\"\"Использует относительное время внутри датасета\"\"\"\n",
        "    # самый последний просмотр в данных = \"сейчас\"\n",
        "    latest_date = df['last_watch_dt'].max()\n",
        "\n",
        "    #  дни относительно самого последнего просмотра в данных\n",
        "    df['days_since_watch_relative'] = (latest_date - df['last_watch_dt']).dt.days\n",
        "\n",
        "    # вес относительно самого последнего просмотра\n",
        "    df['time_decay_weight'] = np.exp(-np.log(2) * df['days_since_watch_relative'] / 30)\n",
        "\n",
        "    print(f\"Относительное время: самый последний просмотр {latest_date.date()}\")\n",
        "    print(f\"   Диапазон дней назад: {df['days_since_watch_relative'].min()} - {df['days_since_watch_relative'].max()}\")\n",
        "\n",
        "    return df\n",
        "\n",
        "interactions = use_relative_time(interactions)"
      ],
      "metadata": {
        "colab": {
          "base_uri": "https://localhost:8080/"
        },
        "id": "t9Q9yCcTzLlS",
        "outputId": "1f0bf1d6-c718-4ba8-e22a-3bafbcd424a8"
      },
      "execution_count": null,
      "outputs": [
        {
          "output_type": "stream",
          "name": "stdout",
          "text": [
            "Относительное время: самый последний просмотр 2021-08-22\n",
            "   Диапазон дней назад: 0 - 162\n"
          ]
        }
      ]
    },
    {
      "cell_type": "markdown",
      "source": [
        "### 2.4 Частотное кодирование"
      ],
      "metadata": {
        "id": "cZQsM-hwzOoq"
      }
    },
    {
      "cell_type": "code",
      "source": [
        "watch_count = interactions.groupby(['user_id', 'item_id']).size()\n",
        "interactions['frequency_weight'] = interactions.set_index(['user_id', 'item_id']).index.map(watch_count).fillna(1)\n",
        "interactions['frequency_weight'] = np.log1p(interactions['frequency_weight'])  # логарифмирование"
      ],
      "metadata": {
        "id": "GQdd1-PSzRuK"
      },
      "execution_count": null,
      "outputs": []
    },
    {
      "cell_type": "code",
      "source": [
        "print(f\" Duration weight: {interactions['duration_weight'].min():.1f} - {interactions['duration_weight'].max():.1f}\")\n",
        "print(f\" Duration weight: {interactions['duration_weight'].mean():.3f} ± {interactions['duration_weight'].std():.3f}, median: {interactions['duration_weight'].median():.3f}\")\n",
        "print('='*70)\n",
        "print(f\" Completion weight: {interactions['completion_weight'].min():.1f} - {interactions['completion_weight'].max():.1f}\")\n",
        "print(f\" Completion weight: {interactions['completion_weight'].mean():.3f} ± {interactions['completion_weight'].std():.3f}, median: {interactions['completion_weight'].median():.3f}\")\n",
        "print('='*70)\n",
        "print(f\" Time decay weight: {interactions['time_decay_weight'].min():.3f} - {interactions['time_decay_weight'].max():.3f}\")\n",
        "print(f\" Time decay weight: {interactions['time_decay_weight'].mean():.3f} ± {interactions['time_decay_weight'].std():.3f}, median: {interactions['time_decay_weight'].median():.3f}\")\n",
        "print('='*70)\n",
        "print(f\" Frequency weight: {interactions['frequency_weight'].min():.3f} - {interactions['frequency_weight'].max():.3f}\")\n",
        "print(f\" Frequency weight: {interactions['frequency_weight'].mean():.3f} ± {interactions['frequency_weight'].std():.3f}, median: {interactions['frequency_weight'].median():.3f}\")"
      ],
      "metadata": {
        "colab": {
          "base_uri": "https://localhost:8080/"
        },
        "id": "Vjw5VHRBzXmD",
        "outputId": "82a04694-db38-4860-d5f1-1f4445012c17"
      },
      "execution_count": null,
      "outputs": [
        {
          "output_type": "stream",
          "name": "stdout",
          "text": [
            " Duration weight: 0.0 - 1.0\n",
            " Duration weight: 0.661 ± 0.351, median: 0.800\n",
            "======================================================================\n",
            " Completion weight: 0.0 - 1.0\n",
            " Completion weight: 0.503 ± 0.401, median: 0.400\n",
            "======================================================================\n",
            " Time decay weight: 0.024 - 1.000\n",
            " Time decay weight: 0.373 ± 0.282, median: 0.294\n",
            "======================================================================\n",
            " Frequency weight: 0.693 - 0.693\n",
            " Frequency weight: 0.693 ± 0.000, median: 0.693\n"
          ]
        }
      ]
    },
    {
      "cell_type": "markdown",
      "source": [
        "1. Duration Weight (Вес продолжительности)\n",
        "\n",
        " Среднее: 0.661 ± 0.351,\n",
        "\n",
        " Медиана: 0.800\n",
        "\n",
        "    -  Пользователи в основном смотрят довольно длинные видео (медиана 0.8 близка к максимуму)\n",
        "    - Медиана выше среднего означает, что есть некоторое количество очень коротких просмотров, которые снижают среднее значение\n",
        "\n",
        "2. Completion Weight (Вес завершенности)\n",
        "\n",
        " Среднее: 0.503 ± 0.401,\n",
        "\n",
        " Медиана: 0.400\n",
        "\n",
        "    - В среднем пользователи досматривают видео примерно наполовину\n",
        "    - Медиана ниже среднего указывает на то, что есть много недосмотренных видео, но также есть значительное количество полностью просмотренных контента\n",
        "\n",
        "3. Time Decay Weight (Временной вес)\n",
        "\n",
        "Среднее: 0.373 ± 0.282,\n",
        "\n",
        "Медиана: 0.294\n",
        "\n",
        "    - Большинство просмотров были достаточно давно (значения далеки от 1.0)\n",
        "    - Сильный перекос в сторону старых взаимодействий\n"
      ],
      "metadata": {
        "id": "DL2JkMajVXfN"
      }
    },
    {
      "cell_type": "markdown",
      "source": [
        "## 3. ВИЗУАЛИЗАЦИЯ НЕЯВНЫХ ПРИЗНАКОВ"
      ],
      "metadata": {
        "id": "AqAY4CeM0iNP"
      }
    },
    {
      "cell_type": "markdown",
      "source": [
        "### 3.1 Распределение исходных признаков"
      ],
      "metadata": {
        "id": "jjcEPwi90nto"
      }
    },
    {
      "cell_type": "code",
      "source": [
        "fig, axes = plt.subplots(2, 3, figsize=(15, 8))\n",
        "\n",
        "# 3.1 распределение исходных признаков\n",
        "axes[0,0].hist(interactions['total_dur'], bins=50, log=True)\n",
        "axes[0,0].set_title('Исходная продолжительность')\n",
        "axes[0,0].set_xlabel('Секунды')\n",
        "\n",
        "axes[0,1].hist(interactions['watched_pct'], bins=50)\n",
        "axes[0,1].set_title('Исходный процент просмотра')\n",
        "axes[0,1].set_xlabel('Процент')\n",
        "\n",
        "axes[0,2].hist(interactions['days_since_watch_relative'], bins=50, log=True)\n",
        "axes[0,2].set_title('Дней с момента просмотра')\n",
        "axes[0,2].set_xlabel('Дни')\n",
        "\n",
        "# 3.2 распределение закодированных весов\n",
        "axes[1,0].hist(interactions['duration_weight'], bins=20)\n",
        "axes[1,0].set_title('Вес продолжительности')\n",
        "axes[1,0].set_xlabel('Вес')\n",
        "\n",
        "axes[1,1].hist(interactions['completion_weight'], bins=20)\n",
        "axes[1,1].set_title('Вес завершенности')\n",
        "axes[1,1].set_xlabel('Вес')\n",
        "\n",
        "axes[1,2].hist(interactions['time_decay_weight'], bins=20)\n",
        "axes[1,2].set_title('Временной вес')\n",
        "axes[1,2].set_xlabel('Вес')\n",
        "\n",
        "plt.tight_layout()\n",
        "plt.show()"
      ],
      "metadata": {
        "colab": {
          "base_uri": "https://localhost:8080/"
        },
        "id": "nCi6Gaju1e0o",
        "outputId": "9a02aba7-07bd-4aa6-9620-82114e0aa307"
      },
      "execution_count": null,
      "outputs": [
        {
          "output_type": "display_data",
          "data": {
            "text/plain": [
              "<Figure size 1500x800 with 6 Axes>"
            ],
            "image/png": "[encoded data removed]"
          },
          "metadata": {}
        }
      ]
    },
    {
      "cell_type": "markdown",
      "source": [
        "1. **Вес продолжительности (исходная продолжительность → вес)**\n",
        "\n",
        "  Гипотеза: более длинные видео требуют большего внимания пользователя, поэтому их просмотр — более сильный сигнал интереса, чем короткий клип.\n",
        "\n",
        "  Что видим на графике: вес растёт с длительностью, но не линейно — есть насыщение.\n",
        "\n",
        "  Если пользователь смотрит видео длительностью 10 минут или 60 минут — разница в весе есть, но между 2 часами и 5 часами разница уже мала. Это значит, что после некоторой длины видео дополнительная длительность не сильно увеличивает уверенность в интересе пользователя.\n",
        "\n",
        "\n",
        "2. **Вес завершенности (процент просмотра → вес)**\n",
        "  \n",
        "  Гипотеза: чем больше процентов видео досмотрено, тем сильнее интерес.\n",
        "\n",
        "  График: почти линейный рост до ~80%, затем резкий скачок к 100%.\n",
        "\n",
        "  Просмотр до 80% — хороший сигнал, но не максимальный. Полный просмотр (100%) — более сильный сигнал.\n",
        "\n",
        "  Резкий скачок на 100% может также бороться с шумом — когда пользователь остановился в конце из-за помех, но система считает это осознанным завершением.\n",
        "\n",
        "3. **Временной вес (дни с момента просмотра → вес)**\n",
        "\n",
        "  Гипотеза: свежие просмотры лучше отражают текущие интересы.\n",
        "\n",
        "  График: экспоненциальный спад.\n",
        "\n",
        "  В первые 7 дней вес падает сильно — интересы быстро меняются.\n",
        "  После 30 дней вес небольшой, но не нулевой — сохраняется память о долгосрочных предпочтениях.\n",
        "  После 100 дней влияние почти исчезает — имитация устаревания профиля интересов.\n"
      ],
      "metadata": {
        "id": "VHc8DeLVZlKH"
      }
    },
    {
      "cell_type": "markdown",
      "source": [
        "## 4. КОДИРОВАНИЕ КОНТЕКСТНЫХ ПРИЗНАКОВ"
      ],
      "metadata": {
        "id": "Rn8JQMJv1iFn"
      }
    },
    {
      "cell_type": "code",
      "source": [
        "# добавим контекстные данные\n",
        "interactions_context = interactions.merge(\n",
        "    items[['item_id', 'content_type', 'genres', 'release_year', 'age_rating']],\n",
        "    on='item_id',\n",
        "    how='left'\n",
        ")\n",
        "\n",
        "interactions_context = interactions_context.dropna(subset=['release_year'])\n",
        "print(\" ДОСТУПНЫЕ КОНТЕКСТНЫЕ ПРИЗНАКИ:\")\n",
        "print(f\" Типы контента: {interactions_context['content_type'].nunique()} уникальных\")\n",
        "print(f\" Годы выпуска: от {interactions_context['release_year'].min():.0f} до {interactions_context['release_year'].max():.0f}\")\n",
        "print(f\" Возрастные рейтинги: {interactions_context['age_rating'].nunique()} уникальных\")"
      ],
      "metadata": {
        "colab": {
          "base_uri": "https://localhost:8080/"
        },
        "id": "yACvG-KS1tbe",
        "outputId": "a20e34fe-0a67-4dc4-b21d-12f2491c057b"
      },
      "execution_count": null,
      "outputs": [
        {
          "output_type": "stream",
          "name": "stdout",
          "text": [
            " ДОСТУПНЫЕ КОНТЕКСТНЫЕ ПРИЗНАКИ:\n",
            " Типы контента: 2 уникальных\n",
            " Годы выпуска: от 1916 до 2021\n",
            " Возрастные рейтинги: 6 уникальных\n"
          ]
        }
      ]
    },
    {
      "cell_type": "code",
      "source": [
        "interactions_context['content_type'].value_counts()"
      ],
      "metadata": {
        "colab": {
          "base_uri": "https://localhost:8080/"
        },
        "id": "ipPAtttYcJiz",
        "outputId": "58956eb9-3744-4de6-cc49-94cdb940553e"
      },
      "execution_count": null,
      "outputs": [
        {
          "output_type": "execute_result",
          "data": {
            "text/plain": [
              "content_type\n",
              "film      1203948\n",
              "series     390743\n",
              "Name: count, dtype: int64"
            ],
            "text/html": [
              "<div>\n",
              "<style scoped>\n",
              "    .dataframe tbody tr th:only-of-type {\n",
              "        vertical-align: middle;\n",
              "    }\n",
              "\n",
              "    .dataframe tbody tr th {\n",
              "        vertical-align: top;\n",
              "    }\n",
              "\n",
              "    .dataframe thead th {\n",
              "        text-align: right;\n",
              "    }\n",
              "</style>\n",
              "<table border=\"1\" class=\"dataframe\">\n",
              "  <thead>\n",
              "    <tr style=\"text-align: right;\">\n",
              "      <th></th>\n",
              "      <th>count</th>\n",
              "    </tr>\n",
              "    <tr>\n",
              "      <th>content_type</th>\n",
              "      <th></th>\n",
              "    </tr>\n",
              "  </thead>\n",
              "  <tbody>\n",
              "    <tr>\n",
              "      <th>film</th>\n",
              "      <td>1203948</td>\n",
              "    </tr>\n",
              "    <tr>\n",
              "      <th>series</th>\n",
              "      <td>390743</td>\n",
              "    </tr>\n",
              "  </tbody>\n",
              "</table>\n",
              "</div><br><label><b>dtype:</b> int64</label>"
            ]
          },
          "metadata": {},
          "execution_count": 14
        }
      ]
    },
    {
      "cell_type": "code",
      "source": [
        "interactions_context['age_rating'].value_counts()"
      ],
      "metadata": {
        "colab": {
          "base_uri": "https://localhost:8080/"
        },
        "id": "CXqv23zicSwP",
        "outputId": "9c28b7bf-edf1-416a-c33e-f675923a4168"
      },
      "execution_count": null,
      "outputs": [
        {
          "output_type": "execute_result",
          "data": {
            "text/plain": [
              "age_rating\n",
              "16.0    628613\n",
              "18.0    490667\n",
              "12.0    250412\n",
              "6.0     144828\n",
              "0.0      70555\n",
              "21.0      9613\n",
              "Name: count, dtype: int64"
            ],
            "text/html": [
              "<div>\n",
              "<style scoped>\n",
              "    .dataframe tbody tr th:only-of-type {\n",
              "        vertical-align: middle;\n",
              "    }\n",
              "\n",
              "    .dataframe tbody tr th {\n",
              "        vertical-align: top;\n",
              "    }\n",
              "\n",
              "    .dataframe thead th {\n",
              "        text-align: right;\n",
              "    }\n",
              "</style>\n",
              "<table border=\"1\" class=\"dataframe\">\n",
              "  <thead>\n",
              "    <tr style=\"text-align: right;\">\n",
              "      <th></th>\n",
              "      <th>count</th>\n",
              "    </tr>\n",
              "    <tr>\n",
              "      <th>age_rating</th>\n",
              "      <th></th>\n",
              "    </tr>\n",
              "  </thead>\n",
              "  <tbody>\n",
              "    <tr>\n",
              "      <th>16.0</th>\n",
              "      <td>628613</td>\n",
              "    </tr>\n",
              "    <tr>\n",
              "      <th>18.0</th>\n",
              "      <td>490667</td>\n",
              "    </tr>\n",
              "    <tr>\n",
              "      <th>12.0</th>\n",
              "      <td>250412</td>\n",
              "    </tr>\n",
              "    <tr>\n",
              "      <th>6.0</th>\n",
              "      <td>144828</td>\n",
              "    </tr>\n",
              "    <tr>\n",
              "      <th>0.0</th>\n",
              "      <td>70555</td>\n",
              "    </tr>\n",
              "    <tr>\n",
              "      <th>21.0</th>\n",
              "      <td>9613</td>\n",
              "    </tr>\n",
              "  </tbody>\n",
              "</table>\n",
              "</div><br><label><b>dtype:</b> int64</label>"
            ]
          },
          "metadata": {},
          "execution_count": 15
        }
      ]
    },
    {
      "cell_type": "markdown",
      "source": [
        "### 4.1 Кодирование типа контента"
      ],
      "metadata": {
        "id": "tkR-IGqAc4n3"
      }
    },
    {
      "cell_type": "code",
      "source": [
        "content_type_weights = {\n",
        "    'film': 1.0,      # базовый вес\n",
        "    'series': 1.1     # сериалы имеют более высокую вовлеченность\n",
        "}\n",
        "interactions_context['content_type_weight'] = interactions_context['content_type'].map(content_type_weights).fillna(1.0)"
      ],
      "metadata": {
        "id": "nGqaw0CVjb-r"
      },
      "execution_count": null,
      "outputs": []
    },
    {
      "cell_type": "markdown",
      "source": [
        "### 4.2 Кодирование свежести контента"
      ],
      "metadata": {
        "id": "2Z71YQledEPY"
      }
    },
    {
      "cell_type": "code",
      "source": [
        "current_year = interactions_context['release_year'].max()\n",
        "interactions_context['content_age'] = current_year - interactions_context['release_year']\n",
        "interactions_context['content_recency_weight'] = np.exp(-interactions_context['content_age'] / 20)  # полураспад 20 лет"
      ],
      "metadata": {
        "id": "NxTY_c4odWfE"
      },
      "execution_count": null,
      "outputs": []
    },
    {
      "cell_type": "markdown",
      "source": [
        "### 4.3 Кодирование возрастного рейтинга"
      ],
      "metadata": {
        "id": "r0Qx59ZedfJX"
      }
    },
    {
      "cell_type": "code",
      "source": [
        "def encode_age_rating(age_rating):\n",
        "    if pd.isna(age_rating): return 1.0\n",
        "    if age_rating >= 21: return 1.05    # эксклюзивный контент\n",
        "    elif age_rating >= 18: return 1.04  # взрослый контент\n",
        "    elif age_rating >= 16: return 1.03  # для старших подростков\n",
        "    elif age_rating >= 12: return 1.02  # стандартный\n",
        "    elif age_rating >= 6: return 1.01   # детский\n",
        "    else: return 1.0                    # для самых маленьких\n",
        "\n",
        "interactions_context['age_rating_weight'] = interactions_context['age_rating'].apply(encode_age_rating)"
      ],
      "metadata": {
        "id": "2niSeS6mjuce"
      },
      "execution_count": null,
      "outputs": []
    },
    {
      "cell_type": "code",
      "source": [
        "print(\"КОНТЕКСТНЫЕ ПРИЗНАКИ ЗАКОДИРОВАНЫ:\")\n",
        "print(f\"- Content type weights: {content_type_weights}\")\n",
        "print(f\"- Content recency: полураспад 20 лет\")\n",
        "print(f\"- Age rating: дифференцированные веса\")"
      ],
      "metadata": {
        "colab": {
          "base_uri": "https://localhost:8080/"
        },
        "id": "0ZCVRiVndvVm",
        "outputId": "27dd1c25-3fa7-465d-ee81-fa885e8ab335"
      },
      "execution_count": null,
      "outputs": [
        {
          "output_type": "stream",
          "name": "stdout",
          "text": [
            "КОНТЕКСТНЫЕ ПРИЗНАКИ ЗАКОДИРОВАНЫ:\n",
            "- Content type weights: {'film': 1.0, 'series': 1.1}\n",
            "- Content recency: полураспад 20 лет\n",
            "- Age rating: дифференцированные веса\n"
          ]
        }
      ]
    },
    {
      "cell_type": "markdown",
      "source": [
        "## 5. КОМБИНАЦИЯ НЕЯВНЫХ И КОНТЕКСТНЫХ ПРИЗНАКОВ"
      ],
      "metadata": {
        "id": "ZhYxKiwwd3xH"
      }
    },
    {
      "cell_type": "markdown",
      "source": [
        "### 5.1 Комбинирование неявных признаков"
      ],
      "metadata": {
        "id": "1ZoKD0mMd7km"
      }
    },
    {
      "cell_type": "markdown",
      "source": [
        "\n",
        "\n",
        "```\n",
        "final = (duration*0.4 + completion*0.4 + time_decay*0.2) * content_type\n",
        "```\n",
        "\n"
      ],
      "metadata": {
        "id": "U9P71JB4CGtP"
      }
    },
    {
      "cell_type": "code",
      "source": [
        "interactions_context['implicit_combined'] = (\n",
        "    interactions_context['duration_weight'] *\n",
        "    interactions_context['completion_weight'] *\n",
        "    interactions_context['time_decay_weight']\n",
        ")"
      ],
      "metadata": {
        "id": "GEYuOGda9nIo"
      },
      "execution_count": null,
      "outputs": []
    },
    {
      "cell_type": "markdown",
      "source": [
        "### 5.2 Добавление контекстных признаков"
      ],
      "metadata": {
        "id": "FmbUh6sSeB1q"
      }
    },
    {
      "cell_type": "code",
      "source": [
        "interactions_context['final_weight'] = (\n",
        "    interactions_context['implicit_combined'] *\n",
        "    interactions_context['content_type_weight'] *\n",
        "    interactions_context['content_recency_weight'] *\n",
        "    interactions_context['age_rating_weight']\n",
        ")"
      ],
      "metadata": {
        "id": "-7iLUZGYeEBc"
      },
      "execution_count": null,
      "outputs": []
    },
    {
      "cell_type": "markdown",
      "source": [
        "### 5.3 Нормализация весов по пользователям"
      ],
      "metadata": {
        "id": "vz747Bl-eGhO"
      }
    },
    {
      "cell_type": "markdown",
      "source": [
        "Попробуйте нормализовать по медиане"
      ],
      "metadata": {
        "id": "hzdttmFLCV14"
      }
    },
    {
      "cell_type": "code",
      "source": [
        "user_sums_implicit = interactions_context.groupby('user_id')['implicit_combined'].transform('sum')\n",
        "user_sums_full = interactions_context.groupby('user_id')['final_weight'].transform('sum')\n",
        "\n",
        "interactions_context['implicit_normalized'] = interactions_context['implicit_combined'] / user_sums_implicit\n",
        "interactions_context['full_context_normalized'] = interactions_context['final_weight'] / user_sums_full\n"
      ],
      "metadata": {
        "id": "z4IusTa0eOs3"
      },
      "execution_count": null,
      "outputs": []
    },
    {
      "cell_type": "code",
      "source": [
        "print(\" ПРИЗНАКИ СКОМБИНИРОВАНЫ:\")\n",
        "print(f\"- Только неявные: {interactions_context['implicit_normalized'].min():.6f} - {interactions_context['implicit_normalized'].max():.6f}\")\n",
        "print(f\"- Неявные + контекст: {interactions_context['full_context_normalized'].min():.6f} - {interactions_context['full_context_normalized'].max():.6f}\")\n"
      ],
      "metadata": {
        "colab": {
          "base_uri": "https://localhost:8080/"
        },
        "id": "Jvsx_m0keU3q",
        "outputId": "1b7bf701-e9a2-42f8-cf9e-90c2e2df1956"
      },
      "execution_count": null,
      "outputs": [
        {
          "output_type": "stream",
          "name": "stdout",
          "text": [
            " ПРИЗНАКИ СКОМБИНИРОВАНЫ:\n",
            "- Только неявные: 0.000000 - 1.000000\n",
            "- Неявные + контекст: 0.000000 - 1.000000\n"
          ]
        }
      ]
    },
    {
      "cell_type": "markdown",
      "source": [
        "## 6. СОЗДАНИЕ МАТРИЦ ВЗАИМОДЕЙСТВИЙ"
      ],
      "metadata": {
        "id": "uyZQQ2j_ecO6"
      }
    },
    {
      "cell_type": "code",
      "source": [
        "def create_interaction_matrix(weights, name, df):\n",
        "    \"\"\"Создает матрицу пользователь - элемент\"\"\"\n",
        "    user_ids = df['user_id'].unique()\n",
        "    item_ids = df['item_id'].unique()\n",
        "    user_to_index = {user_id: idx for idx, user_id in enumerate(user_ids)}\n",
        "    item_to_index = {item_id: idx for idx, item_id in enumerate(item_ids)}\n",
        "\n",
        "    row_indices = df['user_id'].map(user_to_index)\n",
        "    col_indices = df['item_id'].map(item_to_index)\n",
        "\n",
        "    matrix = csr_matrix((weights, (row_indices, col_indices)),\n",
        "                       shape=(len(user_ids), len(item_ids)))\n",
        "\n",
        "    print(f\"   Матрица '{name}': {matrix.shape[0]} пользователей - {matrix.shape[1]} элементов\")\n",
        "    print(f\"   Ненулевых элементов: {matrix.nnz:,} ({matrix.nnz/(matrix.shape[0]*matrix.shape[1])*100:.4f}% заполненности)\")\n",
        "\n",
        "    return matrix, user_to_index, item_to_index"
      ],
      "metadata": {
        "id": "9l-sSVNzehl9"
      },
      "execution_count": null,
      "outputs": []
    },
    {
      "cell_type": "code",
      "source": [
        "# различные варианты матриц\n",
        "matrix_implicit, user_map, item_map = create_interaction_matrix(\n",
        "    interactions_context['implicit_normalized'].fillna(0),\n",
        "    \"Только неявные признаки\",\n",
        "    interactions_context\n",
        ")\n",
        "\n",
        "matrix_full_context, _, _ = create_interaction_matrix(\n",
        "    interactions_context['full_context_normalized'].fillna(0),\n",
        "    \"Неявные + контекстные признаки\",\n",
        "    interactions_context\n",
        ")"
      ],
      "metadata": {
        "colab": {
          "base_uri": "https://localhost:8080/"
        },
        "id": "xZ4lmjZdeoku",
        "outputId": "b2b24c72-5fbb-4a85-90ee-efa97a19ffb5"
      },
      "execution_count": null,
      "outputs": [
        {
          "output_type": "stream",
          "name": "stdout",
          "text": [
            "   Матрица 'Только неявные признаки': 567576 пользователей - 12640 элементов\n",
            "   Ненулевых элементов: 1,594,691 (0.0222% заполненности)\n",
            "   Матрица 'Неявные + контекстные признаки': 567576 пользователей - 12640 элементов\n",
            "   Ненулевых элементов: 1,594,691 (0.0222% заполненности)\n"
          ]
        }
      ]
    },
    {
      "cell_type": "markdown",
      "source": [
        "## 7. СРАВНИТЕЛЬНЫЙ АНАЛИЗ"
      ],
      "metadata": {
        "id": "iNKakEQAe3P8"
      }
    },
    {
      "cell_type": "code",
      "source": [
        "methods = [\n",
        "    (\"Только неявные\", matrix_implicit),\n",
        "    (\"Неявные + контекст\", matrix_full_context)\n",
        "]\n",
        "comparison_data = []\n",
        "for name, matrix in methods:\n",
        "    non_zero_weights = matrix.data\n",
        "    comparison_data.append({\n",
        "        'Метод кодирования': name,\n",
        "        'Размерность': f\"{matrix.shape[0]}×{matrix.shape[1]}\",\n",
        "        'Ненулевых': f\"{matrix.nnz:,}\",\n",
        "        'Заполненность': f\"{matrix.nnz/(matrix.shape[0]*matrix.shape[1])*100:.4f}%\",\n",
        "        'Мин. вес': f\"{non_zero_weights.min():.6f}\",\n",
        "        'Макс. вес': f\"{non_zero_weights.max():.6f}\",\n",
        "        'Мед. вес': f\"{np.median(non_zero_weights):.6f}\"\n",
        "    })\n",
        "\n",
        "comparison_df = pd.DataFrame(comparison_data)\n",
        "print(\"СРАВНЕНИЕ МЕТОДОВ КОДИРОВАНИЯ:\")\n",
        "display(comparison_df)"
      ],
      "metadata": {
        "colab": {
          "base_uri": "https://localhost:8080/",
          "height": 129
        },
        "id": "uC-8womse7Kz",
        "outputId": "b515b65d-936d-429c-8ab5-db308f8e9652"
      },
      "execution_count": null,
      "outputs": [
        {
          "output_type": "stream",
          "name": "stdout",
          "text": [
            "СРАВНЕНИЕ МЕТОДОВ КОДИРОВАНИЯ:\n"
          ]
        },
        {
          "output_type": "display_data",
          "data": {
            "text/plain": [
              "    Метод кодирования   Размерность  Ненулевых Заполненность  Мин. вес  \\\n",
              "0      Только неявные  567576×12640  1,594,691       0.0222%  0.000000   \n",
              "1  Неявные + контекст  567576×12640  1,594,691       0.0222%  0.000000   \n",
              "\n",
              "  Макс. вес  Мед. вес  \n",
              "0  1.000000  0.173686  \n",
              "1  1.000000  0.169859  "
            ],
            "text/html": [
              "\n",
              "  <div id=\"df-2a75b0fc-29df-49ef-91f6-07723574c280\" class=\"colab-df-container\">\n",
              "    <div>\n",
              "<style scoped>\n",
              "    .dataframe tbody tr th:only-of-type {\n",
              "        vertical-align: middle;\n",
              "    }\n",
              "\n",
              "    .dataframe tbody tr th {\n",
              "        vertical-align: top;\n",
              "    }\n",
              "\n",
              "    .dataframe thead th {\n",
              "        text-align: right;\n",
              "    }\n",
              "</style>\n",
              "<table border=\"1\" class=\"dataframe\">\n",
              "  <thead>\n",
              "    <tr style=\"text-align: right;\">\n",
              "      <th></th>\n",
              "      <th>Метод кодирования</th>\n",
              "      <th>Размерность</th>\n",
              "      <th>Ненулевых</th>\n",
              "      <th>Заполненность</th>\n",
              "      <th>Мин. вес</th>\n",
              "      <th>Макс. вес</th>\n",
              "      <th>Мед. вес</th>\n",
              "    </tr>\n",
              "  </thead>\n",
              "  <tbody>\n",
              "    <tr>\n",
              "      <th>0</th>\n",
              "      <td>Только неявные</td>\n",
              "      <td>567576×12640</td>\n",
              "      <td>1,594,691</td>\n",
              "      <td>0.0222%</td>\n",
              "      <td>0.000000</td>\n",
              "      <td>1.000000</td>\n",
              "      <td>0.173686</td>\n",
              "    </tr>\n",
              "    <tr>\n",
              "      <th>1</th>\n",
              "      <td>Неявные + контекст</td>\n",
              "      <td>567576×12640</td>\n",
              "      <td>1,594,691</td>\n",
              "      <td>0.0222%</td>\n",
              "      <td>0.000000</td>\n",
              "      <td>1.000000</td>\n",
              "      <td>0.169859</td>\n",
              "    </tr>\n",
              "  </tbody>\n",
              "</table>\n",
              "</div>\n",
              "    <div class=\"colab-df-buttons\">\n",
              "\n",
              "  <div class=\"colab-df-container\">\n",
              "    <button class=\"colab-df-convert\" onclick=\"convertToInteractive('df-2a75b0fc-29df-49ef-91f6-07723574c280')\"\n",
              "            title=\"Convert this dataframe to an interactive table.\"\n",
              "            style=\"display:none;\">\n",
              "\n",
              "  <svg xmlns=\"http://www.w3.org/2000/svg\" height=\"24px\" viewBox=\"0 -960 960 960\">\n",
              "    <path d=\"M120-120v-720h720v720H120Zm60-500h600v-160H180v160Zm220 220h160v-160H400v160Zm0 220h160v-160H400v160ZM180-400h160v-160H180v160Zm440 0h160v-160H620v160ZM180-180h160v-160H180v160Zm440 0h160v-160H620v160Z\"/>\n",
              "  </svg>\n",
              "    </button>\n",
              "\n",
              "  <style>\n",
              "    .colab-df-container {\n",
              "      display:flex;\n",
              "      gap: 12px;\n",
              "    }\n",
              "\n",
              "    .colab-df-convert {\n",
              "      background-color: #E8F0FE;\n",
              "      border: none;\n",
              "      border-radius: 50%;\n",
              "      cursor: pointer;\n",
              "      display: none;\n",
              "      fill: #1967D2;\n",
              "      height: 32px;\n",
              "      padding: 0 0 0 0;\n",
              "      width: 32px;\n",
              "    }\n",
              "\n",
              "    .colab-df-convert:hover {\n",
              "      background-color: #E2EBFA;\n",
              "      box-shadow: 0px 1px 2px rgba(60, 64, 67, 0.3), 0px 1px 3px 1px rgba(60, 64, 67, 0.15);\n",
              "      fill: #174EA6;\n",
              "    }\n",
              "\n",
              "    .colab-df-buttons div {\n",
              "      margin-bottom: 4px;\n",
              "    }\n",
              "\n",
              "    [theme=dark] .colab-df-convert {\n",
              "      background-color: #3B4455;\n",
              "      fill: #D2E3FC;\n",
              "    }\n",
              "\n",
              "    [theme=dark] .colab-df-convert:hover {\n",
              "      background-color: #434B5C;\n",
              "      box-shadow: 0px 1px 3px 1px rgba(0, 0, 0, 0.15);\n",
              "      filter: drop-shadow(0px 1px 2px rgba(0, 0, 0, 0.3));\n",
              "      fill: #FFFFFF;\n",
              "    }\n",
              "  </style>\n",
              "\n",
              "    <script>\n",
              "      const buttonEl =\n",
              "        document.querySelector('#df-2a75b0fc-29df-49ef-91f6-07723574c280 button.colab-df-convert');\n",
              "      buttonEl.style.display =\n",
              "        google.colab.kernel.accessAllowed ? 'block' : 'none';\n",
              "\n",
              "      async function convertToInteractive(key) {\n",
              "        const element = document.querySelector('#df-2a75b0fc-29df-49ef-91f6-07723574c280');\n",
              "        const dataTable =\n",
              "          await google.colab.kernel.invokeFunction('convertToInteractive',\n",
              "                                                    [key], {});\n",
              "        if (!dataTable) return;\n",
              "\n",
              "        const docLinkHtml = 'Like what you see? Visit the ' +\n",
              "          '<a target=\"_blank\" href=https://colab.research.google.com/notebooks/data_table.ipynb>data table notebook</a>'\n",
              "          + ' to learn more about interactive tables.';\n",
              "        element.innerHTML = '';\n",
              "        dataTable['output_type'] = 'display_data';\n",
              "        await google.colab.output.renderOutput(dataTable, element);\n",
              "        const docLink = document.createElement('div');\n",
              "        docLink.innerHTML = docLinkHtml;\n",
              "        element.appendChild(docLink);\n",
              "      }\n",
              "    </script>\n",
              "  </div>\n",
              "\n",
              "\n",
              "    <div id=\"df-0e8e9be4-f1bf-4593-89e2-44619a066a6f\">\n",
              "      <button class=\"colab-df-quickchart\" onclick=\"quickchart('df-0e8e9be4-f1bf-4593-89e2-44619a066a6f')\"\n",
              "                title=\"Suggest charts\"\n",
              "                style=\"display:none;\">\n",
              "\n",
              "<svg xmlns=\"http://www.w3.org/2000/svg\" height=\"24px\"viewBox=\"0 0 24 24\"\n",
              "     width=\"24px\">\n",
              "    <g>\n",
              "        <path d=\"M19 3H5c-1.1 0-2 .9-2 2v14c0 1.1.9 2 2 2h14c1.1 0 2-.9 2-2V5c0-1.1-.9-2-2-2zM9 17H7v-7h2v7zm4 0h-2V7h2v10zm4 0h-2v-4h2v4z\"/>\n",
              "    </g>\n",
              "</svg>\n",
              "      </button>\n",
              "\n",
              "<style>\n",
              "  .colab-df-quickchart {\n",
              "      --bg-color: #E8F0FE;\n",
              "      --fill-color: #1967D2;\n",
              "      --hover-bg-color: #E2EBFA;\n",
              "      --hover-fill-color: #174EA6;\n",
              "      --disabled-fill-color: #AAA;\n",
              "      --disabled-bg-color: #DDD;\n",
              "  }\n",
              "\n",
              "  [theme=dark] .colab-df-quickchart {\n",
              "      --bg-color: #3B4455;\n",
              "      --fill-color: #D2E3FC;\n",
              "      --hover-bg-color: #434B5C;\n",
              "      --hover-fill-color: #FFFFFF;\n",
              "      --disabled-bg-color: #3B4455;\n",
              "      --disabled-fill-color: #666;\n",
              "  }\n",
              "\n",
              "  .colab-df-quickchart {\n",
              "    background-color: var(--bg-color);\n",
              "    border: none;\n",
              "    border-radius: 50%;\n",
              "    cursor: pointer;\n",
              "    display: none;\n",
              "    fill: var(--fill-color);\n",
              "    height: 32px;\n",
              "    padding: 0;\n",
              "    width: 32px;\n",
              "  }\n",
              "\n",
              "  .colab-df-quickchart:hover {\n",
              "    background-color: var(--hover-bg-color);\n",
              "    box-shadow: 0 1px 2px rgba(60, 64, 67, 0.3), 0 1px 3px 1px rgba(60, 64, 67, 0.15);\n",
              "    fill: var(--button-hover-fill-color);\n",
              "  }\n",
              "\n",
              "  .colab-df-quickchart-complete:disabled,\n",
              "  .colab-df-quickchart-complete:disabled:hover {\n",
              "    background-color: var(--disabled-bg-color);\n",
              "    fill: var(--disabled-fill-color);\n",
              "    box-shadow: none;\n",
              "  }\n",
              "\n",
              "  .colab-df-spinner {\n",
              "    border: 2px solid var(--fill-color);\n",
              "    border-color: transparent;\n",
              "    border-bottom-color: var(--fill-color);\n",
              "    animation:\n",
              "      spin 1s steps(1) infinite;\n",
              "  }\n",
              "\n",
              "  @keyframes spin {\n",
              "    0% {\n",
              "      border-color: transparent;\n",
              "      border-bottom-color: var(--fill-color);\n",
              "      border-left-color: var(--fill-color);\n",
              "    }\n",
              "    20% {\n",
              "      border-color: transparent;\n",
              "      border-left-color: var(--fill-color);\n",
              "      border-top-color: var(--fill-color);\n",
              "    }\n",
              "    30% {\n",
              "      border-color: transparent;\n",
              "      border-left-color: var(--fill-color);\n",
              "      border-top-color: var(--fill-color);\n",
              "      border-right-color: var(--fill-color);\n",
              "    }\n",
              "    40% {\n",
              "      border-color: transparent;\n",
              "      border-right-color: var(--fill-color);\n",
              "      border-top-color: var(--fill-color);\n",
              "    }\n",
              "    60% {\n",
              "      border-color: transparent;\n",
              "      border-right-color: var(--fill-color);\n",
              "    }\n",
              "    80% {\n",
              "      border-color: transparent;\n",
              "      border-right-color: var(--fill-color);\n",
              "      border-bottom-color: var(--fill-color);\n",
              "    }\n",
              "    90% {\n",
              "      border-color: transparent;\n",
              "      border-bottom-color: var(--fill-color);\n",
              "    }\n",
              "  }\n",
              "</style>\n",
              "\n",
              "      <script>\n",
              "        async function quickchart(key) {\n",
              "          const quickchartButtonEl =\n",
              "            document.querySelector('#' + key + ' button');\n",
              "          quickchartButtonEl.disabled = true;  // To prevent multiple clicks.\n",
              "          quickchartButtonEl.classList.add('colab-df-spinner');\n",
              "          try {\n",
              "            const charts = await google.colab.kernel.invokeFunction(\n",
              "                'suggestCharts', [key], {});\n",
              "          } catch (error) {\n",
              "            console.error('Error during call to suggestCharts:', error);\n",
              "          }\n",
              "          quickchartButtonEl.classList.remove('colab-df-spinner');\n",
              "          quickchartButtonEl.classList.add('colab-df-quickchart-complete');\n",
              "        }\n",
              "        (() => {\n",
              "          let quickchartButtonEl =\n",
              "            document.querySelector('#df-0e8e9be4-f1bf-4593-89e2-44619a066a6f button');\n",
              "          quickchartButtonEl.style.display =\n",
              "            google.colab.kernel.accessAllowed ? 'block' : 'none';\n",
              "        })();\n",
              "      </script>\n",
              "    </div>\n",
              "    </div>\n",
              "  </div>\n"
            ],
            "application/vnd.google.colaboratory.intrinsic+json": {
              "type": "dataframe",
              "variable_name": "comparison_df",
              "summary": "{\n  \"name\": \"comparison_df\",\n  \"rows\": 2,\n  \"fields\": [\n    {\n      \"column\": \"\\u041c\\u0435\\u0442\\u043e\\u0434 \\u043a\\u043e\\u0434\\u0438\\u0440\\u043e\\u0432\\u0430\\u043d\\u0438\\u044f\",\n      \"properties\": {\n        \"dtype\": \"string\",\n        \"num_unique_values\": 2,\n        \"samples\": [\n          \"\\u041d\\u0435\\u044f\\u0432\\u043d\\u044b\\u0435 + \\u043a\\u043e\\u043d\\u0442\\u0435\\u043a\\u0441\\u0442\",\n          \"\\u0422\\u043e\\u043b\\u044c\\u043a\\u043e \\u043d\\u0435\\u044f\\u0432\\u043d\\u044b\\u0435\"\n        ],\n        \"semantic_type\": \"\",\n        \"description\": \"\"\n      }\n    },\n    {\n      \"column\": \"\\u0420\\u0430\\u0437\\u043c\\u0435\\u0440\\u043d\\u043e\\u0441\\u0442\\u044c\",\n      \"properties\": {\n        \"dtype\": \"string\",\n        \"num_unique_values\": 1,\n        \"samples\": [\n          \"567576\\u00d712640\"\n        ],\n        \"semantic_type\": \"\",\n        \"description\": \"\"\n      }\n    },\n    {\n      \"column\": \"\\u041d\\u0435\\u043d\\u0443\\u043b\\u0435\\u0432\\u044b\\u0445\",\n      \"properties\": {\n        \"dtype\": \"string\",\n        \"num_unique_values\": 1,\n        \"samples\": [\n          \"1,594,691\"\n        ],\n        \"semantic_type\": \"\",\n        \"description\": \"\"\n      }\n    },\n    {\n      \"column\": \"\\u0417\\u0430\\u043f\\u043e\\u043b\\u043d\\u0435\\u043d\\u043d\\u043e\\u0441\\u0442\\u044c\",\n      \"properties\": {\n        \"dtype\": \"string\",\n        \"num_unique_values\": 1,\n        \"samples\": [\n          \"0.0222%\"\n        ],\n        \"semantic_type\": \"\",\n        \"description\": \"\"\n      }\n    },\n    {\n      \"column\": \"\\u041c\\u0438\\u043d. \\u0432\\u0435\\u0441\",\n      \"properties\": {\n        \"dtype\": \"string\",\n        \"num_unique_values\": 1,\n        \"samples\": [\n          \"0.000000\"\n        ],\n        \"semantic_type\": \"\",\n        \"description\": \"\"\n      }\n    },\n    {\n      \"column\": \"\\u041c\\u0430\\u043a\\u0441. \\u0432\\u0435\\u0441\",\n      \"properties\": {\n        \"dtype\": \"string\",\n        \"num_unique_values\": 1,\n        \"samples\": [\n          \"1.000000\"\n        ],\n        \"semantic_type\": \"\",\n        \"description\": \"\"\n      }\n    },\n    {\n      \"column\": \"\\u041c\\u0435\\u0434. \\u0432\\u0435\\u0441\",\n      \"properties\": {\n        \"dtype\": \"string\",\n        \"num_unique_values\": 2,\n        \"samples\": [\n          \"0.169859\"\n        ],\n        \"semantic_type\": \"\",\n        \"description\": \"\"\n      }\n    }\n  ]\n}"
            }
          },
          "metadata": {}
        }
      ]
    },
    {
      "cell_type": "markdown",
      "source": [
        "### 7.1 ПОДРОБНЫЙ ПРОСМОТР ПОЛУЧЕННЫХ ВЕСОВ"
      ],
      "metadata": {
        "id": "PXsSlLxynpOx"
      }
    },
    {
      "cell_type": "code",
      "source": [
        "# названия и жанры из items\n",
        "items_titles = items[['item_id', 'title', 'genres', 'content_type', 'release_year']].copy()\n",
        "\n",
        "def format_genres(genres_str):\n",
        "    \"\"\"Форматируем жанры для читаемого вывода\"\"\"\n",
        "    if pd.isna(genres_str):\n",
        "        return \"не указаны\"\n",
        "    try:\n",
        "        if genres_str.startswith('['):\n",
        "            genres_list = eval(genres_str)\n",
        "            return ', '.join(genres_list[:3]) + ('...' if len(genres_list) > 3 else '')\n",
        "        else:\n",
        "            return str(genres_str)[:50] + ('...' if len(str(genres_str)) > 50 else '')\n",
        "    except:\n",
        "        return str(genres_str)[:50] + ('...' if len(str(genres_str)) > 50 else '')\n",
        "\n",
        "items_titles['genres_formatted'] = items_titles['genres'].apply(format_genres)\n",
        "items_titles['title_short'] = items_titles['title'].str[:40] + ('...' if items_titles['title'].str.len().max() > 40 else '')\n",
        "\n",
        "interactions_titles = interactions_context.merge(\n",
        "    items_titles[['item_id', 'title_short', 'genres_formatted']],\n",
        "    on='item_id',\n",
        "    how='left'\n",
        ")\n",
        "\n",
        "# несколько примеров для детального анализа\n",
        "sample_users = interactions_titles['user_id'].unique()[:3]\n",
        "detailed_examples = []\n",
        "\n",
        "for user_id in sample_users:\n",
        "    user_interactions = interactions_titles[interactions_titles['user_id'] == user_id].head(2)\n",
        "    for _, row in user_interactions.iterrows():\n",
        "        detailed_examples.append({\n",
        "            'user_id': user_id,\n",
        "            'item_id': row['item_id'],\n",
        "            'title': row['title_short'] if pd.notna(row['title_short']) else f\"Фильм {row['item_id']}\",\n",
        "            'genres': row['genres_formatted'],\n",
        "            'content_type': row['content_type'],\n",
        "            'total_dur_min': row['total_dur'] / 60,  # в минутах для удобства\n",
        "            'watched_pct': row['watched_pct'],\n",
        "            'days_ago': row['days_since_watch_relative'],\n",
        "            'release_year': row['release_year'],\n",
        "            'age_rating': row['age_rating'],\n",
        "            # неявные веса\n",
        "            'duration_weight': row['duration_weight'],\n",
        "            'completion_weight': row['completion_weight'],\n",
        "            'time_decay_weight': row['time_decay_weight'],\n",
        "            'frequency_weight': row['frequency_weight'],\n",
        "            'implicit_combined': row['implicit_combined'],\n",
        "            # контекстные веса\n",
        "            'content_type_weight': row['content_type_weight'],\n",
        "            'content_recency_weight': row['content_recency_weight'],\n",
        "            'age_rating_weight': row['age_rating_weight'],\n",
        "            # итоговые веса\n",
        "            'final_weight': row['final_weight'],\n",
        "            'implicit_normalized': row['implicit_normalized'],\n",
        "            'full_context_normalized': row['full_context_normalized']\n",
        "        })\n",
        "\n",
        "\n",
        "for idx, example in enumerate(detailed_examples):\n",
        "    print(f\"\\n ПРИМЕР {idx+1}: User {example['user_id']} → '{example['title']}'\")\n",
        "    print(\"-\" * 100)\n",
        "\n",
        "    print(\" ИСХОДНЫЕ ДАННЫЕ:\")\n",
        "    print(f\"   - Название: {example['title']}\")\n",
        "    print(f\"   - Жанры: {example['genres']}\")\n",
        "    print(f\"   - Тип: {example['content_type']}, Год: {example['release_year']:.0f}, Рейтинг: {example['age_rating']:.0f}+\")\n",
        "    print(f\"   - Просмотр: {example['total_dur_min']:.1f} мин ({example['watched_pct']:.1f}%), {example['days_ago']} дней назад\")\n",
        "\n",
        "    print(\"\\n НЕЯВНЫЕ ВЕСА:\")\n",
        "    duration_desc = \"глубокий интерес\" if example['duration_weight'] > 0.7 else \"серьезный интерес\" if example['duration_weight'] > 0.3 else \"поверхностный интерес\"\n",
        "    completion_desc = \"досмотрел\" if example['completion_weight'] > 0.8 else \"посмотрел много\" if example['completion_weight'] > 0.6 else \"посмотрел немного\"\n",
        "    time_desc = \"недавно\" if example['time_decay_weight'] > 0.8 else \"давно\" if example['time_decay_weight'] < 0.3 else \"в среднем\"\n",
        "\n",
        "    print(f\"   - Продолжительность: {example['duration_weight']:.3f} ({duration_desc})\")\n",
        "    print(f\"   - Завершенность: {example['completion_weight']:.3f} ({completion_desc})\")\n",
        "    print(f\"   - Временной вес: {example['time_decay_weight']:.3f} ({time_desc})\")\n",
        "    print(f\"   - Частотный вес: {example['frequency_weight']:.3f}\")\n",
        "    print(f\"   - КОМБИНИРОВАННЫЙ неявный: {example['implicit_combined']:.6f}\")\n",
        "\n",
        "    print(\"\\n КОНТЕКСТНЫЕ ВЕСА:\")\n",
        "    content_desc = \"сериал (высокий вес)\" if example['content_type_weight'] > 1.2 else \"фильм (стандартный вес)\"\n",
        "    recency_desc = \"новинка\" if example['content_recency_weight'] > 0.8 else \"классика\" if example['content_recency_weight'] < 0.3 else \"средней свежести\"\n",
        "    age_desc = \"взрослый контент\" if example['age_rating_weight'] > 1.1 else \"для всех возрастов\"\n",
        "\n",
        "    print(f\"   - Тип контента: {example['content_type_weight']:.3f} ({content_desc})\")\n",
        "    print(f\"   - Свежесть контента: {example['content_recency_weight']:.3f} ({recency_desc})\")\n",
        "    print(f\"   - Возрастной рейтинг: {example['age_rating_weight']:.3f} ({age_desc})\")\n",
        "\n",
        "    print(\"\\n- ИТОГОВЫЕ ВЕСА:\")\n",
        "    enhancement = example['full_context_normalized'] / example['implicit_normalized']\n",
        "    enhancement_desc = \"значительное усиление\" if enhancement > 1.5 else \"умеренное усиление\" if enhancement > 1.1 else \"незначительное изменение\"\n",
        "\n",
        "    print(f\"   - НОРМАЛИЗОВАННЫЙ (только неявные): {example['implicit_normalized']:.6f}\")\n",
        "    print(f\"   - НОРМАЛИЗОВАННЫЙ (с контекстом): {example['full_context_normalized']:.6f}\")\n",
        "    print(f\"   - УСИЛЕНИЕ от контекста: ×{enhancement:.2f} ({enhancement_desc})\")\n"
      ],
      "metadata": {
        "colab": {
          "base_uri": "https://localhost:8080/"
        },
        "id": "vJbSBAFQntNw",
        "outputId": "f332e719-71c5-4b7a-8aa5-418d5a45a0c1"
      },
      "execution_count": null,
      "outputs": [
        {
          "output_type": "stream",
          "name": "stdout",
          "text": [
            "\n",
            " ПРИМЕР 1: User 176549 → 'Холодное сердце...'\n",
            "----------------------------------------------------------------------------------------------------\n",
            " ИСХОДНЫЕ ДАННЫЕ:\n",
            "   - Название: Холодное сердце...\n",
            "   - Жанры: фэнтези, мультфильм, музыкальные\n",
            "   - Тип: film, Год: 2013, Рейтинг: 0+\n",
            "   - Просмотр: 70.8 мин (72.0%), 103 дней назад\n",
            "\n",
            " НЕЯВНЫЕ ВЕСА:\n",
            "   - Продолжительность: 0.950 (глубокий интерес)\n",
            "   - Завершенность: 0.700 (посмотрел много)\n",
            "   - Временной вес: 0.093 (давно)\n",
            "   - Частотный вес: 0.693\n",
            "   - КОМБИНИРОВАННЫЙ неявный: 0.061558\n",
            "\n",
            " КОНТЕКСТНЫЕ ВЕСА:\n",
            "   - Тип контента: 1.000 (фильм (стандартный вес))\n",
            "   - Свежесть контента: 0.670 (средней свежести)\n",
            "   - Возрастной рейтинг: 1.000 (для всех возрастов)\n",
            "\n",
            "- ИТОГОВЫЕ ВЕСА:\n",
            "   - НОРМАЛИЗОВАННЫЙ (только неявные): 0.029914\n",
            "   - НОРМАЛИЗОВАННЫЙ (с контекстом): 0.028213\n",
            "   - УСИЛЕНИЕ от контекста: ×0.94 (незначительное изменение)\n",
            "\n",
            " ПРИМЕР 2: User 176549 → 'Безбашенная пуля...'\n",
            "----------------------------------------------------------------------------------------------------\n",
            " ИСХОДНЫЕ ДАННЫЕ:\n",
            "   - Название: Безбашенная пуля...\n",
            "   - Жанры: боевики, триллеры\n",
            "   - Тип: film, Год: 2019, Рейтинг: 16+\n",
            "   - Просмотр: 105.3 мин (100.0%), 89 дней назад\n",
            "\n",
            " НЕЯВНЫЕ ВЕСА:\n",
            "   - Продолжительность: 0.950 (глубокий интерес)\n",
            "   - Завершенность: 1.000 (досмотрел)\n",
            "   - Временной вес: 0.128 (давно)\n",
            "   - Частотный вес: 0.693\n",
            "   - КОМБИНИРОВАННЫЙ неявный: 0.121526\n",
            "\n",
            " КОНТЕКСТНЫЕ ВЕСА:\n",
            "   - Тип контента: 1.000 (фильм (стандартный вес))\n",
            "   - Свежесть контента: 0.905 (новинка)\n",
            "   - Возрастной рейтинг: 1.030 (для всех возрастов)\n",
            "\n",
            "- ИТОГОВЫЕ ВЕСА:\n",
            "   - НОРМАЛИЗОВАННЫЙ (только неявные): 0.059054\n",
            "   - НОРМАЛИЗОВАННЫЙ (с контекстом): 0.077440\n",
            "   - УСИЛЕНИЕ от контекста: ×1.31 (умеренное усиление)\n",
            "\n",
            " ПРИМЕР 3: User 699317 → 'Три богатыря. Ход конем...'\n",
            "----------------------------------------------------------------------------------------------------\n",
            " ИСХОДНЫЕ ДАННЫЕ:\n",
            "   - Название: Три богатыря. Ход конем...\n",
            "   - Жанры: мультфильм, фэнтези, приключения, комедии\n",
            "   - Тип: film, Год: 2014, Рейтинг: 6+\n",
            "   - Просмотр: 138.6 мин (100.0%), 85 дней назад\n",
            "\n",
            " НЕЯВНЫЕ ВЕСА:\n",
            "   - Продолжительность: 1.000 (глубокий интерес)\n",
            "   - Завершенность: 1.000 (досмотрел)\n",
            "   - Временной вес: 0.140 (давно)\n",
            "   - Частотный вес: 0.693\n",
            "   - КОМБИНИРОВАННЫЙ неявный: 0.140308\n",
            "\n",
            " КОНТЕКСТНЫЕ ВЕСА:\n",
            "   - Тип контента: 1.000 (фильм (стандартный вес))\n",
            "   - Свежесть контента: 0.705 (средней свежести)\n",
            "   - Возрастной рейтинг: 1.010 (для всех возрастов)\n",
            "\n",
            "- ИТОГОВЫЕ ВЕСА:\n",
            "   - НОРМАЛИЗОВАННЫЙ (только неявные): 0.042078\n",
            "   - НОРМАЛИЗОВАННЫЙ (с контекстом): 0.040311\n",
            "   - УСИЛЕНИЕ от контекста: ×0.96 (незначительное изменение)\n",
            "\n",
            " ПРИМЕР 4: User 699317 → 'Принцесса...'\n",
            "----------------------------------------------------------------------------------------------------\n",
            " ИСХОДНЫЕ ДАННЫЕ:\n",
            "   - Название: Принцесса...\n",
            "   - Жанры: комедии\n",
            "   - Тип: film, Год: 2015, Рейтинг: 16+\n",
            "   - Просмотр: 9.2 мин (90.0%), 112 дней назад\n",
            "\n",
            " НЕЯВНЫЕ ВЕСА:\n",
            "   - Продолжительность: 0.400 (серьезный интерес)\n",
            "   - Завершенность: 0.900 (досмотрел)\n",
            "   - Временной вес: 0.075 (давно)\n",
            "   - Частотный вес: 0.693\n",
            "   - КОМБИНИРОВАННЫЙ неявный: 0.027068\n",
            "\n",
            " КОНТЕКСТНЫЕ ВЕСА:\n",
            "   - Тип контента: 1.000 (фильм (стандартный вес))\n",
            "   - Свежесть контента: 0.741 (средней свежести)\n",
            "   - Возрастной рейтинг: 1.030 (для всех возрастов)\n",
            "\n",
            "- ИТОГОВЫЕ ВЕСА:\n",
            "   - НОРМАЛИЗОВАННЫЙ (только неявные): 0.008118\n",
            "   - НОРМАЛИЗОВАННЫЙ (с контекстом): 0.008337\n",
            "   - УСИЛЕНИЕ от контекста: ×1.03 (незначительное изменение)\n",
            "\n",
            " ПРИМЕР 5: User 656683 → 'Девятаев...'\n",
            "----------------------------------------------------------------------------------------------------\n",
            " ИСХОДНЫЕ ДАННЫЕ:\n",
            "   - Название: Девятаев...\n",
            "   - Жанры: драмы, военные, приключения\n",
            "   - Тип: series, Год: 2021, Рейтинг: 12+\n",
            "   - Просмотр: 0.2 мин (0.0%), 105 дней назад\n",
            "\n",
            " НЕЯВНЫЕ ВЕСА:\n",
            "   - Продолжительность: 0.100 (поверхностный интерес)\n",
            "   - Завершенность: 0.010 (посмотрел немного)\n",
            "   - Временной вес: 0.088 (давно)\n",
            "   - Частотный вес: 0.693\n",
            "   - КОМБИНИРОВАННЫЙ неявный: 0.000088\n",
            "\n",
            " КОНТЕКСТНЫЕ ВЕСА:\n",
            "   - Тип контента: 1.100 (фильм (стандартный вес))\n",
            "   - Свежесть контента: 1.000 (новинка)\n",
            "   - Возрастной рейтинг: 1.020 (для всех возрастов)\n",
            "\n",
            "- ИТОГОВЫЕ ВЕСА:\n",
            "   - НОРМАЛИЗОВАННЫЙ (только неявные): 0.117992\n",
            "   - НОРМАЛИЗОВАННЫЙ (с контекстом): 0.132289\n",
            "   - УСИЛЕНИЕ от контекста: ×1.12 (умеренное усиление)\n",
            "\n",
            " ПРИМЕР 6: User 656683 → 'Белый снег...'\n",
            "----------------------------------------------------------------------------------------------------\n",
            " ИСХОДНЫЕ ДАННЫЕ:\n",
            "   - Название: Белый снег...\n",
            "   - Жанры: драмы, спорт\n",
            "   - Тип: film, Год: 2021, Рейтинг: 6+\n",
            "   - Просмотр: 0.4 мин (0.0%), 98 дней назад\n",
            "\n",
            " НЕЯВНЫЕ ВЕСА:\n",
            "   - Продолжительность: 0.100 (поверхностный интерес)\n",
            "   - Завершенность: 0.010 (посмотрел немного)\n",
            "   - Временной вес: 0.104 (давно)\n",
            "   - Частотный вес: 0.693\n",
            "   - КОМБИНИРОВАННЫЙ неявный: 0.000104\n",
            "\n",
            " КОНТЕКСТНЫЕ ВЕСА:\n",
            "   - Тип контента: 1.000 (фильм (стандартный вес))\n",
            "   - Свежесть контента: 1.000 (новинка)\n",
            "   - Возрастной рейтинг: 1.010 (для всех возрастов)\n",
            "\n",
            "- ИТОГОВЫЕ ВЕСА:\n",
            "   - НОРМАЛИЗОВАННЫЙ (только неявные): 0.138705\n",
            "   - НОРМАЛИЗОВАННЫЙ (с контекстом): 0.139988\n",
            "   - УСИЛЕНИЕ от контекста: ×1.01 (незначительное изменение)\n"
          ]
        }
      ]
    },
    {
      "cell_type": "markdown",
      "source": [
        "### 7.2 СТАТИСТИКИ ПО ВЕСАМ"
      ],
      "metadata": {
        "id": "sI34ikrZs4BV"
      }
    },
    {
      "cell_type": "code",
      "source": [
        "weights_stats = pd.DataFrame({\n",
        "    'Тип веса': [\n",
        "        'Продолжительность', 'Завершенность', 'Временной', 'Частотный',\n",
        "        'Тип контента', 'Свежесть контента', 'Возрастной рейтинг',\n",
        "        'Комбинированный неявный', 'Полный с контекстом',\n",
        "        'Нормализованный неявный', 'Нормализованный с контекстом'\n",
        "    ],\n",
        "    'Мин. значение': [\n",
        "        interactions_context['duration_weight'].min(),\n",
        "        interactions_context['completion_weight'].min(),\n",
        "        interactions_context['time_decay_weight'].min(),\n",
        "        interactions_context['frequency_weight'].min(),\n",
        "        interactions_context['content_type_weight'].min(),\n",
        "        interactions_context['content_recency_weight'].min(),\n",
        "        interactions_context['age_rating_weight'].min(),\n",
        "        interactions_context['implicit_combined'].min(),\n",
        "        interactions_context['final_weight'].min(),\n",
        "        interactions_context['implicit_normalized'].min(),\n",
        "        interactions_context['full_context_normalized'].min()\n",
        "    ],\n",
        "    'Макс. значение': [\n",
        "        interactions_context['duration_weight'].max(),\n",
        "        interactions_context['completion_weight'].max(),\n",
        "        interactions_context['time_decay_weight'].max(),\n",
        "        interactions_context['frequency_weight'].max(),\n",
        "        interactions_context['content_type_weight'].max(),\n",
        "        interactions_context['content_recency_weight'].max(),\n",
        "        interactions_context['age_rating_weight'].max(),\n",
        "        interactions_context['implicit_combined'].max(),\n",
        "        interactions_context['final_weight'].max(),\n",
        "        interactions_context['implicit_normalized'].max(),\n",
        "        interactions_context['full_context_normalized'].max()\n",
        "    ],\n",
        "    'Медиана': [\n",
        "        interactions_context['duration_weight'].median(),\n",
        "        interactions_context['completion_weight'].median(),\n",
        "        interactions_context['time_decay_weight'].median(),\n",
        "        interactions_context['frequency_weight'].median(),\n",
        "        interactions_context['content_type_weight'].median(),\n",
        "        interactions_context['content_recency_weight'].median(),\n",
        "        interactions_context['age_rating_weight'].median(),\n",
        "        interactions_context['implicit_combined'].median(),\n",
        "        interactions_context['final_weight'].median(),\n",
        "        interactions_context['implicit_normalized'].median(),\n",
        "        interactions_context['full_context_normalized'].median()\n",
        "    ]\n",
        "})\n",
        "\n",
        "print(\"СТАТИСТИКИ ВЕСОВ ПО ВСЕМУ ДАТАСЕТУ:\")\n",
        "display(weights_stats.round(4))"
      ],
      "metadata": {
        "colab": {
          "base_uri": "https://localhost:8080/"
        },
        "id": "rVM5DRZOs5mF",
        "outputId": "a8ccdc7a-86fc-4234-ea14-309c082bbb66"
      },
      "execution_count": null,
      "outputs": [
        {
          "output_type": "stream",
          "name": "stdout",
          "text": [
            "СТАТИСТИКИ ВЕСОВ ПО ВСЕМУ ДАТАСЕТУ:\n"
          ]
        },
        {
          "output_type": "display_data",
          "data": {
            "text/plain": [
              "                        Тип веса  Мин. значение  Макс. значение  Медиана\n",
              "0              Продолжительность         0.0100          1.0000   0.8000\n",
              "1                  Завершенность         0.0100          1.0000   0.4000\n",
              "2                      Временной         0.0237          1.0000   0.2939\n",
              "3                      Частотный         0.6931          0.6931   0.6931\n",
              "4                   Тип контента         1.0000          1.1000   1.0000\n",
              "5              Свежесть контента         0.0052          1.0000   0.8607\n",
              "6             Возрастной рейтинг         1.0000          1.0500   1.0300\n",
              "7        Комбинированный неявный         0.0000          1.0000   0.0650\n",
              "8            Полный с контекстом         0.0000          1.1440   0.0515\n",
              "9        Нормализованный неявный         0.0000          1.0000   0.1737\n",
              "10  Нормализованный с контекстом         0.0000          1.0000   0.1699"
            ],
            "text/html": [
              "\n",
              "  <div id=\"df-9cd53e88-4a3a-4087-82db-8bf4de4a10c8\" class=\"colab-df-container\">\n",
              "    <div>\n",
              "<style scoped>\n",
              "    .dataframe tbody tr th:only-of-type {\n",
              "        vertical-align: middle;\n",
              "    }\n",
              "\n",
              "    .dataframe tbody tr th {\n",
              "        vertical-align: top;\n",
              "    }\n",
              "\n",
              "    .dataframe thead th {\n",
              "        text-align: right;\n",
              "    }\n",
              "</style>\n",
              "<table border=\"1\" class=\"dataframe\">\n",
              "  <thead>\n",
              "    <tr style=\"text-align: right;\">\n",
              "      <th></th>\n",
              "      <th>Тип веса</th>\n",
              "      <th>Мин. значение</th>\n",
              "      <th>Макс. значение</th>\n",
              "      <th>Медиана</th>\n",
              "    </tr>\n",
              "  </thead>\n",
              "  <tbody>\n",
              "    <tr>\n",
              "      <th>0</th>\n",
              "      <td>Продолжительность</td>\n",
              "      <td>0.0100</td>\n",
              "      <td>1.0000</td>\n",
              "      <td>0.8000</td>\n",
              "    </tr>\n",
              "    <tr>\n",
              "      <th>1</th>\n",
              "      <td>Завершенность</td>\n",
              "      <td>0.0100</td>\n",
              "      <td>1.0000</td>\n",
              "      <td>0.4000</td>\n",
              "    </tr>\n",
              "    <tr>\n",
              "      <th>2</th>\n",
              "      <td>Временной</td>\n",
              "      <td>0.0237</td>\n",
              "      <td>1.0000</td>\n",
              "      <td>0.2939</td>\n",
              "    </tr>\n",
              "    <tr>\n",
              "      <th>3</th>\n",
              "      <td>Частотный</td>\n",
              "      <td>0.6931</td>\n",
              "      <td>0.6931</td>\n",
              "      <td>0.6931</td>\n",
              "    </tr>\n",
              "    <tr>\n",
              "      <th>4</th>\n",
              "      <td>Тип контента</td>\n",
              "      <td>1.0000</td>\n",
              "      <td>1.1000</td>\n",
              "      <td>1.0000</td>\n",
              "    </tr>\n",
              "    <tr>\n",
              "      <th>5</th>\n",
              "      <td>Свежесть контента</td>\n",
              "      <td>0.0052</td>\n",
              "      <td>1.0000</td>\n",
              "      <td>0.8607</td>\n",
              "    </tr>\n",
              "    <tr>\n",
              "      <th>6</th>\n",
              "      <td>Возрастной рейтинг</td>\n",
              "      <td>1.0000</td>\n",
              "      <td>1.0500</td>\n",
              "      <td>1.0300</td>\n",
              "    </tr>\n",
              "    <tr>\n",
              "      <th>7</th>\n",
              "      <td>Комбинированный неявный</td>\n",
              "      <td>0.0000</td>\n",
              "      <td>1.0000</td>\n",
              "      <td>0.0650</td>\n",
              "    </tr>\n",
              "    <tr>\n",
              "      <th>8</th>\n",
              "      <td>Полный с контекстом</td>\n",
              "      <td>0.0000</td>\n",
              "      <td>1.1440</td>\n",
              "      <td>0.0515</td>\n",
              "    </tr>\n",
              "    <tr>\n",
              "      <th>9</th>\n",
              "      <td>Нормализованный неявный</td>\n",
              "      <td>0.0000</td>\n",
              "      <td>1.0000</td>\n",
              "      <td>0.1737</td>\n",
              "    </tr>\n",
              "    <tr>\n",
              "      <th>10</th>\n",
              "      <td>Нормализованный с контекстом</td>\n",
              "      <td>0.0000</td>\n",
              "      <td>1.0000</td>\n",
              "      <td>0.1699</td>\n",
              "    </tr>\n",
              "  </tbody>\n",
              "</table>\n",
              "</div>\n",
              "    <div class=\"colab-df-buttons\">\n",
              "\n",
              "  <div class=\"colab-df-container\">\n",
              "    <button class=\"colab-df-convert\" onclick=\"convertToInteractive('df-9cd53e88-4a3a-4087-82db-8bf4de4a10c8')\"\n",
              "            title=\"Convert this dataframe to an interactive table.\"\n",
              "            style=\"display:none;\">\n",
              "\n",
              "  <svg xmlns=\"http://www.w3.org/2000/svg\" height=\"24px\" viewBox=\"0 -960 960 960\">\n",
              "    <path d=\"M120-120v-720h720v720H120Zm60-500h600v-160H180v160Zm220 220h160v-160H400v160Zm0 220h160v-160H400v160ZM180-400h160v-160H180v160Zm440 0h160v-160H620v160ZM180-180h160v-160H180v160Zm440 0h160v-160H620v160Z\"/>\n",
              "  </svg>\n",
              "    </button>\n",
              "\n",
              "  <style>\n",
              "    .colab-df-container {\n",
              "      display:flex;\n",
              "      gap: 12px;\n",
              "    }\n",
              "\n",
              "    .colab-df-convert {\n",
              "      background-color: #E8F0FE;\n",
              "      border: none;\n",
              "      border-radius: 50%;\n",
              "      cursor: pointer;\n",
              "      display: none;\n",
              "      fill: #1967D2;\n",
              "      height: 32px;\n",
              "      padding: 0 0 0 0;\n",
              "      width: 32px;\n",
              "    }\n",
              "\n",
              "    .colab-df-convert:hover {\n",
              "      background-color: #E2EBFA;\n",
              "      box-shadow: 0px 1px 2px rgba(60, 64, 67, 0.3), 0px 1px 3px 1px rgba(60, 64, 67, 0.15);\n",
              "      fill: #174EA6;\n",
              "    }\n",
              "\n",
              "    .colab-df-buttons div {\n",
              "      margin-bottom: 4px;\n",
              "    }\n",
              "\n",
              "    [theme=dark] .colab-df-convert {\n",
              "      background-color: #3B4455;\n",
              "      fill: #D2E3FC;\n",
              "    }\n",
              "\n",
              "    [theme=dark] .colab-df-convert:hover {\n",
              "      background-color: #434B5C;\n",
              "      box-shadow: 0px 1px 3px 1px rgba(0, 0, 0, 0.15);\n",
              "      filter: drop-shadow(0px 1px 2px rgba(0, 0, 0, 0.3));\n",
              "      fill: #FFFFFF;\n",
              "    }\n",
              "  </style>\n",
              "\n",
              "    <script>\n",
              "      const buttonEl =\n",
              "        document.querySelector('#df-9cd53e88-4a3a-4087-82db-8bf4de4a10c8 button.colab-df-convert');\n",
              "      buttonEl.style.display =\n",
              "        google.colab.kernel.accessAllowed ? 'block' : 'none';\n",
              "\n",
              "      async function convertToInteractive(key) {\n",
              "        const element = document.querySelector('#df-9cd53e88-4a3a-4087-82db-8bf4de4a10c8');\n",
              "        const dataTable =\n",
              "          await google.colab.kernel.invokeFunction('convertToInteractive',\n",
              "                                                    [key], {});\n",
              "        if (!dataTable) return;\n",
              "\n",
              "        const docLinkHtml = 'Like what you see? Visit the ' +\n",
              "          '<a target=\"_blank\" href=https://colab.research.google.com/notebooks/data_table.ipynb>data table notebook</a>'\n",
              "          + ' to learn more about interactive tables.';\n",
              "        element.innerHTML = '';\n",
              "        dataTable['output_type'] = 'display_data';\n",
              "        await google.colab.output.renderOutput(dataTable, element);\n",
              "        const docLink = document.createElement('div');\n",
              "        docLink.innerHTML = docLinkHtml;\n",
              "        element.appendChild(docLink);\n",
              "      }\n",
              "    </script>\n",
              "  </div>\n",
              "\n",
              "\n",
              "    <div id=\"df-b4f7cc37-def3-49bc-802b-aac15697c903\">\n",
              "      <button class=\"colab-df-quickchart\" onclick=\"quickchart('df-b4f7cc37-def3-49bc-802b-aac15697c903')\"\n",
              "                title=\"Suggest charts\"\n",
              "                style=\"display:none;\">\n",
              "\n",
              "<svg xmlns=\"http://www.w3.org/2000/svg\" height=\"24px\"viewBox=\"0 0 24 24\"\n",
              "     width=\"24px\">\n",
              "    <g>\n",
              "        <path d=\"M19 3H5c-1.1 0-2 .9-2 2v14c0 1.1.9 2 2 2h14c1.1 0 2-.9 2-2V5c0-1.1-.9-2-2-2zM9 17H7v-7h2v7zm4 0h-2V7h2v10zm4 0h-2v-4h2v4z\"/>\n",
              "    </g>\n",
              "</svg>\n",
              "      </button>\n",
              "\n",
              "<style>\n",
              "  .colab-df-quickchart {\n",
              "      --bg-color: #E8F0FE;\n",
              "      --fill-color: #1967D2;\n",
              "      --hover-bg-color: #E2EBFA;\n",
              "      --hover-fill-color: #174EA6;\n",
              "      --disabled-fill-color: #AAA;\n",
              "      --disabled-bg-color: #DDD;\n",
              "  }\n",
              "\n",
              "  [theme=dark] .colab-df-quickchart {\n",
              "      --bg-color: #3B4455;\n",
              "      --fill-color: #D2E3FC;\n",
              "      --hover-bg-color: #434B5C;\n",
              "      --hover-fill-color: #FFFFFF;\n",
              "      --disabled-bg-color: #3B4455;\n",
              "      --disabled-fill-color: #666;\n",
              "  }\n",
              "\n",
              "  .colab-df-quickchart {\n",
              "    background-color: var(--bg-color);\n",
              "    border: none;\n",
              "    border-radius: 50%;\n",
              "    cursor: pointer;\n",
              "    display: none;\n",
              "    fill: var(--fill-color);\n",
              "    height: 32px;\n",
              "    padding: 0;\n",
              "    width: 32px;\n",
              "  }\n",
              "\n",
              "  .colab-df-quickchart:hover {\n",
              "    background-color: var(--hover-bg-color);\n",
              "    box-shadow: 0 1px 2px rgba(60, 64, 67, 0.3), 0 1px 3px 1px rgba(60, 64, 67, 0.15);\n",
              "    fill: var(--button-hover-fill-color);\n",
              "  }\n",
              "\n",
              "  .colab-df-quickchart-complete:disabled,\n",
              "  .colab-df-quickchart-complete:disabled:hover {\n",
              "    background-color: var(--disabled-bg-color);\n",
              "    fill: var(--disabled-fill-color);\n",
              "    box-shadow: none;\n",
              "  }\n",
              "\n",
              "  .colab-df-spinner {\n",
              "    border: 2px solid var(--fill-color);\n",
              "    border-color: transparent;\n",
              "    border-bottom-color: var(--fill-color);\n",
              "    animation:\n",
              "      spin 1s steps(1) infinite;\n",
              "  }\n",
              "\n",
              "  @keyframes spin {\n",
              "    0% {\n",
              "      border-color: transparent;\n",
              "      border-bottom-color: var(--fill-color);\n",
              "      border-left-color: var(--fill-color);\n",
              "    }\n",
              "    20% {\n",
              "      border-color: transparent;\n",
              "      border-left-color: var(--fill-color);\n",
              "      border-top-color: var(--fill-color);\n",
              "    }\n",
              "    30% {\n",
              "      border-color: transparent;\n",
              "      border-left-color: var(--fill-color);\n",
              "      border-top-color: var(--fill-color);\n",
              "      border-right-color: var(--fill-color);\n",
              "    }\n",
              "    40% {\n",
              "      border-color: transparent;\n",
              "      border-right-color: var(--fill-color);\n",
              "      border-top-color: var(--fill-color);\n",
              "    }\n",
              "    60% {\n",
              "      border-color: transparent;\n",
              "      border-right-color: var(--fill-color);\n",
              "    }\n",
              "    80% {\n",
              "      border-color: transparent;\n",
              "      border-right-color: var(--fill-color);\n",
              "      border-bottom-color: var(--fill-color);\n",
              "    }\n",
              "    90% {\n",
              "      border-color: transparent;\n",
              "      border-bottom-color: var(--fill-color);\n",
              "    }\n",
              "  }\n",
              "</style>\n",
              "\n",
              "      <script>\n",
              "        async function quickchart(key) {\n",
              "          const quickchartButtonEl =\n",
              "            document.querySelector('#' + key + ' button');\n",
              "          quickchartButtonEl.disabled = true;  // To prevent multiple clicks.\n",
              "          quickchartButtonEl.classList.add('colab-df-spinner');\n",
              "          try {\n",
              "            const charts = await google.colab.kernel.invokeFunction(\n",
              "                'suggestCharts', [key], {});\n",
              "          } catch (error) {\n",
              "            console.error('Error during call to suggestCharts:', error);\n",
              "          }\n",
              "          quickchartButtonEl.classList.remove('colab-df-spinner');\n",
              "          quickchartButtonEl.classList.add('colab-df-quickchart-complete');\n",
              "        }\n",
              "        (() => {\n",
              "          let quickchartButtonEl =\n",
              "            document.querySelector('#df-b4f7cc37-def3-49bc-802b-aac15697c903 button');\n",
              "          quickchartButtonEl.style.display =\n",
              "            google.colab.kernel.accessAllowed ? 'block' : 'none';\n",
              "        })();\n",
              "      </script>\n",
              "    </div>\n",
              "    </div>\n",
              "  </div>\n"
            ],
            "application/vnd.google.colaboratory.intrinsic+json": {
              "type": "dataframe",
              "summary": "{\n  \"name\": \"display(weights_stats\",\n  \"rows\": 11,\n  \"fields\": [\n    {\n      \"column\": \"\\u0422\\u0438\\u043f \\u0432\\u0435\\u0441\\u0430\",\n      \"properties\": {\n        \"dtype\": \"string\",\n        \"num_unique_values\": 11,\n        \"samples\": [\n          \"\\u0421\\u0432\\u0435\\u0436\\u0435\\u0441\\u0442\\u044c \\u043a\\u043e\\u043d\\u0442\\u0435\\u043d\\u0442\\u0430\",\n          \"\\u041f\\u0440\\u043e\\u0434\\u043e\\u043b\\u0436\\u0438\\u0442\\u0435\\u043b\\u044c\\u043d\\u043e\\u0441\\u0442\\u044c\",\n          \"\\u041d\\u043e\\u0440\\u043c\\u0430\\u043b\\u0438\\u0437\\u043e\\u0432\\u0430\\u043d\\u043d\\u044b\\u0439 \\u043d\\u0435\\u044f\\u0432\\u043d\\u044b\\u0439\"\n        ],\n        \"semantic_type\": \"\",\n        \"description\": \"\"\n      }\n    },\n    {\n      \"column\": \"\\u041c\\u0438\\u043d. \\u0437\\u043d\\u0430\\u0447\\u0435\\u043d\\u0438\\u0435\",\n      \"properties\": {\n        \"dtype\": \"number\",\n        \"std\": 0.4239894481963179,\n        \"min\": 0.0,\n        \"max\": 1.0,\n        \"num_unique_values\": 6,\n        \"samples\": [\n          0.01,\n          0.0237,\n          0.0\n        ],\n        \"semantic_type\": \"\",\n        \"description\": \"\"\n      }\n    },\n    {\n      \"column\": \"\\u041c\\u0430\\u043a\\u0441. \\u0437\\u043d\\u0430\\u0447\\u0435\\u043d\\u0438\\u0435\",\n      \"properties\": {\n        \"dtype\": \"number\",\n        \"std\": 0.11287536569959886,\n        \"min\": 0.6931,\n        \"max\": 1.144,\n        \"num_unique_values\": 5,\n        \"samples\": [\n          0.6931,\n          1.144,\n          1.1\n        ],\n        \"semantic_type\": \"\",\n        \"description\": \"\"\n      }\n    },\n    {\n      \"column\": \"\\u041c\\u0435\\u0434\\u0438\\u0430\\u043d\\u0430\",\n      \"properties\": {\n        \"dtype\": \"number\",\n        \"std\": 0.38032280571306076,\n        \"min\": 0.0515,\n        \"max\": 1.03,\n        \"num_unique_values\": 11,\n        \"samples\": [\n          0.8607,\n          0.8,\n          0.1737\n        ],\n        \"semantic_type\": \"\",\n        \"description\": \"\"\n      }\n    }\n  ]\n}"
            }
          },
          "metadata": {}
        }
      ]
    },
    {
      "cell_type": "markdown",
      "source": [
        "### 7.3 ВИЗУАЛИЗАЦИЯ РАСПРЕДЕЛЕНИЯ ВЕСОВ"
      ],
      "metadata": {
        "id": "3dXX7zPCtvw1"
      }
    },
    {
      "cell_type": "code",
      "source": [
        "fig, axes = plt.subplots(3, 2, figsize=(15, 12))\n",
        "\n",
        "# базовые неявные веса\n",
        "axes[0,0].hist(interactions_context['duration_weight'], bins=20, alpha=0.7)\n",
        "axes[0,0].set_title('Распределение весов продолжительности')\n",
        "axes[0,0].set_xlabel('Вес')\n",
        "\n",
        "axes[0,1].hist(interactions_context['completion_weight'], bins=20, alpha=0.7)\n",
        "axes[0,1].set_title('Распределение весов завершенности')\n",
        "axes[0,1].set_xlabel('Вес')\n",
        "\n",
        "# контекстные веса\n",
        "axes[1,0].hist(interactions_context['content_type_weight'], bins=20, alpha=0.7)\n",
        "axes[1,0].set_title('Распределение весов типа контента')\n",
        "axes[1,0].set_xlabel('Вес')\n",
        "\n",
        "axes[1,1].hist(interactions_context['content_recency_weight'], bins=20, alpha=0.7)\n",
        "axes[1,1].set_title('Распределение весов свежести контента')\n",
        "axes[1,1].set_xlabel('Вес')\n",
        "\n",
        "# итоговые веса\n",
        "axes[2,0].hist(interactions_context['implicit_normalized'], bins=50, alpha=0.7, label='Только неявные', log=True)\n",
        "axes[2,0].hist(interactions_context['full_context_normalized'], bins=50, alpha=0.7, label='С контекстом', log=True)\n",
        "axes[2,0].set_title('Сравнение итоговых весов')\n",
        "axes[2,0].set_xlabel('Нормализованный вес')\n",
        "axes[2,0].set_ylabel('Частота (лог)')\n",
        "axes[2,0].legend()\n",
        "\n",
        "# корреляция между методами\n",
        "sample_weights = interactions_context.sample(1000, random_state=42)\n",
        "axes[2,1].scatter(sample_weights['implicit_normalized'], sample_weights['full_context_normalized'], alpha=0.5)\n",
        "max_val = max(sample_weights['implicit_normalized'].max(), sample_weights['full_context_normalized'].max())\n",
        "axes[2,1].plot([0, max_val], [0, max_val], 'r--', alpha=0.8)\n",
        "axes[2,1].set_title('Корреляция: неявные vs с контекстом')\n",
        "axes[2,1].set_xlabel('Только неявные признаки')\n",
        "axes[2,1].set_ylabel('Неявные + контекстные')\n",
        "\n",
        "plt.tight_layout()\n",
        "plt.show()"
      ],
      "metadata": {
        "colab": {
          "base_uri": "https://localhost:8080/",
          "height": 908
        },
        "id": "At8vQFGktuIz",
        "outputId": "24b65021-2d0f-4cf0-9732-62622a9e73e4"
      },
      "execution_count": null,
      "outputs": [
        {
          "output_type": "display_data",
          "data": {
            "text/plain": [
              "<Figure size 1500x1200 with 6 Axes>"
            ],
            "image/png": "[encoded data removed]"
          },
          "metadata": {}
        }
      ]
    },
    {
      "cell_type": "markdown",
      "source": [
        "### 7.4 АНАЛИЗ ВЛИЯНИЯ КОНТЕКСТА НА РАНЖИРОВАНИЕ"
      ],
      "metadata": {
        "id": "DjLA4yQDuAqu"
      }
    },
    {
      "cell_type": "code",
      "source": [
        "# конкретный пользователь для анализа\n",
        "test_user_id = interactions_titles['user_id'].iloc[0]\n",
        "user_interactions = interactions_titles[interactions_titles['user_id'] == test_user_id]\n",
        "\n",
        "# ранжируем по разным методам\n",
        "user_ranked = user_interactions.nlargest(5, 'implicit_normalized')[[\n",
        "    'item_id', 'title_short', 'genres_formatted', 'content_type', 'release_year', 'implicit_normalized'\n",
        "]]\n",
        "user_ranked_context = user_interactions.nlargest(5, 'full_context_normalized')[[\n",
        "    'item_id', 'title_short', 'genres_formatted', 'content_type', 'release_year', 'full_context_normalized'\n",
        "]]\n",
        "\n",
        "print(f\"\\n АНАЛИЗ РАНЖИРОВАНИЯ ДЛЯ ПОЛЬЗОВАТЕЛЯ {test_user_id}:\")\n",
        "print(\"=\"*100)\n",
        "\n",
        "print(\" ТОП-5 ПО НЕЯВНЫМ ПРИЗНАКАМ (продолжительность + завершенность + время):\")\n",
        "for i, (_, row) in enumerate(user_ranked.iterrows(), 1):\n",
        "    print(f\"   {i}. '{row['title_short']}'\")\n",
        "    print(f\"      Жанры: {row['genres_formatted']}, {row['content_type']} ({row['release_year']:.0f})\")\n",
        "    print(f\"      Вес: {row['implicit_normalized']:.6f}\")\n",
        "\n",
        "print(\"\\n ТОП-5 ПО ПРИЗНАКАМ С КОНТЕКСТОМ (+ тип контента + свежесть + возраст):\")\n",
        "for i, (_, row) in enumerate(user_ranked_context.iterrows(), 1):\n",
        "    print(f\"   {i}. '{row['title_short']}'\")\n",
        "    print(f\"      Жанры: {row['genres_formatted']}, {row['content_type']} ({row['release_year']:.0f})\")\n",
        "    print(f\"      Вес: {row['full_context_normalized']:.6f}\")\n",
        "\n",
        "# анализ изменений в ранжировании\n",
        "print(\"\\n ИЗМЕНЕНИЯ В РАНЖИРОВАНИИ ПРИ УЧЕТЕ КОНТЕКСТА:\")\n",
        "common_items = set(user_ranked['item_id']).intersection(set(user_ranked_context['item_id']))\n",
        "\n",
        "if common_items:\n",
        "    for item_id in common_items:\n",
        "        item_info = items_titles[items_titles['item_id'] == item_id].iloc[0]\n",
        "        rank_implicit = user_ranked[user_ranked['item_id'] == item_id].index[0] + 1\n",
        "        rank_context = user_ranked_context[user_ranked_context['item_id'] == item_id].index[0] + 1\n",
        "        change = rank_implicit - rank_context\n",
        "\n",
        "        weight_implicit = user_ranked[user_ranked['item_id'] == item_id]['implicit_normalized'].iloc[0]\n",
        "        weight_context = user_ranked_context[user_ranked_context['item_id'] == item_id]['full_context_normalized'].iloc[0]\n",
        "        weight_change = weight_context - weight_implicit\n",
        "\n",
        "        if change > 0:\n",
        "            print(f\"    '{item_info['title_short']}' поднялся с {rank_implicit} на {rank_context} место\")\n",
        "            print(f\"      Усиление веса: {weight_change:.6f} (×{weight_context/weight_implicit:.2f})\")\n",
        "        elif change < 0:\n",
        "            print(f\"    '{item_info['title_short']}' опустился с {rank_implicit} на {rank_context} место\")\n",
        "            print(f\"      Ослабление веса: {weight_change:.6f} (×{weight_context/weight_implicit:.2f})\")\n",
        "        else:\n",
        "            print(f\"    '{item_info['title_short']}' остался на {rank_implicit} месте\")\n",
        "            print(f\"      Стабильный вес: {weight_context:.6f}\")\n",
        "else:\n",
        "    print(\"    Ранжирование полностью изменилось! Контекст кардинально повлиял на рекомендации.\")\n",
        "\n",
        "# Анализ новых элементов в топе\n",
        "new_in_top = set(user_ranked_context['item_id']) - set(user_ranked['item_id'])\n",
        "if new_in_top:\n",
        "    print(f\"\\n НОВЫЕ В ТОПЕ С КОНТЕКСТОМ:\")\n",
        "    for item_id in new_in_top:\n",
        "        item_info = items_titles[items_titles['item_id'] == item_id].iloc[0]\n",
        "        rank = user_ranked_context[user_ranked_context['item_id'] == item_id].index[0] + 1\n",
        "        print(f\"   {rank}. '{item_info['title_short']}' - появился в топе благодаря контексту\")"
      ],
      "metadata": {
        "colab": {
          "base_uri": "https://localhost:8080/"
        },
        "id": "IdAfuRtDuJeW",
        "outputId": "4a35e999-ce1b-4cf4-8aac-5a711f1b3831"
      },
      "execution_count": null,
      "outputs": [
        {
          "output_type": "stream",
          "name": "stdout",
          "text": [
            "\n",
            " АНАЛИЗ РАНЖИРОВАНИЯ ДЛЯ ПОЛЬЗОВАТЕЛЯ 176549:\n",
            "====================================================================================================\n",
            " ТОП-5 ПО НЕЯВНЫМ ПРИЗНАКАМ (продолжительность + завершенность + время):\n",
            "   1. 'Моана...'\n",
            "      Жанры: мультфильм, фэнтези, мюзиклы, film (2016)\n",
            "      Вес: 0.156639\n",
            "   2. 'Дом...'\n",
            "      Жанры: фантастика, мультфильм, приключения, комедии, film (2015)\n",
            "      Вес: 0.082024\n",
            "   3. 'В поисках Дори...'\n",
            "      Жанры: мультфильм, приключения, комедии, film (2016)\n",
            "      Вес: 0.078320\n",
            "   4. 'На линии огня...'\n",
            "      Жанры: боевики, триллеры, film (2015)\n",
            "      Вес: 0.071044\n",
            "   5. 'Безбашенная пуля...'\n",
            "      Жанры: боевики, триллеры, film (2019)\n",
            "      Вес: 0.059054\n",
            "\n",
            " ТОП-5 ПО ПРИЗНАКАМ С КОНТЕКСТОМ (+ тип контента + свежесть + возраст):\n",
            "   1. 'Моана...'\n",
            "      Жанры: мультфильм, фэнтези, мюзиклы, film (2016)\n",
            "      Вес: 0.173362\n",
            "   2. 'В поисках Дори...'\n",
            "      Жанры: мультфильм, приключения, комедии, film (2016)\n",
            "      Вес: 0.086681\n",
            "   3. 'Дом...'\n",
            "      Жанры: фантастика, мультфильм, приключения, комедии, film (2015)\n",
            "      Вес: 0.086353\n",
            "   4. 'Безбашенная пуля...'\n",
            "      Жанры: боевики, триллеры, film (2019)\n",
            "      Вес: 0.077440\n",
            "   5. 'На линии огня...'\n",
            "      Жанры: боевики, триллеры, film (2015)\n",
            "      Вес: 0.077015\n",
            "\n",
            " ИЗМЕНЕНИЯ В РАНЖИРОВАНИИ ПРИ УЧЕТЕ КОНТЕКСТА:\n",
            "    'Моана...' остался на 750946 месте\n",
            "      Стабильный вес: 0.173362\n",
            "    'В поисках Дори...' остался на 1223969 месте\n",
            "      Стабильный вес: 0.086681\n",
            "    'Безбашенная пуля...' остался на 3816 месте\n",
            "      Стабильный вес: 0.077440\n",
            "    'Дом...' остался на 513219 месте\n",
            "      Стабильный вес: 0.086353\n",
            "    'На линии огня...' остался на 514493 месте\n",
            "      Стабильный вес: 0.077015\n"
          ]
        }
      ]
    },
    {
      "cell_type": "markdown",
      "source": [
        "### 7.5 АНАЛИЗ ТИПИЧНЫХ СЦЕНАРИЕВ УСИЛЕНИЯ КОНТЕКСТОМ"
      ],
      "metadata": {
        "id": "k1kyy1eI7U0g"
      }
    },
    {
      "cell_type": "code",
      "source": [
        "# примеры с максимальным усилением от контекста\n",
        "interactions_titles['context_enhancement'] = interactions_titles['full_context_normalized'] / interactions_titles['implicit_normalized']\n",
        "top_enhanced = interactions_titles.nlargest(3, 'context_enhancement')\n",
        "\n",
        "print(\" СЦЕНАРИИ МАКСИМАЛЬНОГО УСИЛЕНИЯ КОНТЕКСТОМ:\")\n",
        "for i, (_, row) in enumerate(top_enhanced.iterrows(), 1):\n",
        "    enhancement = row['context_enhancement']\n",
        "    print(f\"\\n{i}. УСИЛЕНИЕ ×{enhancement:.2f}: '{row['title_short']}'\")\n",
        "    print(f\"   • Причина усиления: {row['content_type']} + {row['release_year']:.0f} год + {row['age_rating']:.0f}+\")\n",
        "    print(f\"   • Неявный вес: {row['implicit_normalized']:.6f} → С контекстом: {row['full_context_normalized']:.6f}\")\n",
        "    print(f\"   • Жанры: {row['genres_formatted']}\")\n",
        "\n",
        "# анализ каких типов контент больше всего выигрывает от контекста\n",
        "enhancement_by_type = interactions_titles.groupby('content_type')['context_enhancement'].median()\n",
        "print(f\"\\n СРЕДНЕЕ УСИЛЕНИЕ ПО ТИПАМ КОНТЕНТА:\")\n",
        "for content_type, enhancement in enhancement_by_type.items():\n",
        "    print(f\"   • {content_type}: ×{enhancement:.2f}\")"
      ],
      "metadata": {
        "colab": {
          "base_uri": "https://localhost:8080/"
        },
        "id": "iFCuG7yW7Zcb",
        "outputId": "54e64977-19ba-46bd-ae7e-fd815ae0b34f"
      },
      "execution_count": null,
      "outputs": [
        {
          "output_type": "stream",
          "name": "stdout",
          "text": [
            " СЦЕНАРИИ МАКСИМАЛЬНОГО УСИЛЕНИЯ КОНТЕКСТОМ:\n",
            "\n",
            "1. УСИЛЕНИЕ ×69.14: 'Девятаев - сериал...'\n",
            "   • Причина усиления: series + 2021 год + 12+\n",
            "   • Неявный вес: 0.000164 → С контекстом: 0.011346\n",
            "   • Жанры: драмы, военные, приключения\n",
            "\n",
            "2. УСИЛЕНИЕ ×66.97: 'ЖАRА...'\n",
            "   • Причина усиления: film + 2006 год + 12+\n",
            "   • Неявный вес: 0.001248 → С контекстом: 0.083603\n",
            "   • Жанры: комедии\n",
            "\n",
            "3. УСИЛЕНИЕ ×65.46: 'В центре внимания...'\n",
            "   • Причина усиления: film + 2016 год + 18+\n",
            "   • Неявный вес: 0.000432 → С контекстом: 0.028256\n",
            "   • Жанры: драмы, биография, криминал\n",
            "\n",
            " СРЕДНЕЕ УСИЛЕНИЕ ПО ТИПАМ КОНТЕНТА:\n",
            "   • film: ×1.00\n",
            "   • series: ×1.00\n"
          ]
        }
      ]
    },
    {
      "cell_type": "markdown",
      "source": [
        "## 8. ВИЗУАЛИЗАЦИЯ РЕЗУЛЬТАТОВ"
      ],
      "metadata": {
        "id": "2Bg3iCJTlgrG"
      }
    },
    {
      "cell_type": "code",
      "source": [
        "fig, axes = plt.subplots(2, 2, figsize=(12, 8))\n",
        "\n",
        "# 8.1 сравнение распределения весов\n",
        "axes[0,0].hist(matrix_implicit.data, bins=50, alpha=0.7, label='Только неявные', log=True)\n",
        "axes[0,0].hist(matrix_full_context.data, bins=50, alpha=0.7, label='Неявные + контекст', log=True)\n",
        "axes[0,0].set_title('Распределение весов взаимодействий')\n",
        "axes[0,0].set_xlabel('Вес')\n",
        "axes[0,0].set_ylabel('Частота')\n",
        "axes[0,0].legend()\n",
        "\n",
        "# 8.2 влияние контекста на веса\n",
        "sample_data = interactions_context.sample(1000, random_state=42)\n",
        "axes[0,1].scatter(sample_data['implicit_normalized'], sample_data['full_context_normalized'], alpha=0.5)\n",
        "axes[0,1].plot([0, sample_data['implicit_normalized'].max()], [0, sample_data['implicit_normalized'].max()], 'r--')\n",
        "axes[0,1].set_title('Влияние контекста на веса')\n",
        "axes[0,1].set_xlabel('Только неявные признаки')\n",
        "axes[0,1].set_ylabel('Неявные + контекстные')\n",
        "\n",
        "# 8.3 активность пользователей\n",
        "user_activity_implicit = interactions_context.groupby('user_id')['implicit_combined'].sum()\n",
        "user_activity_full = interactions_context.groupby('user_id')['final_weight'].sum()\n",
        "\n",
        "axes[1,0].hist(user_activity_implicit, bins=50, alpha=0.7, label='Только неявные', log=True)\n",
        "axes[1,0].hist(user_activity_full, bins=50, alpha=0.7, label='Неявные + контекст', log=True)\n",
        "axes[1,0].set_title('Распределение активности пользователей')\n",
        "axes[1,0].set_xlabel('Суммарный вес (без нормализации)')\n",
        "\n",
        "\n",
        "# 8.4 популярность контента\n",
        "item_popularity_implicit = np.array(matrix_implicit.sum(axis=0)).flatten()\n",
        "item_popularity_full = np.array(matrix_full_context.sum(axis=0)).flatten()\n",
        "\n",
        "axes[1,1].hist(item_popularity_implicit, bins=50, alpha=0.7, label='Только неявные', log=True)\n",
        "axes[1,1].hist(item_popularity_full, bins=50, alpha=0.7, label='Неявные + контекст', log=True)\n",
        "axes[1,1].set_title('Распределение популярности контента')\n",
        "axes[1,1].set_xlabel('Суммарный вес')\n",
        "axes[1,1].set_ylabel('Количество элементов')\n",
        "axes[1,1].legend()\n",
        "\n",
        "plt.tight_layout()\n",
        "plt.show()"
      ],
      "metadata": {
        "colab": {
          "base_uri": "https://localhost:8080/"
        },
        "id": "WSkEwymhlnlr",
        "outputId": "69909807-0ab7-451a-daf5-d1b4c716c873"
      },
      "execution_count": null,
      "outputs": [
        {
          "output_type": "display_data",
          "data": {
            "text/plain": [
              "<Figure size 1200x800 with 4 Axes>"
            ],
            "image/png": "[encoded data removed]"
          },
          "metadata": {}
        }
      ]
    },
    {
      "cell_type": "markdown",
      "source": [
        "## 9. СОХРАНЕНИЕ РЕЗУЛЬТАТОВ"
      ],
      "metadata": {
        "id": "tZ23k4F_mvw6"
      }
    },
    {
      "cell_type": "code",
      "source": [
        "save_npz('implicit_interactions_matrix.npz', matrix_implicit)\n",
        "save_npz('full_context_interactions_matrix.npz', matrix_full_context)\n",
        "\n",
        "import pickle\n",
        "with open('user_mapping.pkl', 'wb') as f:\n",
        "    pickle.dump(user_map, f)\n",
        "with open('item_mapping.pkl', 'wb') as f:\n",
        "    pickle.dump(item_map, f)\n",
        "\n",
        "print(\" РЕЗУЛЬТАТЫ СОХРАНЕНЫ:\")\n",
        "print(\"   implicit_interactions_matrix.npz - матрица неявных взаимодействий\")\n",
        "print(\"   full_context_interactions_matrix.npz - матрица с контекстом\")\n",
        "print(\"   user_mapping.pkl, item_mapping.pkl - маппинги идентификаторов\")"
      ],
      "metadata": {
        "colab": {
          "base_uri": "https://localhost:8080/"
        },
        "id": "7J0RbqTumzwh",
        "outputId": "66c61c8b-501c-4498-e784-035cc5770471"
      },
      "execution_count": null,
      "outputs": [
        {
          "output_type": "stream",
          "name": "stdout",
          "text": [
            " РЕЗУЛЬТАТЫ СОХРАНЕНЫ:\n",
            "   implicit_interactions_matrix.npz - матрица неявных взаимодействий\n",
            "   full_context_interactions_matrix.npz - матрица с контекстом\n",
            "   user_mapping.pkl, item_mapping.pkl - маппинги идентификаторов\n"
          ]
        }
      ]
    }
  ]
}