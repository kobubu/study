{
  "nbformat": 4,
  "nbformat_minor": 0,
  "metadata": {
    "colab": {
      "provenance": []
    },
    "kernelspec": {
      "name": "python3",
      "display_name": "Python 3"
    },
    "language_info": {
      "name": "python"
    }
  },
  "cells": [
    {
      "cell_type": "code",
      "execution_count": null,
      "metadata": {
        "id": "AG4bysvi8Rrg"
      },
      "outputs": [],
      "source": [
        "import numpy as np\n",
        "import pandas as pd\n",
        "from sklearn.base import TransformerMixin, BaseEstimator\n",
        "from sklearn.pipeline import Pipeline\n",
        "from sklearn.preprocessing import MinMaxScaler\n",
        "from sklearn.feature_selection import SelectKBest, f_regression\n",
        "from sklearn.linear_model import LinearRegression\n",
        "import pickle\n",
        "\n",
        "# Определяем кастомный трансформер\n",
        "class MyTransformer(TransformerMixin, BaseEstimator):\n",
        "    '''Шаблон кастомного трансформера'''\n",
        "\n",
        "    def __init__(self):\n",
        "        '''Инициализация параметров, не зависящих от данных.'''\n",
        "        pass\n",
        "\n",
        "    def fit(self, X, y=None):\n",
        "        '''Обучение трансформера.'''\n",
        "        return self\n",
        "\n",
        "    def transform(self, X):\n",
        "        '''Действия с данными.'''\n",
        "        # Преобразуем X в numpy.ndarray, если это pandas.DataFrame\n",
        "        if isinstance(X, pd.DataFrame):\n",
        "            X = X.to_numpy()\n",
        "\n",
        "        # Создаём новый столбец как произведение первых трёх столбцов\n",
        "        new_column = X[:, 0] * X[:, 1] * X[:, 2]\n",
        "        # Изменяем размер на (n_rows, 1)\n",
        "        new_column = new_column.reshape(X.shape[0], 1)\n",
        "        # Добавляем столбец в матрицу измерений\n",
        "        X = np.append(X, new_column, axis=1)\n",
        "        return X\n",
        "\n",
        "# Пример данных\n",
        "X = pd.DataFrame(np.random.rand(442, 10))  # Создаем DataFrame для примера\n",
        "y = np.random.rand(442)\n",
        "\n",
        "# Инициализируем объект класса MyTransformer\n",
        "custom_transformer = MyTransformer()\n",
        "# Вызываем метод fit (формально)\n",
        "custom_transformer.fit(X)\n",
        "# Трансформируем исходные данные\n",
        "X_transformed = custom_transformer.transform(X)\n",
        "print('Shape before transform: {}'.format(X.shape))\n",
        "print('Shape after transform: {}'.format(X_transformed.shape))\n",
        "\n",
        "# Создаём пайплайн\n",
        "pipe = Pipeline([\n",
        "    ('FeatureEngineering', MyTransformer()),\n",
        "    ('Scaling', MinMaxScaler()),\n",
        "    ('FeatureSelection', SelectKBest(f_regression, k=5)),\n",
        "    ('Linear', LinearRegression())\n",
        "])\n",
        "\n",
        "# Обучаем пайплайн\n",
        "pipe.fit(X, y)\n",
        "\n",
        "# Сериализуем pipeline и записываем результат в файл\n",
        "with open('my_new_pipeline.pkl', 'wb') as output:\n",
        "    pickle.dump(pipe, output)\n",
        "\n",
        "print(\"Pipeline успешно создан и сохранен.\")"
      ]
    },
    {
      "cell_type": "code",
      "source": [
        "import numpy as np\n",
        "import pickle\n",
        "\n",
        "# Загрузка pipeline из файла\n",
        "with open('my_new_pipeline.pkl', 'rb') as input_file:\n",
        "    loaded_pipe = pickle.load(input_file)\n",
        "\n",
        "# Вектор для предсказания\n",
        "features = np.array([[0.00538306, -0.04464164, 0.05954058, -0.05616605, 0.02457414,\n",
        "                      0.05286081, -0.04340085, 0.05091436, -0.00421986, -0.03007245]])\n",
        "\n",
        "# Предсказание\n",
        "prediction = loaded_pipe.predict(features)\n",
        "\n",
        "# Округление результата\n",
        "rounded_prediction = int(round(prediction[0]))\n",
        "\n",
        "print(\"Предсказанное значение целевой переменной:\", rounded_prediction)"
      ],
      "metadata": {
        "id": "hb04UUeY8VWU"
      },
      "execution_count": null,
      "outputs": []
    }
  ]
}